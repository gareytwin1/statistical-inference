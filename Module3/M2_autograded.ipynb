{
 "cells": [
  {
   "cell_type": "markdown",
   "metadata": {
    "deletable": false,
    "editable": false,
    "nbgrader": {
     "cell_type": "markdown",
     "checksum": "360c92719a4ddf737179f07e61f03398",
     "grade": false,
     "grade_id": "cell-e910b7c06b099a83",
     "locked": true,
     "schema_version": 3,
     "solution": false,
     "task": false
    }
   },
   "source": [
    "# Problem 1\n",
    "\n",
    "Your friend Chip claims to have \"superhuman predictive skills.\" To test his claims, you decide to set up an experiment with coins, where Chip will guess the result of the flip, then you will flip the coin and record whether Chip guessed correctly. Assume all coins are fair.\n",
    "\n",
    "Let $p$ be the proportion of flips that are guessed correctly. In the assignment for module 1, we discerned the null and alternative hypotheses to be:\n",
    "\n",
    "\\begin{align*}\n",
    "    H_0:&\\qquad p = 1/2 \\\\\n",
    "    H_1:&\\qquad p > 1/2\n",
    "\\end{align*}"
   ]
  },
  {
   "cell_type": "markdown",
   "metadata": {
    "deletable": false,
    "editable": false,
    "nbgrader": {
     "cell_type": "markdown",
     "checksum": "226b15da438e24f01d978041f93e294c",
     "grade": false,
     "grade_id": "cell-dd7ec5ff24855781",
     "locked": true,
     "schema_version": 3,
     "solution": false,
     "task": false
    }
   },
   "source": [
    "**Part A)** Suppose we want to perform our hypothesis test at a significance level $\\alpha=0.05$. Which type of test will we perform and which critical region should we use? Save the integer of the correct answer into `p1.a`.\n",
    "\n",
    "1. Upper Tailed Test with critical region above $z_{0.05}$.\n",
    "2. Upper Tailed Test with critical region above $z_{0.95}$.\n",
    "3. Lower Tailed Test with critical region below $z_{0.05}$.\n",
    "4. Lower Tailed Test with critical region below $z_{0.95}$.\n",
    "5. None of the above."
   ]
  },
  {
   "cell_type": "code",
   "execution_count": null,
   "metadata": {
    "deletable": false,
    "nbgrader": {
     "cell_type": "code",
     "checksum": "d707a38f53e6754796a17311b4a1e019",
     "grade": false,
     "grade_id": "cell-73d63231e948a603",
     "locked": false,
     "schema_version": 3,
     "solution": true,
     "task": false
    },
    "vscode": {
     "languageId": "r"
    }
   },
   "outputs": [],
   "source": [
    "p1.a = 2"
   ]
  },
  {
   "cell_type": "markdown",
   "metadata": {
    "deletable": false,
    "editable": false,
    "nbgrader": {
     "cell_type": "markdown",
     "checksum": "99a3fce03badb2973f0bc8c70bd54615",
     "grade": false,
     "grade_id": "cell-e48138c288a78afd",
     "locked": true,
     "schema_version": 3,
     "solution": false,
     "task": false
    }
   },
   "source": [
    "**Part B)** You and Chip sit down, perform the experiment, and find that Chip correctly predicted the results of 60 out of 100 flips. At the $\\alpha=0.05$ significance level, would the test indicate that Chip is or is not psychic? Into variable `p1.b`, save `TRUE` if the test says Chip is psychic and `FALSE` if the test says he is not psychic.\n",
    "\n",
    "Hint: The sample proportion $\\widehat{p}=60/100$ is a sample mean for a sample of size $100$ from the Bernoulli distribution. Use the Central Limit Theorem for a test on a mean."
   ]
  },
  {
   "cell_type": "code",
   "execution_count": 8,
   "metadata": {
    "deletable": false,
    "nbgrader": {
     "cell_type": "code",
     "checksum": "4622f939948c19ce9083ffa85fd741ac",
     "grade": false,
     "grade_id": "cell-4c994a67721d2094",
     "locked": false,
     "schema_version": 3,
     "solution": true,
     "task": false
    },
    "vscode": {
     "languageId": "r"
    }
   },
   "outputs": [
    {
     "data": {
      "text/html": [
       "'SE = 0.05'"
      ],
      "text/latex": [
       "'SE = 0.05'"
      ],
      "text/markdown": [
       "'SE = 0.05'"
      ],
      "text/plain": [
       "[1] \"SE = 0.05\""
      ]
     },
     "metadata": {},
     "output_type": "display_data"
    },
    {
     "data": {
      "text/html": [
       "'z: 2'"
      ],
      "text/latex": [
       "'z: 2'"
      ],
      "text/markdown": [
       "'z: 2'"
      ],
      "text/plain": [
       "[1] \"z: 2\""
      ]
     },
     "metadata": {},
     "output_type": "display_data"
    },
    {
     "data": {
      "text/html": [
       "TRUE"
      ],
      "text/latex": [
       "TRUE"
      ],
      "text/markdown": [
       "TRUE"
      ],
      "text/plain": [
       "[1] TRUE"
      ]
     },
     "metadata": {},
     "output_type": "display_data"
    }
   ],
   "source": [
    "p1.b = NA\n",
    "alpha = 0.05\n",
    "\n",
    "# your code here\n",
    "p = 0.5\n",
    "phat = 60/100\n",
    "n = 100\n",
    "\n",
    "se = sqrt(p*(1-p)/n)\n",
    "paste0(\"SE = \", round(se,4))\n",
    "z = (phat - p)/se\n",
    "paste0(\"z: \", round(z,4))\n",
    "pval = round(1-pnorm(z), 4)\n",
    "\n",
    "p1.b = (pval < alpha)\n",
    "p1.b"
   ]
  },
  {
   "cell_type": "markdown",
   "metadata": {
    "deletable": false,
    "editable": false,
    "nbgrader": {
     "cell_type": "markdown",
     "checksum": "8264e5f6f1b81d496cc906f21f38875f",
     "grade": false,
     "grade_id": "cell-375e66886e79cc57",
     "locked": true,
     "schema_version": 3,
     "solution": false,
     "task": false
    }
   },
   "source": [
    "**Part C)** Suppose that the null hypothesis is actually false. If we where to decrease the significance level to $\\alpha=0.01$, what would happen to the power and to the probability of a Type II error? \n",
    "\n",
    "1. Both the power and the probability of Type II error would increase.\n",
    "2. Both the power and the probability of Type II error would decrease.\n",
    "3. The power would increase and the probability of Type II error would decrease.\n",
    "4. The power would decrease and the probability of Type II error would increase.\n",
    "\n",
    "Save the integer of the correct answer into variable `p1.c`."
   ]
  },
  {
   "cell_type": "code",
   "execution_count": 9,
   "metadata": {
    "deletable": false,
    "nbgrader": {
     "cell_type": "code",
     "checksum": "8a03ed425d330d09cbefd5d6b432a44e",
     "grade": false,
     "grade_id": "cell-6b9e073ee7d3cf08",
     "locked": false,
     "schema_version": 3,
     "solution": true,
     "task": false
    },
    "vscode": {
     "languageId": "r"
    }
   },
   "outputs": [],
   "source": [
    "p1.c = NA\n",
    "\n",
    "# your code here\n",
    "p1.c = 4"
   ]
  },
  {
   "cell_type": "markdown",
   "metadata": {
    "deletable": false,
    "editable": false,
    "nbgrader": {
     "cell_type": "markdown",
     "checksum": "62dd473404d00a77c05a0c019079e44e",
     "grade": false,
     "grade_id": "cell-6be5a0e1025da50f",
     "locked": true,
     "schema_version": 3,
     "solution": false,
     "task": false
    }
   },
   "source": [
    "**Part D)** Out of the 100 flips, what is the minimum number of flips that Chip would need to guess correctly in order to reject the null hypothesis at the $\\alpha=0.01$ significance level? Save your answer as `p1.d`. Round your answer to the nearest whole number."
   ]
  },
  {
   "cell_type": "code",
   "execution_count": 16,
   "metadata": {
    "deletable": false,
    "nbgrader": {
     "cell_type": "code",
     "checksum": "0090b7491442355837508451a3f587ca",
     "grade": false,
     "grade_id": "cell-d611fb1cca6a536f",
     "locked": false,
     "schema_version": 3,
     "solution": true,
     "task": false
    },
    "vscode": {
     "languageId": "r"
    }
   },
   "outputs": [
    {
     "data": {
      "text/html": [
       "0.616317393702042"
      ],
      "text/latex": [
       "0.616317393702042"
      ],
      "text/markdown": [
       "0.616317393702042"
      ],
      "text/plain": [
       "[1] 0.6163174"
      ]
     },
     "metadata": {},
     "output_type": "display_data"
    },
    {
     "data": {
      "text/html": [
       "61.6317393702042"
      ],
      "text/latex": [
       "61.6317393702042"
      ],
      "text/markdown": [
       "61.6317393702042"
      ],
      "text/plain": [
       "[1] 61.63174"
      ]
     },
     "metadata": {},
     "output_type": "display_data"
    },
    {
     "data": {
      "text/html": [
       "62"
      ],
      "text/latex": [
       "62"
      ],
      "text/markdown": [
       "62"
      ],
      "text/plain": [
       "[1] 62"
      ]
     },
     "metadata": {},
     "output_type": "display_data"
    }
   ],
   "source": [
    "p1.d = NA\n",
    "p = 0.5\n",
    "zcrit = qnorm(.99)\n",
    "\n",
    "pcrit = 0.5 + zcrit*(sqrt((p*(1-p))/100))# your code here\n",
    "pcrit\n",
    "\n",
    "xcrit = 100*pcrit\n",
    "xcrit\n",
    "\n",
    "p1.d = round(xcrit, 0)\n",
    "p1.d"
   ]
  },
  {
   "cell_type": "code",
   "execution_count": 17,
   "metadata": {
    "vscode": {
     "languageId": "r"
    }
   },
   "outputs": [
    {
     "data": {
      "text/html": [
       "61.291777220422"
      ],
      "text/latex": [
       "61.291777220422"
      ],
      "text/markdown": [
       "61.291777220422"
      ],
      "text/plain": [
       "[1] 61.29178"
      ]
     },
     "metadata": {},
     "output_type": "display_data"
    }
   ],
   "source": [
    "qnorm(0.99, 0.5, sqrt((62/100)*(1 - 62/100)/100)) * 100"
   ]
  },
  {
   "cell_type": "markdown",
   "metadata": {
    "deletable": false,
    "editable": false,
    "nbgrader": {
     "cell_type": "markdown",
     "checksum": "74c9468789b7928658c768ea32c09999",
     "grade": false,
     "grade_id": "cell-014cd184b8aaf67f",
     "locked": true,
     "schema_version": 3,
     "solution": false,
     "task": false
    }
   },
   "source": [
    "# Problem 2\n",
    "\n",
    "The same model of car is constructed at two different assembly plants, Plant A and Plant B. After extensive research, the life expentancy of cars from Plant A was found to follow a normal distribution, with an average of 250 thousand miles and a standard deviation of 100 thousand miles. Cars from plant B were harder to locate, and you where only able to amass a sample of 100 cars, the sample mean of which was 220 thousand miles. "
   ]
  },
  {
   "cell_type": "markdown",
   "metadata": {
    "deletable": false,
    "editable": false,
    "nbgrader": {
     "cell_type": "markdown",
     "checksum": "30b6b62ae918e931695aa7d11916af28",
     "grade": false,
     "grade_id": "cell-58e8ba4ee20a2ffa",
     "locked": true,
     "schema_version": 3,
     "solution": false,
     "task": false
    }
   },
   "source": [
    "**Part A)** You want to determine if cars from Plant B actually have a shorter life expectancy than those from Plant A. Let $\\mu$ be the true mean life expectancy of cars from Plant B. From the list below, which is the correct hypothesis test for this situation?\n",
    "\n",
    "1. $H_0: \\mu = 220 \\qquad H_1: \\mu < 220$\n",
    "2. $H_0: \\mu = 220 \\qquad H_1: \\mu \\ne 220$\n",
    "3. $H_0: \\mu = 250 \\qquad H_1: \\mu < 250$\n",
    "4. $H_0: \\mu = 250 \\qquad H_1: \\mu \\ne 250$\n",
    "5. None of the above.\n",
    "\n",
    "Save the interger of your selected choice into variable `p2.a`."
   ]
  },
  {
   "cell_type": "code",
   "execution_count": null,
   "metadata": {
    "deletable": false,
    "nbgrader": {
     "cell_type": "code",
     "checksum": "d9dfd47005899cf8cf9023a0a287fd6c",
     "grade": false,
     "grade_id": "cell-f9ffac33be76a26d",
     "locked": false,
     "schema_version": 3,
     "solution": true,
     "task": false
    },
    "vscode": {
     "languageId": "r"
    }
   },
   "outputs": [],
   "source": [
    "p2.a = NA\n",
    "\n",
    "# your code here\n",
    "p2.a = 3"
   ]
  },
  {
   "cell_type": "markdown",
   "metadata": {
    "deletable": false,
    "editable": false,
    "nbgrader": {
     "cell_type": "markdown",
     "checksum": "8cdbfcaf17a2e937f46afd99b7b14fdf",
     "grade": false,
     "grade_id": "cell-194cd4bc60c98eee",
     "locked": true,
     "schema_version": 3,
     "solution": false,
     "task": false
    }
   },
   "source": [
    "**Part B)** Determine the p-value of the test you chose in **Part A**. Save your answer as `p2.b`. Round your answer to four decimal places."
   ]
  },
  {
   "cell_type": "code",
   "execution_count": 21,
   "metadata": {
    "deletable": false,
    "nbgrader": {
     "cell_type": "code",
     "checksum": "3bf8c7e1a6ad342b8f8f192fe49d4472",
     "grade": false,
     "grade_id": "cell-556220696d782be1",
     "locked": false,
     "schema_version": 3,
     "solution": true,
     "task": false
    },
    "vscode": {
     "languageId": "r"
    }
   },
   "outputs": [
    {
     "data": {
      "text/html": [
       "0.0013"
      ],
      "text/latex": [
       "0.0013"
      ],
      "text/markdown": [
       "0.0013"
      ],
      "text/plain": [
       "[1] 0.0013"
      ]
     },
     "metadata": {},
     "output_type": "display_data"
    }
   ],
   "source": [
    "p2.b = NA\n",
    "\n",
    "# your code here\n",
    "xbar = 220\n",
    "mu = 250\n",
    "sigma = 100\n",
    "n = 100\n",
    "\n",
    "z = (xbar - mu)/(sigma/sqrt(n))\n",
    "p2.b = round(pnorm(z), 4)\n",
    "p2.b"
   ]
  },
  {
   "cell_type": "markdown",
   "metadata": {
    "deletable": false,
    "editable": false,
    "nbgrader": {
     "cell_type": "markdown",
     "checksum": "25654f4e58780073e72703d5e91ae2e8",
     "grade": false,
     "grade_id": "cell-96b954d43017582c",
     "locked": true,
     "schema_version": 3,
     "solution": false,
     "task": false
    }
   },
   "source": [
    "**Part C)** Based on your p-value, do cars produced at Plant B have a shorter expected lifespan than cars produced at plant A? Use a significance level of $\\alpha = 0.01$. Into variable `p2.c`, enter `TRUE` if there is a statistically significant difference or enter `FALSE` if there is not a statistically significant difference."
   ]
  },
  {
   "cell_type": "code",
   "execution_count": 20,
   "metadata": {
    "deletable": false,
    "nbgrader": {
     "cell_type": "code",
     "checksum": "d3ac7147941f21961a74ad076f97b087",
     "grade": false,
     "grade_id": "cell-a4bf4781b9c5ee17",
     "locked": false,
     "schema_version": 3,
     "solution": true,
     "task": false
    },
    "vscode": {
     "languageId": "r"
    }
   },
   "outputs": [],
   "source": [
    "p2.c = TRUE\n",
    "\n",
    "# your code here\n"
   ]
  },
  {
   "cell_type": "markdown",
   "metadata": {
    "deletable": false,
    "editable": false,
    "nbgrader": {
     "cell_type": "markdown",
     "checksum": "cbe88d316ffcc4176db5911e125caf3c",
     "grade": false,
     "grade_id": "cell-2548458ab84e26cb",
     "locked": true,
     "schema_version": 3,
     "solution": false,
     "task": false
    }
   },
   "source": [
    "**Part D)** Suppose that we have not yet collected information on cars from plant B, but still know the values for cars from Plant A. Which of the situations below would result in the test with the highest power?\n",
    "\n",
    "1. You use a sample size of $n=100$, and the true mean lifespand of cars from plant B is $220$ thousand miles.\n",
    "2. You use a sample size of $n=100$, and the true mean lifespand of cars from plant B is $175$ thousand miles.\n",
    "3. You use a sample size of $n=300$, and the true mean lifespand of cars from plant B is $220$ thousand miles.\n",
    "4. You use a sample size of $n=300$, and the true mean lifespand of cars from plant B is $175$ thousand miles.\n",
    "5. All the above would have the same power.\n",
    "\n",
    "Save the integer associated with your answer into variable `p2.d`."
   ]
  },
  {
   "cell_type": "code",
   "execution_count": null,
   "metadata": {
    "deletable": false,
    "nbgrader": {
     "cell_type": "code",
     "checksum": "17d66eab43eca2c6dfed78166f9ae94e",
     "grade": false,
     "grade_id": "cell-d696776c777a8dde",
     "locked": false,
     "schema_version": 3,
     "solution": true,
     "task": false
    },
    "vscode": {
     "languageId": "r"
    }
   },
   "outputs": [],
   "source": [
    "p2.d = NA\n",
    "\n",
    "# your code here\n",
    "p2.d = 4"
   ]
  }
 ],
 "metadata": {
  "kernelspec": {
   "display_name": "R",
   "language": "R",
   "name": "ir"
  },
  "language_info": {
   "codemirror_mode": "r",
   "file_extension": ".r",
   "mimetype": "text/x-r-source",
   "name": "R",
   "pygments_lexer": "r",
   "version": "4.4.3"
  }
 },
 "nbformat": 4,
 "nbformat_minor": 4
}
