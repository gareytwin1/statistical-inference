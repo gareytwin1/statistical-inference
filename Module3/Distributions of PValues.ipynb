{
 "cells": [
  {
   "cell_type": "markdown",
   "metadata": {},
   "source": [
    "# Estimating the Distributions of P-Values"
   ]
  },
  {
   "cell_type": "markdown",
   "metadata": {},
   "source": [
    "> Recall that p-values are defined as the following:\n",
    "> \n",
    "> A p-value is the probability that we observe a test statistic at least as extreme as the one we calculated, assuming the null hypothesis is true.\n",
    "> \n",
    "> It isn't immediately obvious what that definition means, so let's look at some examples to really get an idea of what p-values are, and how they work.\n",
    ">\n",
    "> Let's start very simple and say we have 5 data points: x = <1, 2, 3, 4, 5>. Let's also assume the data were generated from some normal distribution with a known variance $\\sigma$ but an unknown mean $\\mu_0$. What would be a good guess for the true mean?\n",
    ">\n",
    "> We know that this data could come from *any* normal distribution, so let's make two wild guesses:\n",
    ">\n",
    "> 1. The true mean is 100.\n",
    "> 2. The true mean is 3.\n",
    ">\n",
    "> Intuitively, we know that 3 is the better guess. But how do we actually determine which of these guesses is more likely? By looking at the data and asking \"how likely was the data to occur, assuming the guess is true?\" \n",
    ">\n",
    "> 1. What is the probability that we observed x=<1,2,3,4,5> assuming the mean is 100? Probabiliy pretty low. And because the p-value is low, we \"reject the null hypothesis\" that $\\mu_0 = 100$.\n",
    "> 2. What is the probability that we observed x=<1,2,3,4,5> assuming the mean is 3? Seems reasonable. However, something to be careful of is that p-values do not **prove** anything. Just because it is probable for the true mean to be 3, does not mean we know the true mean is 3. If we have a high p-value, we \"fail to reject the null hypothesis\" that $\\mu_0 = 3$.\n",
    ">\n",
    "> What do \"low\" and \"high\" mean? That is where your significance level $\\alpha$ comes back into play. We consider a p-value low if the p-value is less than $\\alpha$, and high if it is greater than $\\alpha$."
   ]
  },
  {
   "cell_type": "markdown",
   "metadata": {},
   "source": [
    "> That was a lot of words, and not a lot of math, so let's actually simulate some data, make some hypotheses, and calculate some p-values.\n",
    ">\n",
    "> Start by generating 5 data points from the standard normal distribution using the `rnorm()` function and save the values as `d1`. Keep the `set.seed(1)` in the below cell to make you random samples reproducable."
   ]
  },
  {
   "cell_type": "code",
   "execution_count": 3,
   "metadata": {},
   "outputs": [
    {
     "data": {
      "text/html": [
       "<style>\n",
       ".list-inline {list-style: none; margin:0; padding: 0}\n",
       ".list-inline>li {display: inline-block}\n",
       ".list-inline>li:not(:last-child)::after {content: \"\\00b7\"; padding: 0 .5ex}\n",
       "</style>\n",
       "<ol class=list-inline><li>-0.626453810742332</li><li>0.183643324222082</li><li>-0.835628612410047</li><li>1.59528080213779</li><li>0.329507771815361</li></ol>\n"
      ],
      "text/latex": [
       "\\begin{enumerate*}\n",
       "\\item -0.626453810742332\n",
       "\\item 0.183643324222082\n",
       "\\item -0.835628612410047\n",
       "\\item 1.59528080213779\n",
       "\\item 0.329507771815361\n",
       "\\end{enumerate*}\n"
      ],
      "text/markdown": [
       "1. -0.626453810742332\n",
       "2. 0.183643324222082\n",
       "3. -0.835628612410047\n",
       "4. 1.59528080213779\n",
       "5. 0.329507771815361\n",
       "\n",
       "\n"
      ],
      "text/plain": [
       "[1] -0.6264538  0.1836433 -0.8356286  1.5952808  0.3295078"
      ]
     },
     "metadata": {},
     "output_type": "display_data"
    }
   ],
   "source": [
    "set.seed(1)\n",
    "d1 = rnorm(5)\n",
    "d1"
   ]
  },
  {
   "cell_type": "markdown",
   "metadata": {},
   "source": [
    "> Now forget that those values came from a standard normal. We know they came from a normal with standard deviation $\\sigma=1$, but have an unknown mean $\\mu_0$.\n",
    ">\n",
    "> We want to find a reasonable guess for this true mean, so we make some guesses. Let's say the null hypothesis is $H_0: \\mu_0 = 0$ and the alternative hypothesis is $H_1: \\mu_0 \\ne 0$.\n",
    ">\n",
    "> To test our guess, we calculate a test statistic. Because we have know the data comes from a normal distribution with a known standard deviation $\\sigma$, we can use a z-score as our test statistic. We will learn more test statistics in future modules. The z-score is defined as follows.\n",
    "\n",
    "$$ z = \\dfrac{\\bar{x}-\\mu_0}{\\sigma/\\sqrt{n}} $$\n",
    "\n",
    "> In the above equation:  \n",
    "* $\\bar{x}$ is the sample mean. We can calculate that with the `mean()` function on our sample: `mean(d1)`.  \n",
    "* $\\mu_0$ is our mean under the null hypothesis. For this example, we're assuming $\\mu_0 = 0$.  \n",
    "* $\\sigma$ is known to be $1$.  \n",
    "* $n$ is the size of the sample. For this example, $n=5$. For a sample of arbitrary size, use the `length()` function.\n",
    ">\n",
    "> Use these functions to calculate the z-score for your generated data. Save this value as `z1`."
   ]
  },
  {
   "cell_type": "code",
   "execution_count": 11,
   "metadata": {},
   "outputs": [
    {
     "data": {
      "text/html": [
       "'xbar: 0.129269895004571'"
      ],
      "text/latex": [
       "'xbar: 0.129269895004571'"
      ],
      "text/markdown": [
       "'xbar: 0.129269895004571'"
      ],
      "text/plain": [
       "[1] \"xbar: 0.129269895004571\""
      ]
     },
     "metadata": {},
     "output_type": "display_data"
    },
    {
     "data": {
      "text/html": [
       "'sigma: 0.961039425048073'"
      ],
      "text/latex": [
       "'sigma: 0.961039425048073'"
      ],
      "text/markdown": [
       "'sigma: 0.961039425048073'"
      ],
      "text/plain": [
       "[1] \"sigma: 0.961039425048073\""
      ]
     },
     "metadata": {},
     "output_type": "display_data"
    },
    {
     "data": {
      "text/html": [
       "'d1_len: 5'"
      ],
      "text/latex": [
       "'d1\\_len: 5'"
      ],
      "text/markdown": [
       "'d1_len: 5'"
      ],
      "text/plain": [
       "[1] \"d1_len: 5\""
      ]
     },
     "metadata": {},
     "output_type": "display_data"
    },
    {
     "data": {
      "text/html": [
       "'z1: 0.300774624995246'"
      ],
      "text/latex": [
       "'z1: 0.300774624995246'"
      ],
      "text/markdown": [
       "'z1: 0.300774624995246'"
      ],
      "text/plain": [
       "[1] \"z1: 0.300774624995246\""
      ]
     },
     "metadata": {},
     "output_type": "display_data"
    }
   ],
   "source": [
    "xbar = mean(d1)\n",
    "paste0(\"xbar: \", xbar)\n",
    "sigma = sd(d1)\n",
    "paste0(\"sigma: \", sigma)\n",
    "d1_len = length(d1)\n",
    "paste0(\"d1_len: \", d1_len)\n",
    "mu = 0\n",
    "z1 = (xbar - mu)/(sigma/sqrt(d1_len))\n",
    "paste0(\"z1: \", z1)"
   ]
  },
  {
   "cell_type": "markdown",
   "metadata": {},
   "source": [
    "> `z1` is the \"critical value\" of our sample. If you think of the PDF of a standard normal, a critical value is the x-value that represents how far from the expected value (the mean) our sample was. If the critical value is far away, then the sample was very unlikely, given the null hypothesis. If the critical value is closer to the center, then the sample is more likely to have occured under the null hypothesis.\n",
    "> \n",
    "> It may be helpful to visualize this. A plot is provided for you below of where your `z1` falls on a standard normal curve. "
   ]
  },
  {
   "cell_type": "code",
   "execution_count": 12,
   "metadata": {},
   "outputs": [
    {
     "data": {
      "image/png": "[encoded data removed]",
      "text/plain": [
       "plot without title"
      ]
     },
     "metadata": {
      "image/png": {
       "height": 420,
       "width": 420
      },
      "text/plain": {
       "height": 420,
       "width": 420
      }
     },
     "output_type": "display_data"
    }
   ],
   "source": [
    "x = seq(-3, 3, 0.1)\n",
    "y = dnorm(x)\n",
    "plot(x, y)\n",
    "lines(x, y)\n",
    "abline(v=z1, col=\"red\")"
   ]
  },
  {
   "cell_type": "markdown",
   "metadata": {},
   "source": [
    "> Because this is a PDF, the area under the curve is an actual probability. The p-value is the area \"contained\" by the critical value. But the area to the right or left of the critical value? It depends on the type of test you are performing:\n",
    "* If we have a lower-tailed test (i.e. the alternative hypothesis looks like $H_1: \\mu_1 < \\mu_0$), then you want the area to the left of the critical value. This is because those lower values would be considered \"more extreme\" than the calculated statistic, because they would be even smaller than what we saw. For a standard normal, this area is represented by $\\Phi(z)$ and can be found in R using `pnorm(z1)`.\n",
    "* If we have an upper-tailed test (i.e. the alternative hypothesis looks like $H_1: \\mu_1 > \\mu_0$), then we want the area to the right of the critical value, as those values are even larger than our observed statistic. For a standard normal, this area is represented by $1 - \\Phi(z)$ and can be found in R using `1-pnorm(z1)`.\n",
    "* If we have a two-tailed test, then it's a bit tricky because the area could be above *or* below our critical value. If the critical value goes in either direction, then it moves farther from the null hypothesis. To solve this, we have to calculate two areas: the area above the positive test statistic, and area below the negative version of the test statistic. Thankfully, because the normal distribution is symmetric, these areas are equivalent, so we can solve for the total area using $2(1-\\Phi(|z|)$ or `2*(1 - pnorm(abs(z1)))` in R.\n",
    ">\n",
    "> Our original hyptheses where $H_0: \\mu_0=0$ and $H_0: \\mu_0 \\ne 0$, so we have a two tailed test. Calculate the p-value for our sample using `2*(1 - pnorm(abs(z1)))`."
   ]
  },
  {
   "cell_type": "code",
   "execution_count": 15,
   "metadata": {},
   "outputs": [
    {
     "data": {
      "text/html": [
       "<span style=white-space:pre-wrap>'p_value:  0.763586359261209'</span>"
      ],
      "text/latex": [
       "'p\\_value:  0.763586359261209'"
      ],
      "text/markdown": [
       "<span style=white-space:pre-wrap>'p_value:  0.763586359261209'</span>"
      ],
      "text/plain": [
       "[1] \"p_value:  0.763586359261209\""
      ]
     },
     "metadata": {},
     "output_type": "display_data"
    }
   ],
   "source": [
    "p_value = 2*(1-pnorm(abs(z1)))\n",
    "paste(\"p_value: \", p_value)"
   ]
  },
  {
   "cell_type": "markdown",
   "metadata": {},
   "source": [
    "> We get a p-value of $0.77$, which is high, so we fail to reject the null hypothesis. That means we continue to assert that $\\mu_0 = 0$, because our data did not refute that claim.\n",
    ">\n",
    "> But we're not quite done. Generate another sample of 5 random standard normal random variables and name it `d2`. Then repeat this whole process to calculate the p-value for that sample."
   ]
  },
  {
   "cell_type": "code",
   "execution_count": 16,
   "metadata": {},
   "outputs": [
    {
     "data": {
      "text/html": [
       "<style>\n",
       ".list-inline {list-style: none; margin:0; padding: 0}\n",
       ".list-inline>li {display: inline-block}\n",
       ".list-inline>li:not(:last-child)::after {content: \"\\00b7\"; padding: 0 .5ex}\n",
       "</style>\n",
       "<ol class=list-inline><li>-0.820468384118015</li><li>0.487429052428485</li><li>0.738324705129217</li><li>0.575781351653492</li><li>-0.305388387156356</li></ol>\n"
      ],
      "text/latex": [
       "\\begin{enumerate*}\n",
       "\\item -0.820468384118015\n",
       "\\item 0.487429052428485\n",
       "\\item 0.738324705129217\n",
       "\\item 0.575781351653492\n",
       "\\item -0.305388387156356\n",
       "\\end{enumerate*}\n"
      ],
      "text/markdown": [
       "1. -0.820468384118015\n",
       "2. 0.487429052428485\n",
       "3. 0.738324705129217\n",
       "4. 0.575781351653492\n",
       "5. -0.305388387156356\n",
       "\n",
       "\n"
      ],
      "text/plain": [
       "[1] -0.8204684  0.4874291  0.7383247  0.5757814 -0.3053884"
      ]
     },
     "metadata": {},
     "output_type": "display_data"
    }
   ],
   "source": [
    "d2 = rnorm(5)\n",
    "d2"
   ]
  },
  {
   "cell_type": "markdown",
   "metadata": {},
   "source": [
    "> The p-value was different for the second sample! That means that the p-value is also a random variable, with it's own distribution. Let's try to see what this distribution is.\n",
    ">\n",
    "> To do that, we will need to simulate $m$ samples of $n$ normal variables, calculate the p-value value of each sample, and graph the results. \n",
    ">\n",
    "> Fill in the function below using the steps you did earlier to generate a p-value."
   ]
  },
  {
   "cell_type": "code",
   "execution_count": 27,
   "metadata": {},
   "outputs": [
    {
     "data": {
      "text/html": [
       "0.943099604338272"
      ],
      "text/latex": [
       "0.943099604338272"
      ],
      "text/markdown": [
       "0.943099604338272"
      ],
      "text/plain": [
       "[1] 0.9430996"
      ]
     },
     "metadata": {},
     "output_type": "display_data"
    }
   ],
   "source": [
    "generate.pval = function(n){\n",
    "    # Generate n samples from a standard normal\n",
    "    samples = rnorm(n, mean = 0, sd = 1)\n",
    "    # Calculate the z-score of the sample\n",
    "    xbar = mean(samples)\n",
    "    sigma = sd(samples)\n",
    "    \n",
    "    z1 = xbar/(sigma/sqrt(n))\n",
    "    # Calculate the p-value from the z-score\n",
    "    p_val = 2*(1-pnorm(z1))\n",
    "    # Return the p-value\n",
    "    return(p_val)\n",
    "}\n",
    "\n",
    "# set.seed(123)\n",
    "generate.pval(5)"
   ]
  },
  {
   "cell_type": "markdown",
   "metadata": {},
   "source": [
    "> To call the generate function multiple times, we can use the `replicate()` function. We want at least 10000 p-values, so specify `pvals = replicate(10000, generate.pval(5))`.\n",
    ">\n",
    "> Now plot a histogram of your p-values using `hist(pvals)`. What do you notice about the shape of this distribution?"
   ]
  },
  {
   "cell_type": "code",
   "execution_count": 30,
   "metadata": {},
   "outputs": [
    {
     "data": {
      "image/png": "[encoded data removed]",
      "text/plain": [
       "Plot with title “Histogram of pvals”"
      ]
     },
     "metadata": {
      "image/png": {
       "height": 420,
       "width": 420
      },
      "text/plain": {
       "height": 420,
       "width": 420
      }
     },
     "output_type": "display_data"
    }
   ],
   "source": [
    "pvals = replicate(10000, generate.pval(5))\n",
    "hist(pvals)"
   ]
  },
  {
   "cell_type": "markdown",
   "metadata": {},
   "source": [
    "> Lastly, think about how the significance level $\\alpha$ is defined as \"the probability of Type I error.\"  \n",
    "> \n",
    "> Let $\\alpha=0.05$, meaning we would reject the null hypothesis if a p-value was less than $0.05$. Now take a look at your histogram at think about how many p-values fall below $0.05$, even though we know that the null hypothesis is correct. We could also find the exact proportion using this code: `sum(pvals < 0.05) / length(pvals)`.\n",
    "> \n",
    "> Now let $\\alpha=0.2$. What proportion of p-values fall below $0.2$? \n",
    ">\n",
    "> You should see that p-values are incorrect $\\alpha$ percent of the time. \n",
    ">\n",
    "> Similarly, the p-values range everywhere between [0,1], even though the underlying distribution is the same. That means a p-value of $0.9$ is not necesarily stronger evidence than a p-value of $0.1$, it is only a representation of whether we should reject the null hypothesis."
   ]
  },
  {
   "cell_type": "code",
   "execution_count": 32,
   "metadata": {},
   "outputs": [
    {
     "data": {
      "text/html": [
       "0.0583"
      ],
      "text/latex": [
       "0.0583"
      ],
      "text/markdown": [
       "0.0583"
      ],
      "text/plain": [
       "[1] 0.0583"
      ]
     },
     "metadata": {},
     "output_type": "display_data"
    }
   ],
   "source": [
    "alpha = 0.05\n",
    "sum(pvals < 0.05) / length(pvals)"
   ]
  },
  {
   "cell_type": "code",
   "execution_count": null,
   "metadata": {},
   "outputs": [],
   "source": []
  }
 ],
 "metadata": {
  "kernelspec": {
   "display_name": "R",
   "language": "R",
   "name": "ir"
  }
 },
 "nbformat": 4,
 "nbformat_minor": 4
}
