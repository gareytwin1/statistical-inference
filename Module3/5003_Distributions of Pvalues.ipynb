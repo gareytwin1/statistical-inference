{
 "cells": [
  {
   "cell_type": "markdown",
   "metadata": {},
   "source": [
    "# Estimating the Distributions of P-Values"
   ]
  },
  {
   "cell_type": "markdown",
   "metadata": {},
   "source": [
    "> Recall that p-values are defined as the following:\n",
    "> \n",
    "> A p-value is the probability that we observe a test statistic at least as extreme as the one we calculated, assuming the null hypothesis is true.\n",
    "> \n",
    "> It isn't immediately obvious what that definition means, so let's look at some examples to really get an idea of what p-values are, and how they work.\n",
    ">\n",
    "> Let's start very simple and say we have 5 data points: x = <1, 2, 3, 4, 5>. Let's also assume the data were generated from some normal distribution with a known variance $\\sigma$ but an unknown mean $\\mu_0$. What would be a good guess for the true mean?\n",
    ">\n",
    "> We know that this data could come from *any* normal distribution, so let's make two wild guesses:\n",
    ">\n",
    "> 1. The true mean is 100.\n",
    "> 2. The true mean is 3.\n",
    ">\n",
    "> Intuitively, we know that 3 is the better guess. But how do we actually determine which of these guesses is more likely? By looking at the data and asking \"how likely was the data to occur, assuming the guess is true?\" \n",
    ">\n",
    "> 1. What is the probability that we observed x=<1,2,3,4,5> assuming the mean is 100? Probabiliy pretty low. And because the p-value is low, we \"reject the null hypothesis\" that $\\mu_0 = 100$.\n",
    "> 2. What is the probability that we observed x=<1,2,3,4,5> assuming the mean is 3? Seems reasonable. However, something to be careful of is that p-values do not **prove** anything. Just because it is probable for the true mean to be 3, does not mean we know the true mean is 3. If we have a high p-value, we \"fail to reject the null hypothesis\" that $\\mu_0 = 3$.\n",
    ">\n",
    "> What do \"low\" and \"high\" mean? That is where your significance level $\\alpha$ comes back into play. We consider a p-value low if the p-value is less than $\\alpha$, and high if it is greater than $\\alpha$."
   ]
  },
  {
   "cell_type": "markdown",
   "metadata": {},
   "source": [
    "> That was a lot of words, and not a lot of math, so let's actually simulate some data, make some hypotheses, and calculate some p-values.\n",
    ">\n",
    "> Start by generating 5 data points from the standard normal distribution using the `rnorm()` function and save the values as `d1`. Keep the `set.seed(1)` in the below cell to make you random samples reproducable."
   ]
  },
  {
   "cell_type": "code",
   "execution_count": 39,
   "metadata": {
    "vscode": {
     "languageId": "r"
    }
   },
   "outputs": [
    {
     "name": "stdout",
     "output_type": "stream",
     "text": [
      "[1] -0.6264538  0.1836433 -0.8356286  1.5952808  0.3295078\n"
     ]
    }
   ],
   "source": [
    "set.seed(1)\n",
    "d1 = rnorm(5)\n",
    "print(d1)"
   ]
  },
  {
   "cell_type": "markdown",
   "metadata": {},
   "source": [
    "> Now forget that those values came from a standard normal. We know they came from a normal with standard deviation $\\sigma=1$, but have an unknown mean $\\mu_0$.\n",
    ">\n",
    "> We want to find a reasonable guess for this true mean, so we make some guesses. Let's say the null hypothesis is $H_0: \\mu_0 = 0$ and the alternative hypothesis is $H_1: \\mu_0 \\ne 0$.\n",
    ">\n",
    "> To test our guess, we calculate a test statistic. Because we have know the data comes from a normal distribution with a known standard deviation $\\sigma$, we can use a z-score as our test statistic. We will learn more test statistics in future modules. The z-score is defined as follows.\n",
    "\n",
    "$$ z = \\dfrac{\\bar{x}-\\mu_0}{\\sigma/\\sqrt{n}} $$\n",
    "\n",
    "> In the above equation:  \n",
    "* $\\bar{x}$ is the sample mean. We can calculate that with the `mean()` function on our sample: `mean(d1)`.  \n",
    "* $\\mu_0$ is our mean under the null hypothesis. For this example, we're assuming $\\mu_0 = 0$.  \n",
    "* $\\sigma$ is known to be $1$.  \n",
    "* $n$ is the size of the sample. For this example, $n=5$. For a sample of arbitrary size, use the `length()` function.\n",
    ">\n",
    "> Use these functions to calculate the z-score for your generated data. Save this value as `z1`."
   ]
  },
  {
   "cell_type": "code",
   "execution_count": 40,
   "metadata": {
    "vscode": {
     "languageId": "r"
    }
   },
   "outputs": [
    {
     "data": {
      "text/html": [
       "'The Z-score value is: 0.289056272674481'"
      ],
      "text/latex": [
       "'The Z-score value is: 0.289056272674481'"
      ],
      "text/markdown": [
       "'The Z-score value is: 0.289056272674481'"
      ],
      "text/plain": [
       "[1] \"The Z-score value is: 0.289056272674481\""
      ]
     },
     "metadata": {},
     "output_type": "display_data"
    }
   ],
   "source": [
    "x_bar = mean(d1)\n",
    "mu_0 = 0\n",
    "sigma = 1\n",
    "n = length(d1)\n",
    "\n",
    "z1 = (x_bar - mu_0)/(sigma/sqrt(n))\n",
    "paste0('The Z-score value is: ', z1)"
   ]
  },
  {
   "cell_type": "markdown",
   "metadata": {},
   "source": [
    "> `z1` is the \"critical value\" of our sample. If you think of the PDF of a standard normal, a critical value is the x-value that represents how far from the expected value (the mean) our sample was. If the critical value is far away, then the sample was very unlikely, given the null hypothesis. If the critical value is closer to the center, then the sample is more likely to have occured under the null hypothesis.\n",
    "> \n",
    "> It may be helpful to visualize this. A plot is provided for you below of where your `z1` falls on a standard normal curve. "
   ]
  },
  {
   "cell_type": "code",
   "execution_count": 41,
   "metadata": {
    "vscode": {
     "languageId": "r"
    }
   },
   "outputs": [
    {
     "data": {
      "image/png": "[encoded data removed]",
      "text/plain": [
       "plot without title"
      ]
     },
     "metadata": {
      "image/png": {
       "height": 420,
       "width": 420
      }
     },
     "output_type": "display_data"
    }
   ],
   "source": [
    "x = seq(-3, 3, 0.1)\n",
    "y = dnorm(x)\n",
    "plot(x, y)\n",
    "lines(x, y)\n",
    "abline(v=z1, col=\"red\")"
   ]
  },
  {
   "cell_type": "markdown",
   "metadata": {},
   "source": [
    "> Because this is a PDF, the area under the curve is an actual probability. The p-value is the area \"contained\" by the critical value. But the area to the right or left of the critical value? It depends on the type of test you are performing:\n",
    "* If we have a lower-tailed test (i.e. the alternative hypothesis looks like $H_1: \\mu_1 < \\mu_0$), then you want the area to the left of the critical value. This is because those lower values would be considered \"more extreme\" than the calculated statistic, because they would be even smaller than what we saw. For a standard normal, this area is represented by $\\Phi(z)$ and can be found in R using `pnorm(z1)`.\n",
    "* If we have an upper-tailed test (i.e. the alternative hypothesis looks like $H_1: \\mu_1 > \\mu_0$), then we want the area to the right of the critical value, as those values are even larger than our observed statistic. For a standard normal, this area is represented by $1 - \\Phi(z)$ and can be found in R using `1-pnorm(z1)`.\n",
    "* If we have a two-tailed test, then it's a bit tricky because the area could be above *or* below our critical value. If the critical value goes in either direction, then it moves farther from the null hypothesis. To solve this, we have to calculate two areas: the area above the positive test statistic, and area below the negative version of the test statistic. Thankfully, because the normal distribution is symmetric, these areas are equivalent, so we can solve for the total area using $2(1-\\Phi(|z|)$ or `2*(1 - pnorm(abs(z1)))` in R.\n",
    ">\n",
    "> Our original hyptheses where $H_0: \\mu_0=0$ and $H_0: \\mu_0 \\ne 0$, so we have a two tailed test. Calculate the p-value for our sample using `2*(1 - pnorm(abs(z1)))`."
   ]
  },
  {
   "cell_type": "code",
   "execution_count": 42,
   "metadata": {
    "vscode": {
     "languageId": "r"
    }
   },
   "outputs": [
    {
     "data": {
      "text/html": [
       "'The Pvalue is: 0.7725'"
      ],
      "text/latex": [
       "'The Pvalue is: 0.7725'"
      ],
      "text/markdown": [
       "'The Pvalue is: 0.7725'"
      ],
      "text/plain": [
       "[1] \"The Pvalue is: 0.7725\""
      ]
     },
     "metadata": {},
     "output_type": "display_data"
    }
   ],
   "source": [
    "pval = 2*(1 - pnorm(abs(z1)))\n",
    "paste0('The Pvalue is: ', round(pval, 4))"
   ]
  },
  {
   "cell_type": "markdown",
   "metadata": {},
   "source": [
    "> We get a p-value of $0.77$, which is high, so we fail to reject the null hypothesis. That means we continue to assert that $\\mu_0 = 0$, because our data did not refute that claim.\n",
    ">\n",
    "> But we're not quite done. Generate another sample of 5 random standard normal random variables and name it `d2`. Then repeat this whole process to calculate the p-value for that sample."
   ]
  },
  {
   "cell_type": "code",
   "execution_count": 43,
   "metadata": {
    "vscode": {
     "languageId": "r"
    }
   },
   "outputs": [
    {
     "data": {
      "text/html": [
       "'The Z-score value is: 0.986785570650285'"
      ],
      "text/latex": [
       "'The Z-score value is: 0.986785570650285'"
      ],
      "text/markdown": [
       "'The Z-score value is: 0.986785570650285'"
      ],
      "text/plain": [
       "[1] \"The Z-score value is: 0.986785570650285\""
      ]
     },
     "metadata": {},
     "output_type": "display_data"
    },
    {
     "data": {
      "text/html": [
       "'The Pvalue is: 0.3237'"
      ],
      "text/latex": [
       "'The Pvalue is: 0.3237'"
      ],
      "text/markdown": [
       "'The Pvalue is: 0.3237'"
      ],
      "text/plain": [
       "[1] \"The Pvalue is: 0.3237\""
      ]
     },
     "metadata": {},
     "output_type": "display_data"
    }
   ],
   "source": [
    "set.seed(42)\n",
    "#generating 5 values\n",
    "d2 = rnorm(5)\n",
    "\n",
    "#initializing values for calculating Zvalue\n",
    "x_bar = mean(d2)\n",
    "mu_0 = 0\n",
    "sigma = 1\n",
    "n = length(d1)\n",
    "\n",
    "#calculating Z score\n",
    "z1 = (x_bar - mu_0)/(sigma/sqrt(n))\n",
    "paste0('The Z-score value is: ', z1)\n",
    "\n",
    "#calculating pvalue\n",
    "pval = 2*(1 - pnorm(abs(z1)))\n",
    "paste0('The Pvalue is: ', round(pval, 4))"
   ]
  },
  {
   "cell_type": "markdown",
   "metadata": {},
   "source": [
    "> The p-value was different for the second sample! That means that the p-value is also a random variable, with it's own distribution. Let's try to see what this distribution is.\n",
    ">\n",
    "> To do that, we will need to simulate $m$ samples of $n$ normal variables, calculate the p-value value of each sample, and graph the results. \n",
    ">\n",
    "> Fill in the function below using the steps you did earlier to generate a p-value."
   ]
  },
  {
   "cell_type": "code",
   "execution_count": 44,
   "metadata": {
    "vscode": {
     "languageId": "r"
    }
   },
   "outputs": [],
   "source": [
    "set.seed(NULL)"
   ]
  },
  {
   "cell_type": "code",
   "execution_count": 45,
   "metadata": {
    "vscode": {
     "languageId": "r"
    }
   },
   "outputs": [
    {
     "data": {
      "text/html": [
       "0.0856157244043927"
      ],
      "text/latex": [
       "0.0856157244043927"
      ],
      "text/markdown": [
       "0.0856157244043927"
      ],
      "text/plain": [
       "[1] 0.08561572"
      ]
     },
     "metadata": {},
     "output_type": "display_data"
    }
   ],
   "source": [
    "generate.pval = function(n){\n",
    "    # Generate n samples from a standard normal\n",
    "    \n",
    "    samples = rnorm(n)\n",
    "    \n",
    "    # Calculate the z-score of the sample\n",
    "    x_bar = mean(samples)\n",
    "    mu_0 = 0\n",
    "    sigma = 1\n",
    "    n = length(samples)\n",
    "    z = (x_bar - mu_0)/(sigma/sqrt(n))\n",
    "\n",
    "    # Calculate the p-value from the z-score\n",
    "    pval = 2*(1 - pnorm(abs(z)))\n",
    "    \n",
    "    # Return the p-value\n",
    "    return(pval)\n",
    "}\n",
    "\n",
    "generate.pval(5)"
   ]
  },
  {
   "cell_type": "markdown",
   "metadata": {},
   "source": [
    "> To call the generate function multiple times, we can use the `replicate()` function. We want at least 10000 p-values, so specify `pvals = replicate(10000, generate.pval(5))`.\n",
    ">\n",
    "> Now plot a histogram of your p-values using `hist(pvals)`. What do you notice about the shape of this distribution?"
   ]
  },
  {
   "cell_type": "code",
   "execution_count": 46,
   "metadata": {
    "vscode": {
     "languageId": "r"
    }
   },
   "outputs": [
    {
     "data": {
      "image/png": "[encoded data removed]",
      "text/plain": [
       "Plot with title \"Histogram of pvals\""
      ]
     },
     "metadata": {
      "image/png": {
       "height": 420,
       "width": 420
      }
     },
     "output_type": "display_data"
    }
   ],
   "source": [
    "pvals = replicate(10000, generate.pval(5))\n",
    "hist(pvals)"
   ]
  },
  {
   "cell_type": "markdown",
   "metadata": {},
   "source": [
    "> Lastly, think about how the significance level $\\alpha$ is defined as \"the probability of Type I error.\"  \n",
    "> \n",
    "> Let $\\alpha=0.05$, meaning we would reject the null hypothesis if a p-value was less than $0.05$. Now take a look at your histogram at think about how many p-values fall below $0.05$, even though we know that the null hypothesis is correct. We could also find the exact proportion using this code: `sum(pvals < 0.05) / length(pvals)`.\n",
    "> \n",
    "> Now let $\\alpha=0.2$. What proportion of p-values fall below $0.2$? \n",
    ">\n",
    "> You should see that p-values are incorrect $\\alpha$ percent of the time. \n",
    ">\n",
    "> Similarly, the p-values range everywhere between [0,1], even though the underlying distribution is the same. That means a p-value of $0.9$ is not necesarily stronger evidence than a p-value of $0.1$, it is only a representation of whether we should reject the null hypothesis."
   ]
  },
  {
   "cell_type": "code",
   "execution_count": 50,
   "metadata": {
    "vscode": {
     "languageId": "r"
    }
   },
   "outputs": [
    {
     "data": {
      "text/html": [
       "0.0482"
      ],
      "text/latex": [
       "0.0482"
      ],
      "text/markdown": [
       "0.0482"
      ],
      "text/plain": [
       "[1] 0.0482"
      ]
     },
     "metadata": {},
     "output_type": "display_data"
    }
   ],
   "source": [
    "sum(pvals < 0.05) / length(pvals)"
   ]
  },
  {
   "cell_type": "code",
   "execution_count": 51,
   "metadata": {
    "vscode": {
     "languageId": "r"
    }
   },
   "outputs": [
    {
     "data": {
      "text/html": [
       "0.0191"
      ],
      "text/latex": [
       "0.0191"
      ],
      "text/markdown": [
       "0.0191"
      ],
      "text/plain": [
       "[1] 0.0191"
      ]
     },
     "metadata": {},
     "output_type": "display_data"
    }
   ],
   "source": [
    "sum(pvals < 0.02) / length(pvals)"
   ]
  },
  {
   "cell_type": "code",
   "execution_count": 56,
   "metadata": {
    "vscode": {
     "languageId": "r"
    }
   },
   "outputs": [
    {
     "data": {
      "text/html": [
       "'The Pvalue is: 0.0512'"
      ],
      "text/latex": [
       "'The Pvalue is: 0.0512'"
      ],
      "text/markdown": [
       "'The Pvalue is: 0.0512'"
      ],
      "text/plain": [
       "[1] \"The Pvalue is: 0.0512\""
      ]
     },
     "metadata": {},
     "output_type": "display_data"
    }
   ],
   "source": [
    "z1 = 4/sqrt(6)\n",
    "pval = 1 - pnorm(z1)\n",
    "paste0('The Pvalue is: ', round(pval, 4))"
   ]
  },
  {
   "cell_type": "code",
   "execution_count": 67,
   "metadata": {
    "vscode": {
     "languageId": "r"
    }
   },
   "outputs": [
    {
     "data": {
      "text/html": [
       "<style>\n",
       ".list-inline {list-style: none; margin:0; padding: 0}\n",
       ".list-inline>li {display: inline-block}\n",
       ".list-inline>li:not(:last-child)::after {content: \"\\00b7\"; padding: 0 .5ex}\n",
       "</style>\n",
       "<ol class=list-inline><li>179</li><li>156</li><li>167</li><li>183</li><li>178</li><li>165</li></ol>\n"
      ],
      "text/latex": [
       "\\begin{enumerate*}\n",
       "\\item 179\n",
       "\\item 156\n",
       "\\item 167\n",
       "\\item 183\n",
       "\\item 178\n",
       "\\item 165\n",
       "\\end{enumerate*}\n"
      ],
      "text/markdown": [
       "1. 179\n",
       "2. 156\n",
       "3. 167\n",
       "4. 183\n",
       "5. 178\n",
       "6. 165\n",
       "\n",
       "\n"
      ],
      "text/plain": [
       "[1] 179 156 167 183 178 165"
      ]
     },
     "metadata": {},
     "output_type": "display_data"
    },
    {
     "data": {
      "text/html": [
       "171.333333333333"
      ],
      "text/latex": [
       "171.333333333333"
      ],
      "text/markdown": [
       "171.333333333333"
      ],
      "text/plain": [
       "[1] 171.3333"
      ]
     },
     "metadata": {},
     "output_type": "display_data"
    },
    {
     "data": {
      "text/html": [
       "170"
      ],
      "text/latex": [
       "170"
      ],
      "text/markdown": [
       "170"
      ],
      "text/plain": [
       "[1] 170"
      ]
     },
     "metadata": {},
     "output_type": "display_data"
    },
    {
     "data": {
      "text/html": [
       "4.2"
      ],
      "text/latex": [
       "4.2"
      ],
      "text/markdown": [
       "4.2"
      ],
      "text/plain": [
       "[1] 4.2"
      ]
     },
     "metadata": {},
     "output_type": "display_data"
    }
   ],
   "source": [
    "d1 = c(179, 156, 167, 183, 178, 165)\n",
    "d1\n",
    "n = length(d1)\n",
    "xbar = mean(d1)\n",
    "xbar\n",
    "mu = 170\n",
    "mu\n",
    "sigma = 4.2\n",
    "sigma"
   ]
  },
  {
   "cell_type": "code",
   "execution_count": 68,
   "metadata": {
    "vscode": {
     "languageId": "r"
    }
   },
   "outputs": [
    {
     "data": {
      "text/html": [
       "1.33333333333334"
      ],
      "text/latex": [
       "1.33333333333334"
      ],
      "text/markdown": [
       "1.33333333333334"
      ],
      "text/plain": [
       "[1] 1.333333"
      ]
     },
     "metadata": {},
     "output_type": "display_data"
    }
   ],
   "source": [
    "xbar - mu"
   ]
  },
  {
   "cell_type": "code",
   "execution_count": 72,
   "metadata": {
    "vscode": {
     "languageId": "r"
    }
   },
   "outputs": [
    {
     "data": {
      "text/html": [
       "0.777615791359744"
      ],
      "text/latex": [
       "0.777615791359744"
      ],
      "text/markdown": [
       "0.777615791359744"
      ],
      "text/plain": [
       "[1] 0.7776158"
      ]
     },
     "metadata": {},
     "output_type": "display_data"
    },
    {
     "data": {
      "text/html": [
       "0.218397774374922"
      ],
      "text/latex": [
       "0.218397774374922"
      ],
      "text/markdown": [
       "0.218397774374922"
      ],
      "text/plain": [
       "[1] 0.2183978"
      ]
     },
     "metadata": {},
     "output_type": "display_data"
    }
   ],
   "source": [
    "z = (xbar-mu)/(sigma/sqrt(n))\n",
    "z\n",
    "1-pnorm(z)"
   ]
  },
  {
   "cell_type": "code",
   "execution_count": 74,
   "metadata": {
    "vscode": {
     "languageId": "r"
    }
   },
   "outputs": [
    {
     "data": {
      "text/html": [
       "2.5298221281347"
      ],
      "text/latex": [
       "2.5298221281347"
      ],
      "text/markdown": [
       "2.5298221281347"
      ],
      "text/plain": [
       "[1] 2.529822"
      ]
     },
     "metadata": {},
     "output_type": "display_data"
    }
   ],
   "source": [
    "z = (232 - 220)/(15/sqrt(10))\n",
    "z"
   ]
  },
  {
   "cell_type": "code",
   "execution_count": 89,
   "metadata": {
    "vscode": {
     "languageId": "r"
    }
   },
   "outputs": [
    {
     "data": {
      "text/html": [
       "-11.1803398874989"
      ],
      "text/latex": [
       "-11.1803398874989"
      ],
      "text/markdown": [
       "-11.1803398874989"
      ],
      "text/plain": [
       "[1] -11.18034"
      ]
     },
     "metadata": {},
     "output_type": "display_data"
    }
   ],
   "source": [
    "n = 20\n",
    "mu = 14\n",
    "sigma = 0.08\n",
    "xbar = 13.8\n",
    "z = (xbar - mu)/(sigma/sqrt(n))\n",
    "z"
   ]
  },
  {
   "cell_type": "code",
   "execution_count": 94,
   "metadata": {
    "vscode": {
     "languageId": "r"
    }
   },
   "outputs": [
    {
     "data": {
      "text/html": [
       "0"
      ],
      "text/latex": [
       "0"
      ],
      "text/markdown": [
       "0"
      ],
      "text/plain": [
       "[1] 0"
      ]
     },
     "metadata": {},
     "output_type": "display_data"
    }
   ],
   "source": [
    "pval = 2*(1-pnorm(abs(z)))\n",
    "pval"
   ]
  },
  {
   "cell_type": "code",
   "execution_count": 98,
   "metadata": {
    "vscode": {
     "languageId": "r"
    }
   },
   "outputs": [
    {
     "data": {
      "text/html": [
       "1.95996398454005"
      ],
      "text/latex": [
       "1.95996398454005"
      ],
      "text/markdown": [
       "1.95996398454005"
      ],
      "text/plain": [
       "[1] 1.959964"
      ]
     },
     "metadata": {},
     "output_type": "display_data"
    }
   ],
   "source": [
    "alpha = 0.05\n",
    "qnorm(1-alpha/2)\n"
   ]
  },
  {
   "cell_type": "code",
   "execution_count": 100,
   "metadata": {
    "vscode": {
     "languageId": "r"
    }
   },
   "outputs": [
    {
     "data": {
      "text/html": [
       "1.95996398454005"
      ],
      "text/latex": [
       "1.95996398454005"
      ],
      "text/markdown": [
       "1.95996398454005"
      ],
      "text/plain": [
       "[1] 1.959964"
      ]
     },
     "metadata": {},
     "output_type": "display_data"
    },
    {
     "data": {
      "text/html": [
       "-1.95996398454005"
      ],
      "text/latex": [
       "-1.95996398454005"
      ],
      "text/markdown": [
       "-1.95996398454005"
      ],
      "text/plain": [
       "[1] -1.959964"
      ]
     },
     "metadata": {},
     "output_type": "display_data"
    }
   ],
   "source": [
    "alpha = 0.05\n",
    "z_upper = qnorm(1-alpha/2)\n",
    "z_upper\n",
    "z_lower = qnorm(alpha/2)\n",
    "z_lower"
   ]
  },
  {
   "cell_type": "code",
   "execution_count": 101,
   "metadata": {
    "vscode": {
     "languageId": "r"
    }
   },
   "outputs": [
    {
     "data": {
      "text/html": [
       "14.0350609016231"
      ],
      "text/latex": [
       "14.0350609016231"
      ],
      "text/markdown": [
       "14.0350609016231"
      ],
      "text/plain": [
       "[1] 14.03506"
      ]
     },
     "metadata": {},
     "output_type": "display_data"
    },
    {
     "data": {
      "text/html": [
       "13.9649390983769"
      ],
      "text/latex": [
       "13.9649390983769"
      ],
      "text/markdown": [
       "13.9649390983769"
      ],
      "text/plain": [
       "[1] 13.96494"
      ]
     },
     "metadata": {},
     "output_type": "display_data"
    }
   ],
   "source": [
    "xupper = mu + z_upper*(sigma/sqrt(n))\n",
    "xupper\n",
    "xlower = mu + z_lower*(sigma/sqrt(n))\n",
    "xlower\n"
   ]
  },
  {
   "cell_type": "code",
   "execution_count": null,
   "metadata": {
    "vscode": {
     "languageId": "r"
    }
   },
   "outputs": [],
   "source": []
  }
 ],
 "metadata": {
  "kernelspec": {
   "display_name": "R",
   "language": "R",
   "name": "ir"
  },
  "language_info": {
   "codemirror_mode": "r",
   "file_extension": ".r",
   "mimetype": "text/x-r-source",
   "name": "R",
   "pygments_lexer": "r",
   "version": "4.4.3"
  }
 },
 "nbformat": 4,
 "nbformat_minor": 4
}
