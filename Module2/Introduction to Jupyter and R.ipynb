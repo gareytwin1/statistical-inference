{
 "cells": [
  {
   "cell_type": "markdown",
   "metadata": {
    "deletable": false,
    "editable": false,
    "nbgrader": {
     "cell_type": "markdown",
     "checksum": "3a020d48e6b199ee5b99c2fdf21211f4",
     "grade": false,
     "grade_id": "cell-1974ed458c9f30c8",
     "locked": true,
     "schema_version": 3,
     "solution": false,
     "task": false
    }
   },
   "source": [
    "# Introduction to R/Jupyter\n",
    "\n",
    " This is a Jupyter Notebook. A Jupyter Notebook is an [\"open-source web application that allows you to create and share documents that contain live code, equations, visualizations and narrative text.\"](http://jupyter.org) We will use the R programming languge and LaTex typsetting in Jupyter to prepare assignments and projects (you can also use other languages in Jupyter). The purpose of this note book is to familiarize yourself with programming in R.\n",
    "\n",
    "R is a powerful open source programming language that is used for statistical computation and graphics. In many ways, it is similar to Matlab and Python (so, if you know these languages, learning R will be fairly easy!). \n",
    "\n",
    "The best way to learn R and Jupyter is to jump right in! Below we walk through how to use Jupyter and R. **Text in boldface indicates exercises that I am asking you to complete.**\n"
   ]
  },
  {
   "cell_type": "code",
   "execution_count": null,
   "metadata": {
    "deletable": false,
    "editable": false,
    "nbgrader": {
     "cell_type": "code",
     "checksum": "ea47eda0558e21cbfde96c4d7e0f2767",
     "grade": false,
     "grade_id": "cell-b5f07b1cb0c38a80",
     "locked": true,
     "schema_version": 3,
     "solution": false,
     "task": false
    },
    "vscode": {
     "languageId": "r"
    }
   },
   "outputs": [],
   "source": [
    "#This package will be used to autograde some of your answers\n",
    "#library(testthat)"
   ]
  },
  {
   "cell_type": "markdown",
   "metadata": {
    "deletable": false,
    "editable": false,
    "nbgrader": {
     "cell_type": "markdown",
     "checksum": "22c8a919115a23a99b0fba2f14f13516",
     "grade": false,
     "grade_id": "cell-f57e780a9c2875b3",
     "locked": true,
     "schema_version": 3,
     "solution": false,
     "task": false
    }
   },
   "source": [
    "## Part I: Basics\n",
    "\n",
    "Jupyter has different types of cells. This cell is a \"markdown\" cell, and is used to write equations (LaTeX) and text. The other type of cell that we will use is a \"code\" cell. This is where we will program using R. You can create a new cell from the plus sign above (delete using the scissor) and select the type of cell using the drop down menu above and to the right. \n",
    "\n",
    "Note:\n",
    "\n",
    "1. In autograded assignments, don't add or delete cells. This will impact the autograder.\n",
    "2. Here's a [LaTeX cheatsheet](http://wch.github.io/latexsheet/).\n",
    "\n",
    "#### Double click on the \"Type Markdown and LaTex: $a^2$\" and type your favorite equation (come on, you know you have one...)."
   ]
  },
  {
   "cell_type": "markdown",
   "metadata": {
    "deletable": false,
    "nbgrader": {
     "cell_type": "markdown",
     "checksum": "75b28ab66c32c01ffe5ace1d1e320108",
     "grade": true,
     "grade_id": "cell-91fd505c3c55eb54",
     "locked": false,
     "points": 0,
     "schema_version": 3,
     "solution": true,
     "task": false
    }
   },
   "source": [
    "Black-Scholes Model\n",
    "\n",
    "$C = SN(1) - Xe^{-rt}N(2)$"
   ]
  },
  {
   "cell_type": "markdown",
   "metadata": {
    "deletable": false,
    "nbgrader": {
     "cell_type": "markdown",
     "checksum": "96fdd12060444bb767b7823782ad2923",
     "grade": false,
     "grade_id": "cell-585024722e94eee3",
     "locked": true,
     "schema_version": 3,
     "solution": false,
     "task": false
    }
   },
   "source": [
    "In R/code cells, you can do (almost) anything that you can do in R, from basic computations to complex statistical modeling. \n",
    "\n",
    "#### Create an R code cell below this cell. Compute the natural log of e. You may have guessed that the right functions for this are `log()` and `exp()`. But with R, you don't have to guess. You can type `? log` to get some general information about functions related to logarithms (the same applies to other concepts); if you type \"? X\" you will get information about the specific function X (e.g., try `? exp`). Often, a Google search is a really effective way to learn about R functions."
   ]
  },
  {
   "cell_type": "code",
   "execution_count": 3,
   "metadata": {
    "deletable": false,
    "nbgrader": {
     "cell_type": "code",
     "checksum": "b4744a34229249a31596192b94d4a6a1",
     "grade": true,
     "grade_id": "cell-0f095b08ef5c4662",
     "locked": false,
     "points": 0,
     "schema_version": 3,
     "solution": true,
     "task": false
    },
    "vscode": {
     "languageId": "r"
    }
   },
   "outputs": [
    {
     "data": {
      "text/html": [
       "1"
      ],
      "text/latex": [
       "1"
      ],
      "text/markdown": [
       "1"
      ],
      "text/plain": [
       "[1] 1"
      ]
     },
     "metadata": {},
     "output_type": "display_data"
    }
   ],
   "source": [
    "log(exp(1))"
   ]
  },
  {
   "cell_type": "markdown",
   "metadata": {
    "deletable": false,
    "editable": false,
    "nbgrader": {
     "cell_type": "markdown",
     "checksum": "87dd0ec6f1a2a97958bea4a8f1f2b1bb",
     "grade": false,
     "grade_id": "cell-0b1500818db058b0",
     "locked": true,
     "schema_version": 3,
     "solution": false,
     "task": false
    }
   },
   "source": [
    "The function `c()` will allow you to create vectors (\"c\" for combine). \n",
    "\n",
    "#### In the cell below, create three vectors:\n",
    "\n",
    "1. a vector containing the numbers 1, 2, 5.3, 6, -2, 4;\n",
    "2. a vector containing the strings \"one\", \"two, and \"three\" (strings are formed in R by putting quotes around the words);\n",
    "3. a vector of logicals: `TRUE`, `TRUE`, `FALSE`, `TRUE`."
   ]
  },
  {
   "cell_type": "code",
   "execution_count": 5,
   "metadata": {
    "deletable": false,
    "nbgrader": {
     "cell_type": "code",
     "checksum": "b357085b2a19dac77026977307220053",
     "grade": true,
     "grade_id": "cell-01d39d3c98243ae2",
     "locked": false,
     "points": 0,
     "schema_version": 3,
     "solution": true,
     "task": false
    },
    "vscode": {
     "languageId": "r"
    }
   },
   "outputs": [],
   "source": [
    "x = c(1,2,5.3,6,-2,4)\n",
    "s = c(\"one\", \"two\", \"three\")\n",
    "logical_vector = c(TRUE, TRUE, FALSE, TRUE)"
   ]
  },
  {
   "cell_type": "markdown",
   "metadata": {
    "deletable": false,
    "editable": false,
    "nbgrader": {
     "cell_type": "markdown",
     "checksum": "a0c4e1439601150f49d4ad5673246fe3",
     "grade": false,
     "grade_id": "cell-e64757656325b475",
     "locked": true,
     "schema_version": 3,
     "solution": false,
     "task": false
    }
   },
   "source": [
    "#### Next, type `seq(1,10)` in the R cell below. What does it do? What about `seq(1, 20, by = 2)`? `seq(10, 20, len = 100)`? Why are these convenient?"
   ]
  },
  {
   "cell_type": "code",
   "execution_count": 6,
   "metadata": {
    "deletable": false,
    "nbgrader": {
     "cell_type": "code",
     "checksum": "3764574b8d57eca45ebf5dae60e2f7ab",
     "grade": true,
     "grade_id": "cell-099a17eee4c21017",
     "locked": false,
     "points": 0,
     "schema_version": 3,
     "solution": true,
     "task": false
    },
    "vscode": {
     "languageId": "r"
    }
   },
   "outputs": [
    {
     "data": {
      "text/html": [
       "<style>\n",
       ".list-inline {list-style: none; margin:0; padding: 0}\n",
       ".list-inline>li {display: inline-block}\n",
       ".list-inline>li:not(:last-child)::after {content: \"\\00b7\"; padding: 0 .5ex}\n",
       "</style>\n",
       "<ol class=list-inline><li>1</li><li>2</li><li>3</li><li>4</li><li>5</li><li>6</li><li>7</li><li>8</li><li>9</li><li>10</li></ol>\n"
      ],
      "text/latex": [
       "\\begin{enumerate*}\n",
       "\\item 1\n",
       "\\item 2\n",
       "\\item 3\n",
       "\\item 4\n",
       "\\item 5\n",
       "\\item 6\n",
       "\\item 7\n",
       "\\item 8\n",
       "\\item 9\n",
       "\\item 10\n",
       "\\end{enumerate*}\n"
      ],
      "text/markdown": [
       "1. 1\n",
       "2. 2\n",
       "3. 3\n",
       "4. 4\n",
       "5. 5\n",
       "6. 6\n",
       "7. 7\n",
       "8. 8\n",
       "9. 9\n",
       "10. 10\n",
       "\n",
       "\n"
      ],
      "text/plain": [
       " [1]  1  2  3  4  5  6  7  8  9 10"
      ]
     },
     "metadata": {},
     "output_type": "display_data"
    },
    {
     "data": {
      "text/html": [
       "<style>\n",
       ".list-inline {list-style: none; margin:0; padding: 0}\n",
       ".list-inline>li {display: inline-block}\n",
       ".list-inline>li:not(:last-child)::after {content: \"\\00b7\"; padding: 0 .5ex}\n",
       "</style>\n",
       "<ol class=list-inline><li>1</li><li>3</li><li>5</li><li>7</li><li>9</li><li>11</li><li>13</li><li>15</li><li>17</li><li>19</li></ol>\n"
      ],
      "text/latex": [
       "\\begin{enumerate*}\n",
       "\\item 1\n",
       "\\item 3\n",
       "\\item 5\n",
       "\\item 7\n",
       "\\item 9\n",
       "\\item 11\n",
       "\\item 13\n",
       "\\item 15\n",
       "\\item 17\n",
       "\\item 19\n",
       "\\end{enumerate*}\n"
      ],
      "text/markdown": [
       "1. 1\n",
       "2. 3\n",
       "3. 5\n",
       "4. 7\n",
       "5. 9\n",
       "6. 11\n",
       "7. 13\n",
       "8. 15\n",
       "9. 17\n",
       "10. 19\n",
       "\n",
       "\n"
      ],
      "text/plain": [
       " [1]  1  3  5  7  9 11 13 15 17 19"
      ]
     },
     "metadata": {},
     "output_type": "display_data"
    },
    {
     "data": {
      "text/html": [
       "<style>\n",
       ".list-inline {list-style: none; margin:0; padding: 0}\n",
       ".list-inline>li {display: inline-block}\n",
       ".list-inline>li:not(:last-child)::after {content: \"\\00b7\"; padding: 0 .5ex}\n",
       "</style>\n",
       "<ol class=list-inline><li>10</li><li>10.1010101010101</li><li>10.2020202020202</li><li>10.3030303030303</li><li>10.4040404040404</li><li>10.5050505050505</li><li>10.6060606060606</li><li>10.7070707070707</li><li>10.8080808080808</li><li>10.9090909090909</li><li>11.010101010101</li><li>11.1111111111111</li><li>11.2121212121212</li><li>11.3131313131313</li><li>11.4141414141414</li><li>11.5151515151515</li><li>11.6161616161616</li><li>11.7171717171717</li><li>11.8181818181818</li><li>11.9191919191919</li><li>12.020202020202</li><li>12.1212121212121</li><li>12.2222222222222</li><li>12.3232323232323</li><li>12.4242424242424</li><li>12.5252525252525</li><li>12.6262626262626</li><li>12.7272727272727</li><li>12.8282828282828</li><li>12.9292929292929</li><li>13.030303030303</li><li>13.1313131313131</li><li>13.2323232323232</li><li>13.3333333333333</li><li>13.4343434343434</li><li>13.5353535353535</li><li>13.6363636363636</li><li>13.7373737373737</li><li>13.8383838383838</li><li>13.9393939393939</li><li>14.040404040404</li><li>14.1414141414141</li><li>14.2424242424242</li><li>14.3434343434343</li><li>14.4444444444444</li><li>14.5454545454545</li><li>14.6464646464646</li><li>14.7474747474747</li><li>14.8484848484848</li><li>14.9494949494949</li><li>15.0505050505051</li><li>15.1515151515152</li><li>15.2525252525253</li><li>15.3535353535354</li><li>15.4545454545455</li><li>15.5555555555556</li><li>15.6565656565657</li><li>15.7575757575758</li><li>15.8585858585859</li><li>15.959595959596</li><li>16.0606060606061</li><li>16.1616161616162</li><li>16.2626262626263</li><li>16.3636363636364</li><li>16.4646464646465</li><li>16.5656565656566</li><li>16.6666666666667</li><li>16.7676767676768</li><li>16.8686868686869</li><li>16.969696969697</li><li>17.0707070707071</li><li>17.1717171717172</li><li>17.2727272727273</li><li>17.3737373737374</li><li>17.4747474747475</li><li>17.5757575757576</li><li>17.6767676767677</li><li>17.7777777777778</li><li>17.8787878787879</li><li>17.979797979798</li><li>18.0808080808081</li><li>18.1818181818182</li><li>18.2828282828283</li><li>18.3838383838384</li><li>18.4848484848485</li><li>18.5858585858586</li><li>18.6868686868687</li><li>18.7878787878788</li><li>18.8888888888889</li><li>18.989898989899</li><li>19.0909090909091</li><li>19.1919191919192</li><li>19.2929292929293</li><li>19.3939393939394</li><li>19.4949494949495</li><li>19.5959595959596</li><li>19.6969696969697</li><li>19.7979797979798</li><li>19.8989898989899</li><li>20</li></ol>\n"
      ],
      "text/latex": [
       "\\begin{enumerate*}\n",
       "\\item 10\n",
       "\\item 10.1010101010101\n",
       "\\item 10.2020202020202\n",
       "\\item 10.3030303030303\n",
       "\\item 10.4040404040404\n",
       "\\item 10.5050505050505\n",
       "\\item 10.6060606060606\n",
       "\\item 10.7070707070707\n",
       "\\item 10.8080808080808\n",
       "\\item 10.9090909090909\n",
       "\\item 11.010101010101\n",
       "\\item 11.1111111111111\n",
       "\\item 11.2121212121212\n",
       "\\item 11.3131313131313\n",
       "\\item 11.4141414141414\n",
       "\\item 11.5151515151515\n",
       "\\item 11.6161616161616\n",
       "\\item 11.7171717171717\n",
       "\\item 11.8181818181818\n",
       "\\item 11.9191919191919\n",
       "\\item 12.020202020202\n",
       "\\item 12.1212121212121\n",
       "\\item 12.2222222222222\n",
       "\\item 12.3232323232323\n",
       "\\item 12.4242424242424\n",
       "\\item 12.5252525252525\n",
       "\\item 12.6262626262626\n",
       "\\item 12.7272727272727\n",
       "\\item 12.8282828282828\n",
       "\\item 12.9292929292929\n",
       "\\item 13.030303030303\n",
       "\\item 13.1313131313131\n",
       "\\item 13.2323232323232\n",
       "\\item 13.3333333333333\n",
       "\\item 13.4343434343434\n",
       "\\item 13.5353535353535\n",
       "\\item 13.6363636363636\n",
       "\\item 13.7373737373737\n",
       "\\item 13.8383838383838\n",
       "\\item 13.9393939393939\n",
       "\\item 14.040404040404\n",
       "\\item 14.1414141414141\n",
       "\\item 14.2424242424242\n",
       "\\item 14.3434343434343\n",
       "\\item 14.4444444444444\n",
       "\\item 14.5454545454545\n",
       "\\item 14.6464646464646\n",
       "\\item 14.7474747474747\n",
       "\\item 14.8484848484848\n",
       "\\item 14.9494949494949\n",
       "\\item 15.0505050505051\n",
       "\\item 15.1515151515152\n",
       "\\item 15.2525252525253\n",
       "\\item 15.3535353535354\n",
       "\\item 15.4545454545455\n",
       "\\item 15.5555555555556\n",
       "\\item 15.6565656565657\n",
       "\\item 15.7575757575758\n",
       "\\item 15.8585858585859\n",
       "\\item 15.959595959596\n",
       "\\item 16.0606060606061\n",
       "\\item 16.1616161616162\n",
       "\\item 16.2626262626263\n",
       "\\item 16.3636363636364\n",
       "\\item 16.4646464646465\n",
       "\\item 16.5656565656566\n",
       "\\item 16.6666666666667\n",
       "\\item 16.7676767676768\n",
       "\\item 16.8686868686869\n",
       "\\item 16.969696969697\n",
       "\\item 17.0707070707071\n",
       "\\item 17.1717171717172\n",
       "\\item 17.2727272727273\n",
       "\\item 17.3737373737374\n",
       "\\item 17.4747474747475\n",
       "\\item 17.5757575757576\n",
       "\\item 17.6767676767677\n",
       "\\item 17.7777777777778\n",
       "\\item 17.8787878787879\n",
       "\\item 17.979797979798\n",
       "\\item 18.0808080808081\n",
       "\\item 18.1818181818182\n",
       "\\item 18.2828282828283\n",
       "\\item 18.3838383838384\n",
       "\\item 18.4848484848485\n",
       "\\item 18.5858585858586\n",
       "\\item 18.6868686868687\n",
       "\\item 18.7878787878788\n",
       "\\item 18.8888888888889\n",
       "\\item 18.989898989899\n",
       "\\item 19.0909090909091\n",
       "\\item 19.1919191919192\n",
       "\\item 19.2929292929293\n",
       "\\item 19.3939393939394\n",
       "\\item 19.4949494949495\n",
       "\\item 19.5959595959596\n",
       "\\item 19.6969696969697\n",
       "\\item 19.7979797979798\n",
       "\\item 19.8989898989899\n",
       "\\item 20\n",
       "\\end{enumerate*}\n"
      ],
      "text/markdown": [
       "1. 10\n",
       "2. 10.1010101010101\n",
       "3. 10.2020202020202\n",
       "4. 10.3030303030303\n",
       "5. 10.4040404040404\n",
       "6. 10.5050505050505\n",
       "7. 10.6060606060606\n",
       "8. 10.7070707070707\n",
       "9. 10.8080808080808\n",
       "10. 10.9090909090909\n",
       "11. 11.010101010101\n",
       "12. 11.1111111111111\n",
       "13. 11.2121212121212\n",
       "14. 11.3131313131313\n",
       "15. 11.4141414141414\n",
       "16. 11.5151515151515\n",
       "17. 11.6161616161616\n",
       "18. 11.7171717171717\n",
       "19. 11.8181818181818\n",
       "20. 11.9191919191919\n",
       "21. 12.020202020202\n",
       "22. 12.1212121212121\n",
       "23. 12.2222222222222\n",
       "24. 12.3232323232323\n",
       "25. 12.4242424242424\n",
       "26. 12.5252525252525\n",
       "27. 12.6262626262626\n",
       "28. 12.7272727272727\n",
       "29. 12.8282828282828\n",
       "30. 12.9292929292929\n",
       "31. 13.030303030303\n",
       "32. 13.1313131313131\n",
       "33. 13.2323232323232\n",
       "34. 13.3333333333333\n",
       "35. 13.4343434343434\n",
       "36. 13.5353535353535\n",
       "37. 13.6363636363636\n",
       "38. 13.7373737373737\n",
       "39. 13.8383838383838\n",
       "40. 13.9393939393939\n",
       "41. 14.040404040404\n",
       "42. 14.1414141414141\n",
       "43. 14.2424242424242\n",
       "44. 14.3434343434343\n",
       "45. 14.4444444444444\n",
       "46. 14.5454545454545\n",
       "47. 14.6464646464646\n",
       "48. 14.7474747474747\n",
       "49. 14.8484848484848\n",
       "50. 14.9494949494949\n",
       "51. 15.0505050505051\n",
       "52. 15.1515151515152\n",
       "53. 15.2525252525253\n",
       "54. 15.3535353535354\n",
       "55. 15.4545454545455\n",
       "56. 15.5555555555556\n",
       "57. 15.6565656565657\n",
       "58. 15.7575757575758\n",
       "59. 15.8585858585859\n",
       "60. 15.959595959596\n",
       "61. 16.0606060606061\n",
       "62. 16.1616161616162\n",
       "63. 16.2626262626263\n",
       "64. 16.3636363636364\n",
       "65. 16.4646464646465\n",
       "66. 16.5656565656566\n",
       "67. 16.6666666666667\n",
       "68. 16.7676767676768\n",
       "69. 16.8686868686869\n",
       "70. 16.969696969697\n",
       "71. 17.0707070707071\n",
       "72. 17.1717171717172\n",
       "73. 17.2727272727273\n",
       "74. 17.3737373737374\n",
       "75. 17.4747474747475\n",
       "76. 17.5757575757576\n",
       "77. 17.6767676767677\n",
       "78. 17.7777777777778\n",
       "79. 17.8787878787879\n",
       "80. 17.979797979798\n",
       "81. 18.0808080808081\n",
       "82. 18.1818181818182\n",
       "83. 18.2828282828283\n",
       "84. 18.3838383838384\n",
       "85. 18.4848484848485\n",
       "86. 18.5858585858586\n",
       "87. 18.6868686868687\n",
       "88. 18.7878787878788\n",
       "89. 18.8888888888889\n",
       "90. 18.989898989899\n",
       "91. 19.0909090909091\n",
       "92. 19.1919191919192\n",
       "93. 19.2929292929293\n",
       "94. 19.3939393939394\n",
       "95. 19.4949494949495\n",
       "96. 19.5959595959596\n",
       "97. 19.6969696969697\n",
       "98. 19.7979797979798\n",
       "99. 19.8989898989899\n",
       "100. 20\n",
       "\n",
       "\n"
      ],
      "text/plain": [
       "  [1] 10.00000 10.10101 10.20202 10.30303 10.40404 10.50505 10.60606 10.70707\n",
       "  [9] 10.80808 10.90909 11.01010 11.11111 11.21212 11.31313 11.41414 11.51515\n",
       " [17] 11.61616 11.71717 11.81818 11.91919 12.02020 12.12121 12.22222 12.32323\n",
       " [25] 12.42424 12.52525 12.62626 12.72727 12.82828 12.92929 13.03030 13.13131\n",
       " [33] 13.23232 13.33333 13.43434 13.53535 13.63636 13.73737 13.83838 13.93939\n",
       " [41] 14.04040 14.14141 14.24242 14.34343 14.44444 14.54545 14.64646 14.74747\n",
       " [49] 14.84848 14.94949 15.05051 15.15152 15.25253 15.35354 15.45455 15.55556\n",
       " [57] 15.65657 15.75758 15.85859 15.95960 16.06061 16.16162 16.26263 16.36364\n",
       " [65] 16.46465 16.56566 16.66667 16.76768 16.86869 16.96970 17.07071 17.17172\n",
       " [73] 17.27273 17.37374 17.47475 17.57576 17.67677 17.77778 17.87879 17.97980\n",
       " [81] 18.08081 18.18182 18.28283 18.38384 18.48485 18.58586 18.68687 18.78788\n",
       " [89] 18.88889 18.98990 19.09091 19.19192 19.29293 19.39394 19.49495 19.59596\n",
       " [97] 19.69697 19.79798 19.89899 20.00000"
      ]
     },
     "metadata": {},
     "output_type": "display_data"
    }
   ],
   "source": [
    "seq(1, 10)\n",
    "seq(1, 20, by=2)\n",
    "seq(10, 20, len=100)"
   ]
  },
  {
   "cell_type": "markdown",
   "metadata": {
    "deletable": false,
    "editable": false,
    "nbgrader": {
     "cell_type": "markdown",
     "checksum": "84ade334f6efd872fac0710f998a0f24",
     "grade": false,
     "grade_id": "cell-d0f131df5c28546e",
     "locked": true,
     "schema_version": 3,
     "solution": false,
     "task": false
    }
   },
   "source": [
    "#### What does the `rep()` function do? This function can take in several arguments. To see what they are, use the help file! Explore the arguments `times` and `each`. What do they do?"
   ]
  },
  {
   "cell_type": "code",
   "execution_count": 9,
   "metadata": {
    "deletable": false,
    "nbgrader": {
     "cell_type": "code",
     "checksum": "9397372efd241bc8f403344f1d19f4b9",
     "grade": true,
     "grade_id": "cell-2c38a58722e63c68",
     "locked": false,
     "points": 0,
     "schema_version": 3,
     "solution": true,
     "task": false
    },
    "vscode": {
     "languageId": "r"
    }
   },
   "outputs": [
    {
     "data": {
      "text/html": [
       "<style>\n",
       ".list-inline {list-style: none; margin:0; padding: 0}\n",
       ".list-inline>li {display: inline-block}\n",
       ".list-inline>li:not(:last-child)::after {content: \"\\00b7\"; padding: 0 .5ex}\n",
       "</style>\n",
       "<ol class=list-inline><li>1</li><li>2</li><li>3</li><li>1</li><li>2</li><li>3</li><li>1</li><li>2</li><li>3</li><li>1</li><li>2</li><li>3</li><li>1</li><li>2</li><li>3</li></ol>\n"
      ],
      "text/latex": [
       "\\begin{enumerate*}\n",
       "\\item 1\n",
       "\\item 2\n",
       "\\item 3\n",
       "\\item 1\n",
       "\\item 2\n",
       "\\item 3\n",
       "\\item 1\n",
       "\\item 2\n",
       "\\item 3\n",
       "\\item 1\n",
       "\\item 2\n",
       "\\item 3\n",
       "\\item 1\n",
       "\\item 2\n",
       "\\item 3\n",
       "\\end{enumerate*}\n"
      ],
      "text/markdown": [
       "1. 1\n",
       "2. 2\n",
       "3. 3\n",
       "4. 1\n",
       "5. 2\n",
       "6. 3\n",
       "7. 1\n",
       "8. 2\n",
       "9. 3\n",
       "10. 1\n",
       "11. 2\n",
       "12. 3\n",
       "13. 1\n",
       "14. 2\n",
       "15. 3\n",
       "\n",
       "\n"
      ],
      "text/plain": [
       " [1] 1 2 3 1 2 3 1 2 3 1 2 3 1 2 3"
      ]
     },
     "metadata": {},
     "output_type": "display_data"
    }
   ],
   "source": [
    "rep(c(1, 2, 3), times=5)"
   ]
  },
  {
   "cell_type": "markdown",
   "metadata": {
    "deletable": false,
    "editable": false,
    "nbgrader": {
     "cell_type": "markdown",
     "checksum": "6a19b96be7c8f0dac2fb0bff3da76d88",
     "grade": false,
     "grade_id": "cell-c19db1161fe38f54",
     "locked": true,
     "schema_version": 3,
     "solution": false,
     "task": false
    }
   },
   "source": [
    "You can store vectors in R using ${\\tt =}$ or ${\\tt <-}$. \n",
    "\n",
    "#### Store the numbers 1 through 5 in a vector `v1`. Create another vector, `v2`, and join it together in a new vector, `new`.\n",
    "\n",
    "*Note: This will be an autograded answer. The autograder will check whether you store the correct values in `v1`*."
   ]
  },
  {
   "cell_type": "code",
   "execution_count": 11,
   "metadata": {
    "deletable": false,
    "nbgrader": {
     "cell_type": "code",
     "checksum": "d766df129e87870f551f4d0d11a5fa91",
     "grade": false,
     "grade_id": "cell-12f79b87845bfa3f",
     "locked": false,
     "schema_version": 3,
     "solution": true,
     "task": false
    },
    "vscode": {
     "languageId": "r"
    }
   },
   "outputs": [
    {
     "data": {
      "text/html": [
       "<style>\n",
       ".list-inline {list-style: none; margin:0; padding: 0}\n",
       ".list-inline>li {display: inline-block}\n",
       ".list-inline>li:not(:last-child)::after {content: \"\\00b7\"; padding: 0 .5ex}\n",
       "</style>\n",
       "<ol class=list-inline><li>1</li><li>2</li><li>3</li><li>4</li><li>5</li><li>9</li><li>10</li><li>1</li></ol>\n"
      ],
      "text/latex": [
       "\\begin{enumerate*}\n",
       "\\item 1\n",
       "\\item 2\n",
       "\\item 3\n",
       "\\item 4\n",
       "\\item 5\n",
       "\\item 9\n",
       "\\item 10\n",
       "\\item 1\n",
       "\\end{enumerate*}\n"
      ],
      "text/markdown": [
       "1. 1\n",
       "2. 2\n",
       "3. 3\n",
       "4. 4\n",
       "5. 5\n",
       "6. 9\n",
       "7. 10\n",
       "8. 1\n",
       "\n",
       "\n"
      ],
      "text/plain": [
       "[1]  1  2  3  4  5  9 10  1"
      ]
     },
     "metadata": {},
     "output_type": "display_data"
    }
   ],
   "source": [
    "#accessing data stored in variable v1\n",
    "v1 = 1:5\n",
    "#create two vectors, then join them together in a new vector\n",
    "v2 = c(9, 10, 1)\n",
    "new = c(v1, v2)\n",
    "new"
   ]
  },
  {
   "cell_type": "markdown",
   "metadata": {
    "deletable": false,
    "editable": false,
    "nbgrader": {
     "cell_type": "markdown",
     "checksum": "bd33e28e63cb45dc26e24f5b1e4e5558",
     "grade": false,
     "grade_id": "cell-7dd455f2c87eb94f",
     "locked": true,
     "schema_version": 3,
     "solution": false,
     "task": false
    }
   },
   "source": [
    "Factors, also known as categorical/qualitative variables, are important in statistics. \"Shoe color\" (Black, Brown, etc.), \"drink size\" (S, M, L) and \"espresso roast\" (Light, Medium, Dark) are examples of factors. Below, in `f1`, create a factor with six groups, labeled 1 through 6 using the `factor()` and `rep()` functions; note that R treats these values as factors; so, for example, you can't multiply `f1` by a number. Try multiplying `f1` by 3..."
   ]
  },
  {
   "cell_type": "code",
   "execution_count": 14,
   "metadata": {
    "deletable": false,
    "nbgrader": {
     "cell_type": "code",
     "checksum": "56941de6d1dfdca62310c185db986c20",
     "grade": false,
     "grade_id": "cell-5df81cab1c31eddd",
     "locked": false,
     "schema_version": 3,
     "solution": true,
     "task": false
    },
    "vscode": {
     "languageId": "r"
    }
   },
   "outputs": [
    {
     "data": {
      "text/html": [
       "<style>\n",
       ".list-inline {list-style: none; margin:0; padding: 0}\n",
       ".list-inline>li {display: inline-block}\n",
       ".list-inline>li:not(:last-child)::after {content: \"\\00b7\"; padding: 0 .5ex}\n",
       "</style>\n",
       "<ol class=list-inline><li>1</li><li>2</li><li>3</li><li>4</li><li>5</li><li>6</li></ol>\n",
       "\n",
       "<details>\n",
       "\t<summary style=display:list-item;cursor:pointer>\n",
       "\t\t<strong>Levels</strong>:\n",
       "\t</summary>\n",
       "\t<style>\n",
       "\t.list-inline {list-style: none; margin:0; padding: 0}\n",
       "\t.list-inline>li {display: inline-block}\n",
       "\t.list-inline>li:not(:last-child)::after {content: \"\\00b7\"; padding: 0 .5ex}\n",
       "\t</style>\n",
       "\t<ol class=list-inline><li>'1'</li><li>'2'</li><li>'3'</li><li>'4'</li><li>'5'</li><li>'6'</li></ol>\n",
       "</details>"
      ],
      "text/latex": [
       "\\begin{enumerate*}\n",
       "\\item 1\n",
       "\\item 2\n",
       "\\item 3\n",
       "\\item 4\n",
       "\\item 5\n",
       "\\item 6\n",
       "\\end{enumerate*}\n",
       "\n",
       "\\emph{Levels}: \\begin{enumerate*}\n",
       "\\item '1'\n",
       "\\item '2'\n",
       "\\item '3'\n",
       "\\item '4'\n",
       "\\item '5'\n",
       "\\item '6'\n",
       "\\end{enumerate*}\n"
      ],
      "text/markdown": [
       "1. 1\n",
       "2. 2\n",
       "3. 3\n",
       "4. 4\n",
       "5. 5\n",
       "6. 6\n",
       "\n",
       "\n",
       "\n",
       "**Levels**: 1. '1'\n",
       "2. '2'\n",
       "3. '3'\n",
       "4. '4'\n",
       "5. '5'\n",
       "6. '6'\n",
       "\n",
       "\n"
      ],
      "text/plain": [
       "[1] 1 2 3 4 5 6\n",
       "Levels: 1 2 3 4 5 6"
      ]
     },
     "metadata": {},
     "output_type": "display_data"
    },
    {
     "name": "stderr",
     "output_type": "stream",
     "text": [
      "Warning message in Ops.factor(f1, 3):\n",
      "\"'*' not meaningful for factors\"\n"
     ]
    },
    {
     "data": {
      "text/html": [
       "<style>\n",
       ".list-inline {list-style: none; margin:0; padding: 0}\n",
       ".list-inline>li {display: inline-block}\n",
       ".list-inline>li:not(:last-child)::after {content: \"\\00b7\"; padding: 0 .5ex}\n",
       "</style>\n",
       "<ol class=list-inline><li>&lt;NA&gt;</li><li>&lt;NA&gt;</li><li>&lt;NA&gt;</li><li>&lt;NA&gt;</li><li>&lt;NA&gt;</li><li>&lt;NA&gt;</li></ol>\n"
      ],
      "text/latex": [
       "\\begin{enumerate*}\n",
       "\\item <NA>\n",
       "\\item <NA>\n",
       "\\item <NA>\n",
       "\\item <NA>\n",
       "\\item <NA>\n",
       "\\item <NA>\n",
       "\\end{enumerate*}\n"
      ],
      "text/markdown": [
       "1. &lt;NA&gt;\n",
       "2. &lt;NA&gt;\n",
       "3. &lt;NA&gt;\n",
       "4. &lt;NA&gt;\n",
       "5. &lt;NA&gt;\n",
       "6. &lt;NA&gt;\n",
       "\n",
       "\n"
      ],
      "text/plain": [
       "[1] NA NA NA NA NA NA"
      ]
     },
     "metadata": {},
     "output_type": "display_data"
    }
   ],
   "source": [
    "#factors - create a factor with six groups, labeled 1 through 6\n",
    "f1 = factor(rep(1:6))  # Creates factor with labels 1,2,3,4,5,6, each repeated twice\n",
    "f1\n",
    "\n",
    "# Try multiplying f1 by 3 (this will produce an error/warning)\n",
    "f1 * 3"
   ]
  },
  {
   "cell_type": "markdown",
   "metadata": {
    "deletable": false,
    "editable": false,
    "nbgrader": {
     "cell_type": "markdown",
     "checksum": "c05b791e1467d843887d842aa33d61a9",
     "grade": false,
     "grade_id": "cell-a0efddce3ba47f00",
     "locked": true,
     "schema_version": 3,
     "solution": false,
     "task": false
    }
   },
   "source": [
    "#### In the code cell below, I've written several commonly used functions. Explore. Change/add some arguments. See the power of R! \n",
    "\n",
    "Note that the first function creates (pseudo) random numbers from a normal distribution. Don't worry if you don't know what that is yet; we'll learn about it. But R can generate random numbers...that's cool!"
   ]
  },
  {
   "cell_type": "code",
   "execution_count": 15,
   "metadata": {
    "vscode": {
     "languageId": "r"
    }
   },
   "outputs": [
    {
     "data": {
      "text/html": [
       "50"
      ],
      "text/latex": [
       "50"
      ],
      "text/markdown": [
       "50"
      ],
      "text/plain": [
       "[1] 50"
      ]
     },
     "metadata": {},
     "output_type": "display_data"
    },
    {
     "data": {
      "text/html": [
       "254.068333439901"
      ],
      "text/latex": [
       "254.068333439901"
      ],
      "text/markdown": [
       "254.068333439901"
      ],
      "text/plain": [
       "[1] 254.0683"
      ]
     },
     "metadata": {},
     "output_type": "display_data"
    },
    {
     "data": {
      "text/html": [
       "5.08136666879802"
      ],
      "text/latex": [
       "5.08136666879802"
      ],
      "text/markdown": [
       "5.08136666879802"
      ],
      "text/plain": [
       "[1] 5.081367"
      ]
     },
     "metadata": {},
     "output_type": "display_data"
    },
    {
     "data": {
      "text/html": [
       "0.817447927475418"
      ],
      "text/latex": [
       "0.817447927475418"
      ],
      "text/markdown": [
       "0.817447927475418"
      ],
      "text/plain": [
       "[1] 0.8174479"
      ]
     },
     "metadata": {},
     "output_type": "display_data"
    },
    {
     "data": {
      "text/html": [
       "0.904128269370789"
      ],
      "text/latex": [
       "0.904128269370789"
      ],
      "text/markdown": [
       "0.904128269370789"
      ],
      "text/plain": [
       "[1] 0.9041283"
      ]
     },
     "metadata": {},
     "output_type": "display_data"
    },
    {
     "data": {
      "text/html": [
       "5.07276620858759"
      ],
      "text/latex": [
       "5.07276620858759"
      ],
      "text/markdown": [
       "5.07276620858759"
      ],
      "text/plain": [
       "[1] 5.072766"
      ]
     },
     "metadata": {},
     "output_type": "display_data"
    },
    {
     "data": {
      "text/html": [
       "<style>\n",
       ".list-inline {list-style: none; margin:0; padding: 0}\n",
       ".list-inline>li {display: inline-block}\n",
       ".list-inline>li:not(:last-child)::after {content: \"\\00b7\"; padding: 0 .5ex}\n",
       "</style>\n",
       "<ol class=list-inline><li>2.65798900311094</li><li>6.65071942064032</li></ol>\n"
      ],
      "text/latex": [
       "\\begin{enumerate*}\n",
       "\\item 2.65798900311094\n",
       "\\item 6.65071942064032\n",
       "\\end{enumerate*}\n"
      ],
      "text/markdown": [
       "1. 2.65798900311094\n",
       "2. 6.65071942064032\n",
       "\n",
       "\n"
      ],
      "text/plain": [
       "[1] 2.657989 6.650719"
      ]
     },
     "metadata": {},
     "output_type": "display_data"
    },
    {
     "data": {
      "text/html": [
       "<style>\n",
       ".list-inline {list-style: none; margin:0; padding: 0}\n",
       ".list-inline>li {display: inline-block}\n",
       ".list-inline>li:not(:last-child)::after {content: \"\\00b7\"; padding: 0 .5ex}\n",
       "</style>\n",
       "<ol class=list-inline><li>1.83174050432347</li><li>1.85455690119745</li><li>1.72424333630105</li><li>1.71377583512257</li><li>1.5785397644662</li><li>1.84101524455036</li><li>1.82198382545386</li><li>1.82392595237705</li><li>1.58488270665533</li><li>1.64793781668794</li><li>1.37073061582978</li><li>1.52835442887779</li><li>1.27695544592777</li><li>1.69055971179727</li><li>1.76807284199993</li><li>1.60833820704083</li><li>1.5609069656007</li><li>1.77246901060776</li><li>1.46831127612607</li><li>1.64312721482154</li><li>1.84911999787506</li><li>1.62457044169038</li><li>1.64641175699992</li><li>1.89472503237128</li><li>1.71730222049189</li><li>1.67858409718899</li><li>1.34657230000889</li><li>1.88248612588018</li><li>1.59227976334165</li><li>1.61608596092698</li><li>1.59826036175783</li><li>1.51589269642234</li><li>1.83865996612982</li><li>0.977569823002939</li><li>1.60416061084916</li><li>1.67335835804675</li><li>1.62473712939985</li><li>1.23555779284389</li><li>1.52433341175677</li><li>1.75293920724655</li><li>1.48990180364296</li><li>1.60268113785402</li><li>1.1252007368375</li><li>1.59762739357296</li><li>1.62396743143734</li><li>1.6238051061502</li><li>1.29810553432697</li><li>1.70658426924145</li><li>1.58901315355252</li><li>1.45107164616537</li></ol>\n"
      ],
      "text/latex": [
       "\\begin{enumerate*}\n",
       "\\item 1.83174050432347\n",
       "\\item 1.85455690119745\n",
       "\\item 1.72424333630105\n",
       "\\item 1.71377583512257\n",
       "\\item 1.5785397644662\n",
       "\\item 1.84101524455036\n",
       "\\item 1.82198382545386\n",
       "\\item 1.82392595237705\n",
       "\\item 1.58488270665533\n",
       "\\item 1.64793781668794\n",
       "\\item 1.37073061582978\n",
       "\\item 1.52835442887779\n",
       "\\item 1.27695544592777\n",
       "\\item 1.69055971179727\n",
       "\\item 1.76807284199993\n",
       "\\item 1.60833820704083\n",
       "\\item 1.5609069656007\n",
       "\\item 1.77246901060776\n",
       "\\item 1.46831127612607\n",
       "\\item 1.64312721482154\n",
       "\\item 1.84911999787506\n",
       "\\item 1.62457044169038\n",
       "\\item 1.64641175699992\n",
       "\\item 1.89472503237128\n",
       "\\item 1.71730222049189\n",
       "\\item 1.67858409718899\n",
       "\\item 1.34657230000889\n",
       "\\item 1.88248612588018\n",
       "\\item 1.59227976334165\n",
       "\\item 1.61608596092698\n",
       "\\item 1.59826036175783\n",
       "\\item 1.51589269642234\n",
       "\\item 1.83865996612982\n",
       "\\item 0.977569823002939\n",
       "\\item 1.60416061084916\n",
       "\\item 1.67335835804675\n",
       "\\item 1.62473712939985\n",
       "\\item 1.23555779284389\n",
       "\\item 1.52433341175677\n",
       "\\item 1.75293920724655\n",
       "\\item 1.48990180364296\n",
       "\\item 1.60268113785402\n",
       "\\item 1.1252007368375\n",
       "\\item 1.59762739357296\n",
       "\\item 1.62396743143734\n",
       "\\item 1.6238051061502\n",
       "\\item 1.29810553432697\n",
       "\\item 1.70658426924145\n",
       "\\item 1.58901315355252\n",
       "\\item 1.45107164616537\n",
       "\\end{enumerate*}\n"
      ],
      "text/markdown": [
       "1. 1.83174050432347\n",
       "2. 1.85455690119745\n",
       "3. 1.72424333630105\n",
       "4. 1.71377583512257\n",
       "5. 1.5785397644662\n",
       "6. 1.84101524455036\n",
       "7. 1.82198382545386\n",
       "8. 1.82392595237705\n",
       "9. 1.58488270665533\n",
       "10. 1.64793781668794\n",
       "11. 1.37073061582978\n",
       "12. 1.52835442887779\n",
       "13. 1.27695544592777\n",
       "14. 1.69055971179727\n",
       "15. 1.76807284199993\n",
       "16. 1.60833820704083\n",
       "17. 1.5609069656007\n",
       "18. 1.77246901060776\n",
       "19. 1.46831127612607\n",
       "20. 1.64312721482154\n",
       "21. 1.84911999787506\n",
       "22. 1.62457044169038\n",
       "23. 1.64641175699992\n",
       "24. 1.89472503237128\n",
       "25. 1.71730222049189\n",
       "26. 1.67858409718899\n",
       "27. 1.34657230000889\n",
       "28. 1.88248612588018\n",
       "29. 1.59227976334165\n",
       "30. 1.61608596092698\n",
       "31. 1.59826036175783\n",
       "32. 1.51589269642234\n",
       "33. 1.83865996612982\n",
       "34. 0.977569823002939\n",
       "35. 1.60416061084916\n",
       "36. 1.67335835804675\n",
       "37. 1.62473712939985\n",
       "38. 1.23555779284389\n",
       "39. 1.52433341175677\n",
       "40. 1.75293920724655\n",
       "41. 1.48990180364296\n",
       "42. 1.60268113785402\n",
       "43. 1.1252007368375\n",
       "44. 1.59762739357296\n",
       "45. 1.62396743143734\n",
       "46. 1.6238051061502\n",
       "47. 1.29810553432697\n",
       "48. 1.70658426924145\n",
       "49. 1.58901315355252\n",
       "50. 1.45107164616537\n",
       "\n",
       "\n"
      ],
      "text/plain": [
       " [1] 1.8317405 1.8545569 1.7242433 1.7137758 1.5785398 1.8410152 1.8219838\n",
       " [8] 1.8239260 1.5848827 1.6479378 1.3707306 1.5283544 1.2769554 1.6905597\n",
       "[15] 1.7680728 1.6083382 1.5609070 1.7724690 1.4683113 1.6431272 1.8491200\n",
       "[22] 1.6245704 1.6464118 1.8947250 1.7173022 1.6785841 1.3465723 1.8824861\n",
       "[29] 1.5922798 1.6160860 1.5982604 1.5158927 1.8386600 0.9775698 1.6041606\n",
       "[36] 1.6733584 1.6247371 1.2355578 1.5243334 1.7529392 1.4899018 1.6026811\n",
       "[43] 1.1252007 1.5976274 1.6239674 1.6238051 1.2981055 1.7065843 1.5890132\n",
       "[50] 1.4510716"
      ]
     },
     "metadata": {},
     "output_type": "display_data"
    },
    {
     "data": {
      "text/plain": [
       "   Min. 1st Qu.  Median    Mean 3rd Qu.    Max. \n",
       "  2.658   4.649   5.073   5.081   5.599   6.651 "
      ]
     },
     "metadata": {},
     "output_type": "display_data"
    },
    {
     "data": {
      "image/png": "[encoded data removed]",
      "text/plain": [
       "Plot with title \"Histogram of x\""
      ]
     },
     "metadata": {
      "image/png": {
       "height": 420,
       "width": 420
      }
     },
     "output_type": "display_data"
    },
    {
     "data": {
      "image/png": "[encoded data removed]",
      "text/plain": [
       "Plot with title \"Histogram of x\""
      ]
     },
     "metadata": {
      "image/png": {
       "height": 420,
       "width": 420
      }
     },
     "output_type": "display_data"
    }
   ],
   "source": [
    "x <- rnorm(50, mean=5, sd=1) #generates 50 random numbers from a gaussian with mean 5 and sd 1. Don't worry...you'll know what this means soon!\n",
    "hist(x, density = 20)\n",
    "length(x) #return the length of x\n",
    "sum(x) #sum the numbers in x\n",
    "mean(x) #calculate the mean of the numbers in x\n",
    "var(x) #calculate the variance of the numbers in x\n",
    "sd(x) #calculate the standard deviation of x\n",
    "median(x) #calculate the median of x\n",
    "range(x) #calculate the range of x\n",
    "log(x) #calculate the natural log of x\n",
    "summary(x) #return 5-number summary of x\n",
    "\n",
    "hist(x, density = 20, freq = FALSE) #histogram of those random numbers; freq = FALSE makes x a 'density' (integrates to 1); density shades the boxes\n",
    "curve(dnorm(x,mean = mean(x),sd = sd(x)),from = min(x), to = max(x), add = TRUE) #overlay of normal density"
   ]
  },
  {
   "cell_type": "markdown",
   "metadata": {
    "deletable": false,
    "editable": false,
    "nbgrader": {
     "cell_type": "markdown",
     "checksum": "938c1268b10728bf6656c9c30ca3ce42",
     "grade": false,
     "grade_id": "cell-d05143cf1e54cf41",
     "locked": true,
     "schema_version": 3,
     "solution": false,
     "task": false
    }
   },
   "source": [
    "# Part II: Vector Indexing\n",
    "\n",
    "R (like Matlab and Python) has a nice indexing system. Given a matrix $A$, we can access the $[i,j]$ element of $A$ by writing `A[i,j]`. We can access the $i^{th}$ row by typing `A[i,]`. And, we can access the $j^{th}$ column by typing `A[,j]`. And, we can do even fancier things too...\n",
    "\n",
    "#### Modify the third line of code below to access the second, fourth, and sixth elements of the vector `a`. Take note of whether R starts indexing at 0 or 1!  Also, note that the last line uses the minus sign to access elements *other than* those specified in the index."
   ]
  },
  {
   "cell_type": "code",
   "execution_count": 16,
   "metadata": {
    "vscode": {
     "languageId": "r"
    }
   },
   "outputs": [
    {
     "data": {
      "text/html": [
       "<style>\n",
       ".list-inline {list-style: none; margin:0; padding: 0}\n",
       ".list-inline>li {display: inline-block}\n",
       ".list-inline>li:not(:last-child)::after {content: \"\\00b7\"; padding: 0 .5ex}\n",
       "</style>\n",
       "<ol class=list-inline><li>2</li><li>4</li><li>6</li><li>8</li><li>10</li><li>12</li><li>14</li><li>16</li></ol>\n"
      ],
      "text/latex": [
       "\\begin{enumerate*}\n",
       "\\item 2\n",
       "\\item 4\n",
       "\\item 6\n",
       "\\item 8\n",
       "\\item 10\n",
       "\\item 12\n",
       "\\item 14\n",
       "\\item 16\n",
       "\\end{enumerate*}\n"
      ],
      "text/markdown": [
       "1. 2\n",
       "2. 4\n",
       "3. 6\n",
       "4. 8\n",
       "5. 10\n",
       "6. 12\n",
       "7. 14\n",
       "8. 16\n",
       "\n",
       "\n"
      ],
      "text/plain": [
       "[1]  2  4  6  8 10 12 14 16"
      ]
     },
     "metadata": {},
     "output_type": "display_data"
    },
    {
     "data": {
      "text/html": [
       "<style>\n",
       ".list-inline {list-style: none; margin:0; padding: 0}\n",
       ".list-inline>li {display: inline-block}\n",
       ".list-inline>li:not(:last-child)::after {content: \"\\00b7\"; padding: 0 .5ex}\n",
       "</style>\n",
       "<ol class=list-inline><li>4</li><li>8</li><li>12</li></ol>\n"
      ],
      "text/latex": [
       "\\begin{enumerate*}\n",
       "\\item 4\n",
       "\\item 8\n",
       "\\item 12\n",
       "\\end{enumerate*}\n"
      ],
      "text/markdown": [
       "1. 4\n",
       "2. 8\n",
       "3. 12\n",
       "\n",
       "\n"
      ],
      "text/plain": [
       "[1]  4  8 12"
      ]
     },
     "metadata": {},
     "output_type": "display_data"
    },
    {
     "data": {
      "text/html": [
       "<style>\n",
       ".list-inline {list-style: none; margin:0; padding: 0}\n",
       ".list-inline>li {display: inline-block}\n",
       ".list-inline>li:not(:last-child)::after {content: \"\\00b7\"; padding: 0 .5ex}\n",
       "</style>\n",
       "<ol class=list-inline><li>4</li><li>6</li><li>8</li><li>12</li><li>14</li><li>16</li></ol>\n"
      ],
      "text/latex": [
       "\\begin{enumerate*}\n",
       "\\item 4\n",
       "\\item 6\n",
       "\\item 8\n",
       "\\item 12\n",
       "\\item 14\n",
       "\\item 16\n",
       "\\end{enumerate*}\n"
      ],
      "text/markdown": [
       "1. 4\n",
       "2. 6\n",
       "3. 8\n",
       "4. 12\n",
       "5. 14\n",
       "6. 16\n",
       "\n",
       "\n"
      ],
      "text/plain": [
       "[1]  4  6  8 12 14 16"
      ]
     },
     "metadata": {},
     "output_type": "display_data"
    }
   ],
   "source": [
    "a = seq(2, 16, by = 2)\n",
    "a\n",
    "a[c(2, 4, 6)]\n",
    "\n",
    "###\n",
    "a[-c(1,5)]"
   ]
  },
  {
   "cell_type": "markdown",
   "metadata": {
    "deletable": false,
    "editable": false,
    "nbgrader": {
     "cell_type": "markdown",
     "checksum": "2e09b12faeeb44698c5914c8717ffc8c",
     "grade": false,
     "grade_id": "cell-10bddd1785dbae2f",
     "locked": true,
     "schema_version": 3,
     "solution": false,
     "task": false
    }
   },
   "source": [
    "#### Write code that prints the third through sixth elements of `a` and store it in a variable `b` (there's a short and long way)."
   ]
  },
  {
   "cell_type": "code",
   "execution_count": 17,
   "metadata": {
    "deletable": false,
    "nbgrader": {
     "cell_type": "code",
     "checksum": "88632000eafe23455efdc42f81cbfbd0",
     "grade": false,
     "grade_id": "cell-ca2b0c3789a469ff",
     "locked": false,
     "schema_version": 3,
     "solution": true,
     "task": false
    },
    "vscode": {
     "languageId": "r"
    }
   },
   "outputs": [
    {
     "data": {
      "text/html": [
       "<style>\n",
       ".list-inline {list-style: none; margin:0; padding: 0}\n",
       ".list-inline>li {display: inline-block}\n",
       ".list-inline>li:not(:last-child)::after {content: \"\\00b7\"; padding: 0 .5ex}\n",
       "</style>\n",
       "<ol class=list-inline><li>6</li><li>8</li><li>10</li><li>12</li></ol>\n"
      ],
      "text/latex": [
       "\\begin{enumerate*}\n",
       "\\item 6\n",
       "\\item 8\n",
       "\\item 10\n",
       "\\item 12\n",
       "\\end{enumerate*}\n"
      ],
      "text/markdown": [
       "1. 6\n",
       "2. 8\n",
       "3. 10\n",
       "4. 12\n",
       "\n",
       "\n"
      ],
      "text/plain": [
       "[1]  6  8 10 12"
      ]
     },
     "metadata": {},
     "output_type": "display_data"
    }
   ],
   "source": [
    "b = a[3:6]\n",
    "b"
   ]
  },
  {
   "cell_type": "markdown",
   "metadata": {
    "deletable": false,
    "editable": false,
    "nbgrader": {
     "cell_type": "markdown",
     "checksum": "c42e4b1aae7859768be3e0cd2ea5b9cd",
     "grade": false,
     "grade_id": "cell-7a5919d10f0ff115",
     "locked": true,
     "schema_version": 3,
     "solution": false,
     "task": false
    }
   },
   "source": [
    "Logical indexing is another powerful tool for working with data in R. \n",
    "\n",
    "#### Let's start with typing things like `a > 10`, `a <= 4`, `a == 10`, and `a != 10`. What do these lines do?"
   ]
  },
  {
   "cell_type": "code",
   "execution_count": 19,
   "metadata": {
    "deletable": false,
    "nbgrader": {
     "cell_type": "code",
     "checksum": "d92d2d4987533b27f3e907557c72e0df",
     "grade": true,
     "grade_id": "cell-82ec56dcfad8858e",
     "locked": false,
     "points": 0,
     "schema_version": 3,
     "solution": true,
     "task": false
    },
    "vscode": {
     "languageId": "r"
    }
   },
   "outputs": [
    {
     "data": {
      "text/html": [
       "<style>\n",
       ".list-inline {list-style: none; margin:0; padding: 0}\n",
       ".list-inline>li {display: inline-block}\n",
       ".list-inline>li:not(:last-child)::after {content: \"\\00b7\"; padding: 0 .5ex}\n",
       "</style>\n",
       "<ol class=list-inline><li>FALSE</li><li>FALSE</li><li>FALSE</li><li>FALSE</li><li>FALSE</li><li>TRUE</li><li>TRUE</li><li>TRUE</li></ol>\n"
      ],
      "text/latex": [
       "\\begin{enumerate*}\n",
       "\\item FALSE\n",
       "\\item FALSE\n",
       "\\item FALSE\n",
       "\\item FALSE\n",
       "\\item FALSE\n",
       "\\item TRUE\n",
       "\\item TRUE\n",
       "\\item TRUE\n",
       "\\end{enumerate*}\n"
      ],
      "text/markdown": [
       "1. FALSE\n",
       "2. FALSE\n",
       "3. FALSE\n",
       "4. FALSE\n",
       "5. FALSE\n",
       "6. TRUE\n",
       "7. TRUE\n",
       "8. TRUE\n",
       "\n",
       "\n"
      ],
      "text/plain": [
       "[1] FALSE FALSE FALSE FALSE FALSE  TRUE  TRUE  TRUE"
      ]
     },
     "metadata": {},
     "output_type": "display_data"
    },
    {
     "data": {
      "text/html": [
       "<style>\n",
       ".list-inline {list-style: none; margin:0; padding: 0}\n",
       ".list-inline>li {display: inline-block}\n",
       ".list-inline>li:not(:last-child)::after {content: \"\\00b7\"; padding: 0 .5ex}\n",
       "</style>\n",
       "<ol class=list-inline><li>TRUE</li><li>TRUE</li><li>FALSE</li><li>FALSE</li><li>FALSE</li><li>FALSE</li><li>FALSE</li><li>FALSE</li></ol>\n"
      ],
      "text/latex": [
       "\\begin{enumerate*}\n",
       "\\item TRUE\n",
       "\\item TRUE\n",
       "\\item FALSE\n",
       "\\item FALSE\n",
       "\\item FALSE\n",
       "\\item FALSE\n",
       "\\item FALSE\n",
       "\\item FALSE\n",
       "\\end{enumerate*}\n"
      ],
      "text/markdown": [
       "1. TRUE\n",
       "2. TRUE\n",
       "3. FALSE\n",
       "4. FALSE\n",
       "5. FALSE\n",
       "6. FALSE\n",
       "7. FALSE\n",
       "8. FALSE\n",
       "\n",
       "\n"
      ],
      "text/plain": [
       "[1]  TRUE  TRUE FALSE FALSE FALSE FALSE FALSE FALSE"
      ]
     },
     "metadata": {},
     "output_type": "display_data"
    },
    {
     "data": {
      "text/html": [
       "<style>\n",
       ".list-inline {list-style: none; margin:0; padding: 0}\n",
       ".list-inline>li {display: inline-block}\n",
       ".list-inline>li:not(:last-child)::after {content: \"\\00b7\"; padding: 0 .5ex}\n",
       "</style>\n",
       "<ol class=list-inline><li>FALSE</li><li>FALSE</li><li>FALSE</li><li>FALSE</li><li>TRUE</li><li>FALSE</li><li>FALSE</li><li>FALSE</li></ol>\n"
      ],
      "text/latex": [
       "\\begin{enumerate*}\n",
       "\\item FALSE\n",
       "\\item FALSE\n",
       "\\item FALSE\n",
       "\\item FALSE\n",
       "\\item TRUE\n",
       "\\item FALSE\n",
       "\\item FALSE\n",
       "\\item FALSE\n",
       "\\end{enumerate*}\n"
      ],
      "text/markdown": [
       "1. FALSE\n",
       "2. FALSE\n",
       "3. FALSE\n",
       "4. FALSE\n",
       "5. TRUE\n",
       "6. FALSE\n",
       "7. FALSE\n",
       "8. FALSE\n",
       "\n",
       "\n"
      ],
      "text/plain": [
       "[1] FALSE FALSE FALSE FALSE  TRUE FALSE FALSE FALSE"
      ]
     },
     "metadata": {},
     "output_type": "display_data"
    },
    {
     "data": {
      "text/html": [
       "<style>\n",
       ".list-inline {list-style: none; margin:0; padding: 0}\n",
       ".list-inline>li {display: inline-block}\n",
       ".list-inline>li:not(:last-child)::after {content: \"\\00b7\"; padding: 0 .5ex}\n",
       "</style>\n",
       "<ol class=list-inline><li>TRUE</li><li>TRUE</li><li>TRUE</li><li>TRUE</li><li>FALSE</li><li>TRUE</li><li>TRUE</li><li>TRUE</li></ol>\n"
      ],
      "text/latex": [
       "\\begin{enumerate*}\n",
       "\\item TRUE\n",
       "\\item TRUE\n",
       "\\item TRUE\n",
       "\\item TRUE\n",
       "\\item FALSE\n",
       "\\item TRUE\n",
       "\\item TRUE\n",
       "\\item TRUE\n",
       "\\end{enumerate*}\n"
      ],
      "text/markdown": [
       "1. TRUE\n",
       "2. TRUE\n",
       "3. TRUE\n",
       "4. TRUE\n",
       "5. FALSE\n",
       "6. TRUE\n",
       "7. TRUE\n",
       "8. TRUE\n",
       "\n",
       "\n"
      ],
      "text/plain": [
       "[1]  TRUE  TRUE  TRUE  TRUE FALSE  TRUE  TRUE  TRUE"
      ]
     },
     "metadata": {},
     "output_type": "display_data"
    }
   ],
   "source": [
    "a > 10\n",
    "a <= 4\n",
    "a == 10\n",
    "a != 10"
   ]
  },
  {
   "cell_type": "markdown",
   "metadata": {
    "deletable": false,
    "editable": false,
    "nbgrader": {
     "cell_type": "markdown",
     "checksum": "bc0e00526c44f6f3dfe360a253d389c1",
     "grade": false,
     "grade_id": "cell-0717f5cbae296e02",
     "locked": true,
     "schema_version": 3,
     "solution": false,
     "task": false
    }
   },
   "source": [
    "Now let's look at more complicated logical statements. Note that ${\\tt \\&}$ represents \"and\", and ${\\tt |}$ represents \"or\" in R. \n",
    "\n",
    "#### Write code that prints ${\\tt TRUE}$ for values of $a$ greater than 6 and less than or equal to 10, and ${\\tt FALSE}$ otherwise. Then, write code that prints ${\\tt TRUE}$ for values of $a$  less than or equal to 4 or greater or equal to 12, and ${\\tt FALSE}$ otherwise."
   ]
  },
  {
   "cell_type": "code",
   "execution_count": 21,
   "metadata": {
    "deletable": false,
    "nbgrader": {
     "cell_type": "code",
     "checksum": "15ba72843142cf599c4ee2f373e79955",
     "grade": true,
     "grade_id": "cell-d201b4f9c6c2e47c",
     "locked": false,
     "points": 0,
     "schema_version": 3,
     "solution": true,
     "task": false
    },
    "vscode": {
     "languageId": "r"
    }
   },
   "outputs": [
    {
     "data": {
      "text/html": [
       "<style>\n",
       ".list-inline {list-style: none; margin:0; padding: 0}\n",
       ".list-inline>li {display: inline-block}\n",
       ".list-inline>li:not(:last-child)::after {content: \"\\00b7\"; padding: 0 .5ex}\n",
       "</style>\n",
       "<ol class=list-inline><li>FALSE</li><li>FALSE</li><li>FALSE</li><li>TRUE</li><li>TRUE</li><li>TRUE</li><li>TRUE</li><li>TRUE</li></ol>\n"
      ],
      "text/latex": [
       "\\begin{enumerate*}\n",
       "\\item FALSE\n",
       "\\item FALSE\n",
       "\\item FALSE\n",
       "\\item TRUE\n",
       "\\item TRUE\n",
       "\\item TRUE\n",
       "\\item TRUE\n",
       "\\item TRUE\n",
       "\\end{enumerate*}\n"
      ],
      "text/markdown": [
       "1. FALSE\n",
       "2. FALSE\n",
       "3. FALSE\n",
       "4. TRUE\n",
       "5. TRUE\n",
       "6. TRUE\n",
       "7. TRUE\n",
       "8. TRUE\n",
       "\n",
       "\n"
      ],
      "text/plain": [
       "[1] FALSE FALSE FALSE  TRUE  TRUE  TRUE  TRUE  TRUE"
      ]
     },
     "metadata": {},
     "output_type": "display_data"
    },
    {
     "data": {
      "text/html": [
       "<style>\n",
       ".list-inline {list-style: none; margin:0; padding: 0}\n",
       ".list-inline>li {display: inline-block}\n",
       ".list-inline>li:not(:last-child)::after {content: \"\\00b7\"; padding: 0 .5ex}\n",
       "</style>\n",
       "<ol class=list-inline><li>TRUE</li><li>TRUE</li><li>FALSE</li><li>FALSE</li><li>FALSE</li><li>TRUE</li><li>TRUE</li><li>TRUE</li></ol>\n"
      ],
      "text/latex": [
       "\\begin{enumerate*}\n",
       "\\item TRUE\n",
       "\\item TRUE\n",
       "\\item FALSE\n",
       "\\item FALSE\n",
       "\\item FALSE\n",
       "\\item TRUE\n",
       "\\item TRUE\n",
       "\\item TRUE\n",
       "\\end{enumerate*}\n"
      ],
      "text/markdown": [
       "1. TRUE\n",
       "2. TRUE\n",
       "3. FALSE\n",
       "4. FALSE\n",
       "5. FALSE\n",
       "6. TRUE\n",
       "7. TRUE\n",
       "8. TRUE\n",
       "\n",
       "\n"
      ],
      "text/plain": [
       "[1]  TRUE  TRUE FALSE FALSE FALSE  TRUE  TRUE  TRUE"
      ]
     },
     "metadata": {},
     "output_type": "display_data"
    }
   ],
   "source": [
    "a > 6 | a == 10\n",
    "a <= 4 | a >= 12"
   ]
  },
  {
   "cell_type": "markdown",
   "metadata": {
    "deletable": false,
    "editable": false,
    "nbgrader": {
     "cell_type": "markdown",
     "checksum": "86245824b134c3991dfb9acc9afc56d7",
     "grade": false,
     "grade_id": "cell-e00cd77cdad99b3b",
     "locked": true,
     "schema_version": 3,
     "solution": false,
     "task": false
    }
   },
   "source": [
    "The real power of logical indexing comes when we take these vectors of logicals and put them in the index of a vector. The first line below tells R to print all elements of `a` such that `a < 6`.\n",
    "\n",
    "#### Write code to print elements of `a` equal to 10. Then, print elements of `a` less than six or equal to 10."
   ]
  },
  {
   "cell_type": "code",
   "execution_count": 22,
   "metadata": {
    "deletable": false,
    "nbgrader": {
     "cell_type": "code",
     "checksum": "65d3231062361b1b359dbf675aad9ea8",
     "grade": true,
     "grade_id": "cell-ac0010499195bcfa",
     "locked": false,
     "points": 0,
     "schema_version": 3,
     "solution": true,
     "task": false
    },
    "vscode": {
     "languageId": "r"
    }
   },
   "outputs": [
    {
     "data": {
      "text/html": [
       "10"
      ],
      "text/latex": [
       "10"
      ],
      "text/markdown": [
       "10"
      ],
      "text/plain": [
       "[1] 10"
      ]
     },
     "metadata": {},
     "output_type": "display_data"
    },
    {
     "data": {
      "text/html": [
       "<style>\n",
       ".list-inline {list-style: none; margin:0; padding: 0}\n",
       ".list-inline>li {display: inline-block}\n",
       ".list-inline>li:not(:last-child)::after {content: \"\\00b7\"; padding: 0 .5ex}\n",
       "</style>\n",
       "<ol class=list-inline><li>2</li><li>4</li><li>6</li></ol>\n"
      ],
      "text/latex": [
       "\\begin{enumerate*}\n",
       "\\item 2\n",
       "\\item 4\n",
       "\\item 6\n",
       "\\end{enumerate*}\n"
      ],
      "text/markdown": [
       "1. 2\n",
       "2. 4\n",
       "3. 6\n",
       "\n",
       "\n"
      ],
      "text/plain": [
       "[1] 2 4 6"
      ]
     },
     "metadata": {},
     "output_type": "display_data"
    }
   ],
   "source": [
    "a[a == 10]\n",
    "a[a <= 6]"
   ]
  },
  {
   "cell_type": "markdown",
   "metadata": {
    "deletable": false,
    "editable": false,
    "nbgrader": {
     "cell_type": "markdown",
     "checksum": "d30da62b4cb8cb4d436ee587839895d1",
     "grade": false,
     "grade_id": "cell-6629e8e56c350283",
     "locked": true,
     "schema_version": 3,
     "solution": false,
     "task": false
    }
   },
   "source": [
    "## Part III: Functions, Loops and Beyond!\n",
    "\n",
    "As we've seen, R has many built in functions; but, you can write your own, too! Below is the syntax.\n",
    "\n",
    "#### Write a function that concatenates two vectors."
   ]
  },
  {
   "cell_type": "code",
   "execution_count": 25,
   "metadata": {
    "deletable": false,
    "nbgrader": {
     "cell_type": "code",
     "checksum": "bcaf985ff098c304045d74b8f85a4a47",
     "grade": true,
     "grade_id": "cell-f0099c15888e7efb",
     "locked": false,
     "points": 0,
     "schema_version": 3,
     "solution": true,
     "task": false
    },
    "vscode": {
     "languageId": "r"
    }
   },
   "outputs": [
    {
     "data": {
      "text/html": [
       "<style>\n",
       ".list-inline {list-style: none; margin:0; padding: 0}\n",
       ".list-inline>li {display: inline-block}\n",
       ".list-inline>li:not(:last-child)::after {content: \"\\00b7\"; padding: 0 .5ex}\n",
       "</style>\n",
       "<ol class=list-inline><li>1</li><li>2</li><li>3</li><li>4</li><li>5</li><li>6</li></ol>\n"
      ],
      "text/latex": [
       "\\begin{enumerate*}\n",
       "\\item 1\n",
       "\\item 2\n",
       "\\item 3\n",
       "\\item 4\n",
       "\\item 5\n",
       "\\item 6\n",
       "\\end{enumerate*}\n"
      ],
      "text/markdown": [
       "1. 1\n",
       "2. 2\n",
       "3. 3\n",
       "4. 4\n",
       "5. 5\n",
       "6. 6\n",
       "\n",
       "\n"
      ],
      "text/plain": [
       "[1] 1 2 3 4 5 6"
      ]
     },
     "metadata": {},
     "output_type": "display_data"
    }
   ],
   "source": [
    "y = function(vec1, vec2){\n",
    "    output = c(vec1, vec2)\n",
    "    return(output)\n",
    "}\n",
    "y(c(1,2,3), c(4,5,6))\n"
   ]
  },
  {
   "cell_type": "markdown",
   "metadata": {
    "deletable": false,
    "editable": false,
    "nbgrader": {
     "cell_type": "markdown",
     "checksum": "cafae1af6928b631ac82c59f27d757da",
     "grade": false,
     "grade_id": "cell-8f25eb7bd9eb75dd",
     "locked": true,
     "schema_version": 3,
     "solution": false,
     "task": false
    }
   },
   "source": [
    "The function f1 below produces results like 'T' 'H' 'T' 'T'. We can think of `f1` a function that flips a coin four times. \n",
    "\n",
    "#### Write a function `f2` that can be interpreted as rolling a fair die eight times. How could you modify the code to roll a biased die?\n",
    "\n",
    "#### Notice that every time you run these function, the results are different! Uncomment the line `set.seed(99)` and notice what happens."
   ]
  },
  {
   "cell_type": "code",
   "execution_count": null,
   "metadata": {
    "vscode": {
     "languageId": "r"
    }
   },
   "outputs": [],
   "source": [
    "#set.seed(99)\n",
    "f1 = function(){\n",
    "    s = sample(c(\"H\", \"T\"), size = 4, replace = TRUE)\n",
    "    return(s)\n",
    "}\n",
    "\n",
    "f1()\n",
    "\n",
    "f2 = function(){\n",
    "    s = sample(c(1,2,3,4,5,6), size = 8, replace = TRUE)\n",
    "    return(s)\n",
    "}\n",
    "\n",
    "f2()"
   ]
  },
  {
   "cell_type": "markdown",
   "metadata": {
    "deletable": false,
    "editable": false,
    "nbgrader": {
     "cell_type": "markdown",
     "checksum": "2feda058852116e61fed11c62d27c399",
     "grade": false,
     "grade_id": "cell-4c6457c1505c7089",
     "locked": true,
     "schema_version": 3,
     "solution": false,
     "task": false
    }
   },
   "source": [
    "In R, just like in C++, Matlab, Python, etc., you can write loops to repeat a sequence of instructions until a certain condition is met.  \n",
    "\n",
    "#### Below is the syntax for a loop. Inside the loop, write a line of code that populates the matrix `M` with the numbers 1 through 20."
   ]
  },
  {
   "cell_type": "code",
   "execution_count": null,
   "metadata": {
    "deletable": false,
    "nbgrader": {
     "cell_type": "code",
     "checksum": "3e0429d9827d16c023ea95698819e4cd",
     "grade": true,
     "grade_id": "cell-86173bd48cc9dffe",
     "locked": false,
     "points": 0,
     "schema_version": 3,
     "solution": true,
     "task": false
    },
    "vscode": {
     "languageId": "r"
    }
   },
   "outputs": [],
   "source": [
    "n = 20; \n",
    "M = matrix(NA, ncol = 2, nrow = 10); #check the help file so that you know what this does!\n",
    "\n",
    "for (i in 1:n){\n",
    "    #YOUR CODE HERE\n",
    "    fail() # No Answer - remove if you provide an answer\n",
    "}\n",
    "M"
   ]
  },
  {
   "cell_type": "markdown",
   "metadata": {
    "deletable": false,
    "editable": false,
    "nbgrader": {
     "cell_type": "markdown",
     "checksum": "242344a20267a21c100101435d1e6699",
     "grade": false,
     "grade_id": "cell-b03ad0c060f0eac5",
     "locked": true,
     "schema_version": 3,
     "solution": false,
     "task": false
    }
   },
   "source": [
    "#### Now, write a loop to calculate the mean of each column of `M`."
   ]
  },
  {
   "cell_type": "code",
   "execution_count": null,
   "metadata": {
    "deletable": false,
    "nbgrader": {
     "cell_type": "code",
     "checksum": "d79dc129af0beae27faf01b431ce219e",
     "grade": true,
     "grade_id": "cell-87b55cec8ec1ec0e",
     "locked": false,
     "points": 0,
     "schema_version": 3,
     "solution": true,
     "task": false
    },
    "vscode": {
     "languageId": "r"
    }
   },
   "outputs": [],
   "source": [
    "m = matrix(NA, nrow = 2, ncol = 1)\n",
    "for (i in 1:2){\n",
    "    #YOUR CODE HERE\n",
    "    fail() # No Answer - remove if you provide an answer\n",
    "}\n",
    "m\n",
    "colMeans(M)"
   ]
  },
  {
   "cell_type": "markdown",
   "metadata": {
    "deletable": false,
    "editable": false,
    "nbgrader": {
     "cell_type": "markdown",
     "checksum": "8992eab41ca4f880904f92feef105edc",
     "grade": false,
     "grade_id": "cell-2c2f0ef6b7e1c1e2",
     "locked": true,
     "schema_version": 3,
     "solution": false,
     "task": false
    }
   },
   "source": [
    "### Here's an incredibly important lesson about R: many tasks that require loops in other languages (e.g., C++) *do not* require loops in R. \n",
    "\n",
    "#### As an example, use the function `colMeans()` to calculate the means of the columns of `M` without a loop. Store these means in a variable `M_means`. Then, look at the help file for `colMeans()` to see related functions."
   ]
  },
  {
   "cell_type": "code",
   "execution_count": null,
   "metadata": {
    "deletable": false,
    "nbgrader": {
     "cell_type": "code",
     "checksum": "c6a507ac1f05959b364980bb937a8b1d",
     "grade": false,
     "grade_id": "cell-00795123493d9486",
     "locked": false,
     "schema_version": 3,
     "solution": true,
     "task": false
    },
    "vscode": {
     "languageId": "r"
    }
   },
   "outputs": [],
   "source": [
    "#YOUR CODE HERE\n",
    "fail() # No Answer - remove if you provide an answer"
   ]
  },
  {
   "cell_type": "code",
   "execution_count": null,
   "metadata": {
    "deletable": false,
    "editable": false,
    "nbgrader": {
     "cell_type": "code",
     "checksum": "01cd507b51d20762c3b8bbd9a9e9fa3c",
     "grade": true,
     "grade_id": "cell-4f1e5d04b5750095",
     "locked": true,
     "points": 2,
     "schema_version": 3,
     "solution": false,
     "task": false
    },
    "vscode": {
     "languageId": "r"
    }
   },
   "outputs": [],
   "source": [
    "# Test Cell"
   ]
  },
  {
   "cell_type": "markdown",
   "metadata": {
    "deletable": false,
    "editable": false,
    "nbgrader": {
     "cell_type": "markdown",
     "checksum": "ff651b78c0e5bd564b90eb844df1a65d",
     "grade": false,
     "grade_id": "cell-ad87e7ccf67a7182",
     "locked": true,
     "schema_version": 3,
     "solution": false,
     "task": false
    }
   },
   "source": [
    "Note that the family of functions that includes `colMeans()` does not include a function to calculate the standard deviation or variance of a column (or row). But we can still do this without loops, using the `apply()` function.\n",
    "\n",
    "**Below, the `apply()` function is set up to calculate the variance of each row of M. Modify the code to calculate the standard deviation of each column of M. Store your answer in `col_sd`.**"
   ]
  },
  {
   "cell_type": "code",
   "execution_count": null,
   "metadata": {
    "deletable": false,
    "nbgrader": {
     "cell_type": "code",
     "checksum": "c43496f96994a29079a4cadf696f539d",
     "grade": false,
     "grade_id": "cell-7e7671c441c5ff3e",
     "locked": false,
     "schema_version": 3,
     "solution": true,
     "task": false
    },
    "vscode": {
     "languageId": "r"
    }
   },
   "outputs": [],
   "source": [
    "apply(M, 1, var)\n",
    "#YOUR CODE HERE\n",
    "fail() # No Answer - remove if you provide an answer"
   ]
  },
  {
   "cell_type": "code",
   "execution_count": null,
   "metadata": {
    "deletable": false,
    "editable": false,
    "nbgrader": {
     "cell_type": "code",
     "checksum": "934d550c05161dee904e55dd48404067",
     "grade": true,
     "grade_id": "cell-271117207f36b4d5",
     "locked": true,
     "points": 2,
     "schema_version": 3,
     "solution": false,
     "task": false
    },
    "vscode": {
     "languageId": "r"
    }
   },
   "outputs": [],
   "source": [
    "# Test Cell"
   ]
  },
  {
   "cell_type": "markdown",
   "metadata": {
    "deletable": false,
    "editable": false,
    "nbgrader": {
     "cell_type": "markdown",
     "checksum": "661a82100ecf83ec8d7289142a4641dd",
     "grade": false,
     "grade_id": "cell-dc81723526cc4fc7",
     "locked": true,
     "schema_version": 3,
     "solution": false,
     "task": false
    }
   },
   "source": [
    "Recall above that we wrote a function `f1` that flips a coin four times. As odd as it sounds, it will become desirable for us to repeat many times (say, $m$ times) the process of flipping a coin four times. The result might be a matrix with $m$ rows and four columns. \n",
    "\n",
    "#### Write a loop to repeat the process of \"flipping a coin four times\" 10,000 times. The result should be a 10,000 by 4 matrix."
   ]
  },
  {
   "cell_type": "code",
   "execution_count": null,
   "metadata": {
    "deletable": false,
    "nbgrader": {
     "cell_type": "code",
     "checksum": "6042efc9d30375b43939653772b3d8b0",
     "grade": true,
     "grade_id": "cell-8ed61fc3ca856f3d",
     "locked": false,
     "points": 0,
     "schema_version": 3,
     "solution": true,
     "task": false
    },
    "vscode": {
     "languageId": "r"
    }
   },
   "outputs": [],
   "source": [
    "#YOUR CODE HERE\n",
    "fail() # No Answer - remove if you provide an answer"
   ]
  },
  {
   "cell_type": "markdown",
   "metadata": {
    "deletable": false,
    "editable": false,
    "nbgrader": {
     "cell_type": "markdown",
     "checksum": "744e6cc01ea5985742734fdbdf6ac080",
     "grade": false,
     "grade_id": "cell-7978152942226a94",
     "locked": true,
     "schema_version": 3,
     "solution": false,
     "task": false
    }
   },
   "source": [
    "But, as master R programmers, we avoid loops whenever possible. One reason why we do this is because loops are slower than the fancy R alternatives. As an alternative to the loop above, let's use the `replicate()` function to repeat the coin flipping process.\n",
    "\n",
    "#### Using the help function as your guide, use `replicate()` to  repeat the process of \"flipping a coin four times\" 10,000 times."
   ]
  },
  {
   "cell_type": "code",
   "execution_count": null,
   "metadata": {
    "deletable": false,
    "nbgrader": {
     "cell_type": "code",
     "checksum": "5696e9881ddd9824bf7cd540ebe67d72",
     "grade": true,
     "grade_id": "cell-f2bab03be3855c33",
     "locked": false,
     "points": 0,
     "schema_version": 3,
     "solution": true,
     "task": false
    },
    "vscode": {
     "languageId": "r"
    }
   },
   "outputs": [],
   "source": [
    "#YOUR CODE HERE\n",
    "fail() # No Answer - remove if you provide an answer"
   ]
  },
  {
   "cell_type": "markdown",
   "metadata": {
    "deletable": false,
    "editable": false,
    "nbgrader": {
     "cell_type": "markdown",
     "checksum": "0cc597edc76d4ec44eb8261a82bb0d60",
     "grade": false,
     "grade_id": "cell-e767f634bceed89d",
     "locked": true,
     "schema_version": 3,
     "solution": false,
     "task": false
    }
   },
   "source": [
    "## Part IV: Working with Data Frames\n",
    "\n",
    "Datasets in R are stored as *data frames*. Data frames are just tables of data (vectors of data of equal length). It will be important for future assignments (and in life!) for you to be able to work with data frames.\n",
    "\n",
    "#### Take the vectors below and store them in a data frame, called `mydataframe`, using the function `data.frame()`."
   ]
  },
  {
   "cell_type": "code",
   "execution_count": null,
   "metadata": {
    "deletable": false,
    "nbgrader": {
     "cell_type": "code",
     "checksum": "e55d865fb0b9d6353b2393a19e9fd231",
     "grade": false,
     "grade_id": "cell-2e83c5c5da5b8762",
     "locked": false,
     "schema_version": 3,
     "solution": true,
     "task": false
    },
    "vscode": {
     "languageId": "r"
    }
   },
   "outputs": [],
   "source": [
    "d = c(1, 2, 3, 4)\n",
    "e = c(\"red\", \"white\", \"blue\", NA)\n",
    "f = c(TRUE, TRUE, TRUE, FALSE)\n",
    "\n",
    "#YOUR CODE HERE\n",
    "fail() # No Answer - remove if you provide an answer"
   ]
  },
  {
   "cell_type": "code",
   "execution_count": null,
   "metadata": {
    "deletable": false,
    "editable": false,
    "nbgrader": {
     "cell_type": "code",
     "checksum": "3dd8cd4a037baa28f8f019347c0a770c",
     "grade": true,
     "grade_id": "cell-e80d3dbdead4ab90",
     "locked": true,
     "points": 1,
     "schema_version": 3,
     "solution": false,
     "task": false
    },
    "vscode": {
     "languageId": "r"
    }
   },
   "outputs": [],
   "source": []
  },
  {
   "cell_type": "markdown",
   "metadata": {
    "deletable": false,
    "editable": false,
    "nbgrader": {
     "cell_type": "markdown",
     "checksum": "787d1209862c3c625e0ac6c3f8d554e4",
     "grade": false,
     "grade_id": "cell-6fc6446b84d381c6",
     "locked": true,
     "schema_version": 3,
     "solution": false,
     "task": false
    }
   },
   "source": [
    "Note that the names of the columns aren't informative (they are just the names of the vectors used to create that dataframe). We can change that..."
   ]
  },
  {
   "cell_type": "code",
   "execution_count": null,
   "metadata": {
    "vscode": {
     "languageId": "r"
    }
   },
   "outputs": [],
   "source": [
    "#rename columns of data frame\n",
    "names(mydataframe) = c(\"ID\", \"Color\", \"Passed\")\n",
    "mydataframe\n",
    "\n",
    "#name columns while creating data frame\n",
    "dataframe2 = data.frame(ID=d, Color=e, Passed=f)\n",
    "dataframe2"
   ]
  },
  {
   "cell_type": "markdown",
   "metadata": {
    "deletable": false,
    "editable": false,
    "nbgrader": {
     "cell_type": "markdown",
     "checksum": "950a22158ce75dbd68fac684c8724086",
     "grade": false,
     "grade_id": "cell-215c5432837ea2b2",
     "locked": true,
     "schema_version": 3,
     "solution": false,
     "task": false
    }
   },
   "source": [
    "There are a few ways that you can access elements of a dataframe. \n",
    "\n",
    "1. You can access columns of a dataframe by typing `mydataframe$NameOfColumn` or by typing `mydataframe[ ,i]` (the latter will print the $i^{th}$ column).\n",
    "\n",
    "2. To access the $i^{th}$ row, type `mydataframe[i, ]`.\n",
    "\n",
    "3. To access the $[i,j]$ element, type `mydataframe[i,j]`. Note that data frames are indexed just like matrices: [row, column].\n",
    "\n",
    "**Print the `Color` column of the dataframe from above in two different ways. Print the second row. Print the element containing \"white\".**"
   ]
  },
  {
   "cell_type": "code",
   "execution_count": null,
   "metadata": {
    "deletable": false,
    "nbgrader": {
     "cell_type": "code",
     "checksum": "a85406a027efcd82094a1120364dc85a",
     "grade": true,
     "grade_id": "cell-627500e27ac3576e",
     "locked": false,
     "points": 0,
     "schema_version": 3,
     "solution": true,
     "task": false
    },
    "vscode": {
     "languageId": "r"
    }
   },
   "outputs": [],
   "source": [
    "#YOUR CODE HERE\n",
    "fail() # No Answer - remove if you provide an answer"
   ]
  },
  {
   "cell_type": "markdown",
   "metadata": {
    "deletable": false,
    "editable": false,
    "nbgrader": {
     "cell_type": "markdown",
     "checksum": "7259194cf21271790d7f600601039e96",
     "grade": false,
     "grade_id": "cell-321dcf6f17a78835",
     "locked": true,
     "schema_version": 3,
     "solution": false,
     "task": false
    }
   },
   "source": [
    "You can save a dataframe using the function `write.table()`. \n",
    "\n",
    "#### Below, I give code to save `mydataframe` in a location on my computer. Modify the code to save it somewhere on your computer. I would take this time to think about being organized with your files for this course!\n",
    "\n",
    "Notice the `sep` argument is set to ` \"\\t\"`. This saves the file as a tab separated file. Look at the help file to see other options here."
   ]
  },
  {
   "cell_type": "markdown",
   "metadata": {},
   "source": [
    "!!! Note: Coursera won't let us run code that writes/reads data in or out of Coursera. So these writing/reading cells are for your future reference. "
   ]
  },
  {
   "cell_type": "code",
   "execution_count": null,
   "metadata": {
    "vscode": {
     "languageId": "r"
    }
   },
   "outputs": [],
   "source": [
    "###Writing data to file\n",
    "#write.table(mydataframe, paste(\"~/Google Drive/University of Colorado/example.txt\", sep = \"\"), sep = \"\\t\")"
   ]
  },
  {
   "cell_type": "markdown",
   "metadata": {
    "deletable": false,
    "editable": false,
    "nbgrader": {
     "cell_type": "markdown",
     "checksum": "e079e2e54cf6bea8b5320b92b1302f73",
     "grade": false,
     "grade_id": "cell-057bd2977900e19a",
     "locked": true,
     "schema_version": 3,
     "solution": false,
     "task": false
    }
   },
   "source": [
    "Now, let's read the file you saved back into R (this is going to be important for homework assignments!). \n",
    "\n",
    "**Modify the code below to read your file back into R. Investigate what the `header` argument is doing!**\n",
    "\n",
    "Note that the `head()` function prints the first few rows of your data frame. This can be helpful when you want to see how your data are organized, but don't want to print the whole thing."
   ]
  },
  {
   "cell_type": "code",
   "execution_count": null,
   "metadata": {
    "vscode": {
     "languageId": "r"
    }
   },
   "outputs": [],
   "source": [
    "#data = read.table(paste(\"~/Google Drive/University of Colorado/Boulder\",\n",
    "    #                     \"example.txt\", sep = \"\"), header = TRUE, sep = \"\\t\")\n",
    "#head(data)"
   ]
  },
  {
   "cell_type": "markdown",
   "metadata": {
    "deletable": false,
    "editable": false,
    "nbgrader": {
     "cell_type": "markdown",
     "checksum": "c33e56983f7f7ed69c2d608b0e7f7687",
     "grade": false,
     "grade_id": "cell-f311d3270e565a94",
     "locked": true,
     "schema_version": 3,
     "solution": false,
     "task": false
    }
   },
   "source": [
    "# Part V: Real-World Data Example\n",
    "\n",
    "## Topic #4: t-tests in R\n",
    "\n",
    "\n",
    "Let's explore a [dataset](https://dasl.datadescription.com/datafile/amazon-books/?_sfm_methods=Multiple+Regression&_sfm_cases=4+59943) about book prices from Amazon. The data consists of data on $n = 325$ books and includes measurements of:\n",
    "\n",
    "- `aprice`: The price listed on Amazon (dollars)\n",
    "\n",
    "\n",
    "- `lprice`: The book's list price (dollars)\n",
    "\n",
    "\n",
    "- `weight`: The book's weight (ounces)\n",
    "\n",
    "\n",
    "- `pages`: The number of pages in the book\n",
    "\n",
    "\n",
    "- `height`: The book's height (inches)\n",
    "\n",
    "\n",
    "- `width`: The book's width (inches)\n",
    "\n",
    "\n",
    "- `thick`: The thickness of the book (inches)\n",
    "\n",
    "\n",
    "- `cover`: Whether the book is a hard cover of paperback.\n",
    "\n",
    "\n",
    "- And other variables...\n",
    "\n",
    "First, we'll read this data in from Github..."
   ]
  },
  {
   "cell_type": "code",
   "execution_count": 1,
   "metadata": {
    "vscode": {
     "languageId": "r"
    }
   },
   "outputs": [
    {
     "data": {
      "text/html": [
       "<style>\n",
       ".list-inline {list-style: none; margin:0; padding: 0}\n",
       ".list-inline>li {display: inline-block}\n",
       ".list-inline>li:not(:last-child)::after {content: \"\\00b7\"; padding: 0 .5ex}\n",
       "</style>\n",
       "<ol class=list-inline><li>'Title'</li><li>'Author'</li><li>'List.Price'</li><li>'Amazon.Price'</li><li>'Hard..Paper'</li><li>'NumPages'</li><li>'Publisher'</li><li>'Pub.year'</li><li>'ISBN.10'</li><li>'Height'</li><li>'Width'</li><li>'Thick'</li><li>'Weight..oz.'</li></ol>\n"
      ],
      "text/latex": [
       "\\begin{enumerate*}\n",
       "\\item 'Title'\n",
       "\\item 'Author'\n",
       "\\item 'List.Price'\n",
       "\\item 'Amazon.Price'\n",
       "\\item 'Hard..Paper'\n",
       "\\item 'NumPages'\n",
       "\\item 'Publisher'\n",
       "\\item 'Pub.year'\n",
       "\\item 'ISBN.10'\n",
       "\\item 'Height'\n",
       "\\item 'Width'\n",
       "\\item 'Thick'\n",
       "\\item 'Weight..oz.'\n",
       "\\end{enumerate*}\n"
      ],
      "text/markdown": [
       "1. 'Title'\n",
       "2. 'Author'\n",
       "3. 'List.Price'\n",
       "4. 'Amazon.Price'\n",
       "5. 'Hard..Paper'\n",
       "6. 'NumPages'\n",
       "7. 'Publisher'\n",
       "8. 'Pub.year'\n",
       "9. 'ISBN.10'\n",
       "10. 'Height'\n",
       "11. 'Width'\n",
       "12. 'Thick'\n",
       "13. 'Weight..oz.'\n",
       "\n",
       "\n"
      ],
      "text/plain": [
       " [1] \"Title\"        \"Author\"       \"List.Price\"   \"Amazon.Price\" \"Hard..Paper\" \n",
       " [6] \"NumPages\"     \"Publisher\"    \"Pub.year\"     \"ISBN.10\"      \"Height\"      \n",
       "[11] \"Width\"        \"Thick\"        \"Weight..oz.\" "
      ]
     },
     "metadata": {},
     "output_type": "display_data"
    }
   ],
   "source": [
    "library(RCurl) #a package that includes the function getURL(), which allows for reading data from github.\n",
    "library(ggplot2) #a package for nice plots!\n",
    "\n",
    "#getURL is a nice way of reading in data from the web\n",
    "url = getURL(paste0(\"https://raw.githubusercontent.com/bzaharatos/\",\n",
    "                    \"-Statistical-Modeling-for-Data-Science-Applications/\",\n",
    "                    \"master/Modern%20Regression%20Analysis%20/Datasets/amazon.txt\"))\n",
    "#stores the data in the dataframe amazon\n",
    "amazon = read.csv(text = url, sep = \"\\t\")\n",
    "\n",
    "#prints the names in the dataframe\n",
    "names(amazon)"
   ]
  },
  {
   "cell_type": "markdown",
   "metadata": {
    "deletable": false,
    "editable": false,
    "nbgrader": {
     "cell_type": "markdown",
     "checksum": "cda684cb34a89e58c5dc0badcbf0ecd3",
     "grade": false,
     "grade_id": "cell-30085bf34985bca5",
     "locked": true,
     "schema_version": 3,
     "solution": false,
     "task": false
    }
   },
   "source": [
    "Next, let's create a new data frame, called `df`, and store a subset of the variables. In addition, we'll change the names of the variables in the dataframe to something cleaner and easier to work with. Take note of how to do this :)"
   ]
  },
  {
   "cell_type": "code",
   "execution_count": null,
   "metadata": {
    "vscode": {
     "languageId": "r"
    }
   },
   "outputs": [],
   "source": [
    "df = data.frame(aprice = amazon$Amazon.Price, lprice = as.numeric(amazon$List.Price),  \n",
    "                pages = amazon$NumPages, width = amazon$Width, weight = amazon$Weight..oz,  \n",
    "                height = amazon$Height, thick = amazon$Thick, cover = amazon$Hard..Paper)\n",
    "\n",
    "summary(df)\n"
   ]
  },
  {
   "cell_type": "markdown",
   "metadata": {
    "deletable": false,
    "editable": false,
    "nbgrader": {
     "cell_type": "markdown",
     "checksum": "8749f89006f7b3ed5e23f64719f23ca1",
     "grade": false,
     "grade_id": "cell-49e2cc4014b2bb7d",
     "locked": true,
     "schema_version": 3,
     "solution": false,
     "task": false
    }
   },
   "source": [
    "From the summary, we can see that there are missing values in the dataset, coded as `NA`. There are many ways to deal with missing data. Suppose that sample unit $i$ has a missing measurement for variable $z_j$. We could:\n",
    "\n",
    "1. Delete sample unit $i$ from the dataset, i.e., delete the entire row. That might be reasonable if there are very view missing values and if we think the values are missing at random.\n",
    "\n",
    "2. Delete the variable $z_j$ from the dataset, i.e., delete the entire column. This might be reasonable if there are many many other missing values for $z_j$ and if we think $z_j$ might not be neccesary for our overall prediction/explanation goals.\n",
    "\n",
    "3.  Impute missing values by substituting each missing value with an estimate.\n",
    "\n",
    "For more information on missing values, see this [resource](https://www.bu.edu/sph/files/2014/05/Marina-tech-report.pdf).\n",
    "\n",
    "Since most of our columns/variables are not missing values, and since these variables will be useful to us in our analysis, option 2 seems unreasonable. Let's first try option 3: impute the missing values of `lprice`, `pages`, `width`, `weight`, `height`, and `thick` with the mean of each. The `which()` and `is.na()` functions might help:"
   ]
  },
  {
   "cell_type": "code",
   "execution_count": null,
   "metadata": {
    "deletable": false,
    "editable": false,
    "nbgrader": {
     "cell_type": "code",
     "checksum": "6407576a324d7046328ca3793deb1598",
     "grade": false,
     "grade_id": "cell-682d4c0f562df588",
     "locked": true,
     "schema_version": 3,
     "solution": false,
     "task": false
    },
    "vscode": {
     "languageId": "r"
    }
   },
   "outputs": [],
   "source": [
    "which(is.na(df$lprice))"
   ]
  },
  {
   "cell_type": "code",
   "execution_count": null,
   "metadata": {
    "deletable": false,
    "nbgrader": {
     "cell_type": "code",
     "checksum": "c043d0dbde4c6451ed6eba2ed142eac4",
     "grade": false,
     "grade_id": "cell-51e343bf94becddd",
     "locked": false,
     "schema_version": 3,
     "solution": true,
     "task": false
    },
    "vscode": {
     "languageId": "r"
    }
   },
   "outputs": [],
   "source": [
    "#YOUR CODE HERE\n",
    "fail() # No Answer - remove if you provide an answer\n",
    "summary(df)"
   ]
  },
  {
   "cell_type": "code",
   "execution_count": null,
   "metadata": {
    "deletable": false,
    "editable": false,
    "nbgrader": {
     "cell_type": "code",
     "checksum": "8f2f74f880c7c6c4950bec19a42eb1f2",
     "grade": true,
     "grade_id": "cell-a95747020e7b897e",
     "locked": true,
     "points": 1,
     "schema_version": 3,
     "solution": false,
     "task": false
    },
    "vscode": {
     "languageId": "r"
    }
   },
   "outputs": [],
   "source": []
  },
  {
   "cell_type": "markdown",
   "metadata": {
    "deletable": false,
    "editable": false,
    "nbgrader": {
     "cell_type": "markdown",
     "checksum": "19975871e9c1938da8183306f2249dbe",
     "grade": false,
     "grade_id": "cell-1e5018df495011b9",
     "locked": true,
     "schema_version": 3,
     "solution": false,
     "task": false
    }
   },
   "source": [
    "#### Use the `summary()` function to print numerical summaries of this dataset. "
   ]
  },
  {
   "cell_type": "code",
   "execution_count": null,
   "metadata": {
    "deletable": false,
    "nbgrader": {
     "cell_type": "code",
     "checksum": "09e0eaaed77d255bc99c8091646305d0",
     "grade": true,
     "grade_id": "cell-fa0930e7fb0848a7",
     "locked": false,
     "points": 0,
     "schema_version": 3,
     "solution": true,
     "task": false
    },
    "vscode": {
     "languageId": "r"
    }
   },
   "outputs": [],
   "source": [
    "#YOUR CODE HERE\n",
    "fail() # No Answer - remove if you provide an answer"
   ]
  },
  {
   "cell_type": "markdown",
   "metadata": {
    "deletable": false,
    "editable": false,
    "nbgrader": {
     "cell_type": "markdown",
     "checksum": "53552406d15dd125ea8f726d259c5cb0",
     "grade": false,
     "grade_id": "cell-0ec9894ac6aded1f",
     "locked": true,
     "schema_version": 3,
     "solution": false,
     "task": false
    }
   },
   "source": [
    "#### Use the `sort()` function to order the`lprice` variable from lowest to highest. Remember to use the `df` data frame!"
   ]
  },
  {
   "cell_type": "code",
   "execution_count": null,
   "metadata": {
    "deletable": false,
    "nbgrader": {
     "cell_type": "code",
     "checksum": "03d2494e9917ae3c7babc94350be38d7",
     "grade": true,
     "grade_id": "cell-dbf19728a4143ca9",
     "locked": false,
     "points": 0,
     "schema_version": 3,
     "solution": true,
     "task": false
    },
    "vscode": {
     "languageId": "r"
    }
   },
   "outputs": [],
   "source": [
    "#YOUR CODE HERE\n",
    "fail() # No Answer - remove if you provide an answer"
   ]
  },
  {
   "cell_type": "markdown",
   "metadata": {
    "deletable": false,
    "editable": false,
    "nbgrader": {
     "cell_type": "markdown",
     "checksum": "092d6f86104e4510b618b2fd2d8c96e6",
     "grade": false,
     "grade_id": "cell-a04f79d0a3404a7f",
     "locked": true,
     "schema_version": 3,
     "solution": false,
     "task": false
    }
   },
   "source": [
    "#### Code the `cover`  varible as a factor."
   ]
  },
  {
   "cell_type": "code",
   "execution_count": null,
   "metadata": {
    "deletable": false,
    "nbgrader": {
     "cell_type": "code",
     "checksum": "f438ce15a0157ec258c379e2f15a515e",
     "grade": false,
     "grade_id": "cell-00b558fade12e38d",
     "locked": false,
     "schema_version": 3,
     "solution": true,
     "task": false
    },
    "vscode": {
     "languageId": "r"
    }
   },
   "outputs": [],
   "source": [
    "#YOUR CODE HERE\n",
    "fail() # No Answer - remove if you provide an answer"
   ]
  },
  {
   "cell_type": "code",
   "execution_count": null,
   "metadata": {
    "deletable": false,
    "editable": false,
    "nbgrader": {
     "cell_type": "code",
     "checksum": "3e52988746aa14b7e953c0f6e3ce43e8",
     "grade": true,
     "grade_id": "cell-d3b231c19c8662f2",
     "locked": true,
     "points": 1,
     "schema_version": 3,
     "solution": false,
     "task": false
    },
    "vscode": {
     "languageId": "r"
    }
   },
   "outputs": [],
   "source": []
  },
  {
   "cell_type": "markdown",
   "metadata": {
    "deletable": false,
    "editable": false,
    "nbgrader": {
     "cell_type": "markdown",
     "checksum": "829463ee6acfb365b883a50836b67879",
     "grade": false,
     "grade_id": "cell-ddabb3f4c0f62f4f",
     "locked": true,
     "schema_version": 3,
     "solution": false,
     "task": false
    }
   },
   "source": [
    "#### Note that you could provide more descriptive labels for the levels of this factor (note that `H` = \"Hardcover\" and `P` = \"Paperback\"). The easiest way do do this is with the `levels()` function: `levels(x) = value`. "
   ]
  },
  {
   "cell_type": "code",
   "execution_count": null,
   "metadata": {
    "vscode": {
     "languageId": "r"
    }
   },
   "outputs": [],
   "source": [
    "levels(df$cover) = c(\"Hardcover\",\"Paperback\")\n",
    "summary(df)"
   ]
  },
  {
   "cell_type": "markdown",
   "metadata": {
    "deletable": false,
    "editable": false,
    "nbgrader": {
     "cell_type": "markdown",
     "checksum": "9954cd23685f3edef02f03775ad7d905",
     "grade": false,
     "grade_id": "cell-0c5f9ab6045d4f7a",
     "locked": true,
     "schema_version": 3,
     "solution": false,
     "task": false
    }
   },
   "source": [
    "#### Print a histogram of the `pages` variable. Comment on it's shape."
   ]
  },
  {
   "cell_type": "code",
   "execution_count": null,
   "metadata": {
    "deletable": false,
    "nbgrader": {
     "cell_type": "code",
     "checksum": "e0693cd6ee5681479aea23c140da8d42",
     "grade": true,
     "grade_id": "cell-e985293a62940ef7",
     "locked": false,
     "points": 0,
     "schema_version": 3,
     "solution": true,
     "task": false
    },
    "vscode": {
     "languageId": "r"
    }
   },
   "outputs": [],
   "source": [
    "#YOUR CODE HERE\n",
    "fail() # No Answer - remove if you provide an answer"
   ]
  },
  {
   "cell_type": "markdown",
   "metadata": {
    "deletable": false,
    "nbgrader": {
     "cell_type": "markdown",
     "checksum": "cec5b2e8214469dcd2a6efd0f885aeeb",
     "grade": true,
     "grade_id": "cell-c092ae95b3dd2f02",
     "locked": false,
     "points": 0,
     "schema_version": 3,
     "solution": true,
     "task": false
    }
   },
   "source": [
    "YOUR ANSWER HERE"
   ]
  },
  {
   "cell_type": "markdown",
   "metadata": {
    "deletable": false,
    "editable": false,
    "nbgrader": {
     "cell_type": "markdown",
     "checksum": "83e0b175247cf3aebaf454a70afd095b",
     "grade": false,
     "grade_id": "cell-bcf9df5a9a9f9f9a",
     "locked": true,
     "schema_version": 3,
     "solution": false,
     "task": false
    }
   },
   "source": [
    "#### Use the `plot()` function to produce a scatterplot of `aprice` ($y$) against `lprice` ($x$). What do you notice about this plot?"
   ]
  },
  {
   "cell_type": "code",
   "execution_count": null,
   "metadata": {
    "deletable": false,
    "nbgrader": {
     "cell_type": "code",
     "checksum": "7ac9fd587d1b6806fc3619aeb2cdb323",
     "grade": true,
     "grade_id": "cell-10715440cbfc4328",
     "locked": false,
     "points": 0,
     "schema_version": 3,
     "solution": true,
     "task": false
    },
    "vscode": {
     "languageId": "r"
    }
   },
   "outputs": [],
   "source": [
    "#YOUR CODE HERE\n",
    "fail() # No Answer - remove if you provide an answer"
   ]
  },
  {
   "cell_type": "markdown",
   "metadata": {
    "deletable": false,
    "nbgrader": {
     "cell_type": "markdown",
     "checksum": "df95326a14ad164ee4c6d360b5daea28",
     "grade": true,
     "grade_id": "cell-8a92f7e5688ebef9",
     "locked": false,
     "points": 0,
     "schema_version": 3,
     "solution": true,
     "task": false
    }
   },
   "source": [
    "YOUR ANSWER HERE"
   ]
  },
  {
   "cell_type": "markdown",
   "metadata": {
    "deletable": false,
    "editable": false,
    "nbgrader": {
     "cell_type": "markdown",
     "checksum": "83a64a7cf668fbcd711cef326e8b8328",
     "grade": false,
     "grade_id": "cell-c5aa494c40ce32a9",
     "locked": true,
     "schema_version": 3,
     "solution": false,
     "task": false
    }
   },
   "source": [
    "#### Use the `boxplot()` function to produce a boxplot of `pages` conditioned on `cover`. Interpret this plot."
   ]
  },
  {
   "cell_type": "code",
   "execution_count": null,
   "metadata": {
    "deletable": false,
    "nbgrader": {
     "cell_type": "code",
     "checksum": "90a08e652c94a59cd9d37c012dbe9dc0",
     "grade": true,
     "grade_id": "cell-75862cff4a93c8f5",
     "locked": false,
     "points": 0,
     "schema_version": 3,
     "solution": true,
     "task": false
    },
    "vscode": {
     "languageId": "r"
    }
   },
   "outputs": [],
   "source": [
    "#YOUR CODE HERE\n",
    "fail() # No Answer - remove if you provide an answer"
   ]
  },
  {
   "cell_type": "markdown",
   "metadata": {
    "deletable": false,
    "nbgrader": {
     "cell_type": "markdown",
     "checksum": "5b2d0c134dbbafba3398870f33d00078",
     "grade": true,
     "grade_id": "cell-d3bce347cdf5a62e",
     "locked": false,
     "points": 0,
     "schema_version": 3,
     "solution": true,
     "task": false
    }
   },
   "source": [
    "YOUR ANSWER HERE"
   ]
  },
  {
   "cell_type": "markdown",
   "metadata": {
    "deletable": false,
    "editable": false,
    "nbgrader": {
     "cell_type": "markdown",
     "checksum": "631e518743d1cf6fe738b120b011175d",
     "grade": false,
     "grade_id": "cell-6132102c0a984443",
     "locked": true,
     "schema_version": 3,
     "solution": false,
     "task": false
    }
   },
   "source": [
    "Note another way to read data from the web..."
   ]
  },
  {
   "cell_type": "code",
   "execution_count": null,
   "metadata": {
    "deletable": false,
    "editable": false,
    "nbgrader": {
     "cell_type": "code",
     "checksum": "963a35afad4a5e13c90538507dd9dfa0",
     "grade": false,
     "grade_id": "cell-6982a3c861737ad0",
     "locked": true,
     "schema_version": 3,
     "solution": false,
     "task": false
    },
    "vscode": {
     "languageId": "r"
    }
   },
   "outputs": [],
   "source": [
    "### Reading data from the web...\n",
    "read.table(\"http://www.stats.ox.ac.uk/pub/datasets/csb/ch11b.dat\")"
   ]
  }
 ],
 "metadata": {
  "kernelspec": {
   "display_name": "R",
   "language": "R",
   "name": "ir"
  },
  "language_info": {
   "codemirror_mode": "r",
   "file_extension": ".r",
   "mimetype": "text/x-r-source",
   "name": "R",
   "pygments_lexer": "r",
   "version": "4.4.3"
  }
 },
 "nbformat": 4,
 "nbformat_minor": 2
}
