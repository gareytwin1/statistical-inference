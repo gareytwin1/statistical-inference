{
 "cells": [
  {
   "cell_type": "markdown",
   "metadata": {},
   "source": [
    "# Visualizing Errors in Hypothesis Testing"
   ]
  },
  {
   "cell_type": "markdown",
   "metadata": {},
   "source": [
    ">In Lesson 6 of Module 1, we derived a hypothesis test for $$H_{0}: \\mu = \\mu_{0}$$ $$H_{1}: \\mu = \\mu_{1}$$ for a random sample of size $n$ from the $N(\\mu,\\sigma^{2})$ distribution with $\\sigma^{2}$ known.\n",
    ">\n",
    ">We assumed that $\\mu_{0}< \\mu_{1}$ and our test was to $$\\text{Reject} \\,\\, H_{0}, \\,\\, \\text{in favor of} \\,\\, H_{1} \\,\\, \\text{if} \\,\\, \\overline{X}>\\mu_{0}+z_{\\alpha} \\frac{\\sigma}{\\sqrt{n}}$$.\n",
    ">\n",
    "> Suppose that $n=10$, $\\mu_{0}=2$, $\\mu_{1}=3$, $\\sigma^{2}=5$, and $\\alpha=0.05$. Enter these values in the next cell. Call them mu0, mu1, sigmasq, and alpha.\n",
    ">\n",
    "> For example, type `mu0<-2`. Hit Enter to get to the next line and contine until they are all entered. Hit Shift+Enter to run the cell."
   ]
  },
  {
   "cell_type": "code",
   "execution_count": 1,
   "metadata": {
    "vscode": {
     "languageId": "r"
    }
   },
   "outputs": [],
   "source": [
    "mu0 = 2\n",
    "mu1 = 3\n",
    "sigmasq = 5\n",
    "alpha = 0.05\n",
    "n = 10"
   ]
  },
  {
   "cell_type": "markdown",
   "metadata": {},
   "source": [
    "> Recall that the <b>critical value</b> $z_{\\alpha}$ is the number that cuts off area 0.05 to the right under the standard normal curve. In the next cell, type \n",
    ">\n",
    "> `cv<-qnorm(1-alpha)`\n",
    ">\n",
    "> Before running the cell, we will compute the cutoff value $\\mu_{0}+z_{\\alpha} \\frac{\\sigma}{\\sqrt{n}}$. In the lecture videos, we called this value \"c\". In R, \"c\",followed by \"()\" is a function that is used to create vectors. We can also define a variable \"c\", but to avoid any problems with protected symbols, let us call the cutoff \"cee\".\n",
    ">\n",
    "> Add the following to the cell below and run the cell.\n",
    ">\n",
    ">`cee<-mu0+cv*sqrt(sigmasq)/sqrt(n)`"
   ]
  },
  {
   "cell_type": "code",
   "execution_count": 3,
   "metadata": {
    "vscode": {
     "languageId": "r"
    }
   },
   "outputs": [
    {
     "data": {
      "text/html": [
       "1.64485362695147"
      ],
      "text/latex": [
       "1.64485362695147"
      ],
      "text/markdown": [
       "1.64485362695147"
      ],
      "text/plain": [
       "[1] 1.644854"
      ]
     },
     "metadata": {},
     "output_type": "display_data"
    },
    {
     "data": {
      "text/html": [
       "3.16308715367667"
      ],
      "text/latex": [
       "3.16308715367667"
      ],
      "text/markdown": [
       "3.16308715367667"
      ],
      "text/plain": [
       "[1] 3.163087"
      ]
     },
     "metadata": {},
     "output_type": "display_data"
    }
   ],
   "source": [
    "cv = qnorm(1-alpha)\n",
    "cee = mu0 + cv*sqrt(sigmasq)/sqrt(n)\n",
    "cv\n",
    "cee"
   ]
  },
  {
   "cell_type": "markdown",
   "metadata": {},
   "source": [
    "> In the cell above, type `cee` in the third line and run the cell. This will show you the cutoff you have computed.\n",
    ">\n",
    "> If the null hypothesis is true, the mean of the normal distribution we are working with is $2$. The $N(2,5)$ distribution will certainly produce values above $3$. This cutoff \"cee\" tells us what value above $2$ is large enough for us to start believing that the true mean is no longer $2$ but something larger."
   ]
  },
  {
   "cell_type": "markdown",
   "metadata": {},
   "source": [
    "> Let's simulate 10 values from the normal distribution with mean 2 and variance 5 and putting the results in a vector called \"my sample\". We can do this by simulating ten N(0,1) random variables, multiplying by the desired standard deviation and adding the desired mean. \n",
    "\n",
    "> In the cell below, type\n",
    ">\n",
    ">`mysample<-sqrt(5)*rnorm(10)+2`\n",
    ">\n",
    "> Alternatively you could simulate values directly from the desired distribution by typing\n",
    ">\n",
    ">`mysample<-rnorm(10,2,sqrt(5))`\n",
    ">\n",
    "> After either command, run the cell by holding down the Shift key and hitting Enter."
   ]
  },
  {
   "cell_type": "code",
   "execution_count": 15,
   "metadata": {
    "vscode": {
     "languageId": "r"
    }
   },
   "outputs": [
    {
     "data": {
      "text/html": [
       "<style>\n",
       ".list-inline {list-style: none; margin:0; padding: 0}\n",
       ".list-inline>li {display: inline-block}\n",
       ".list-inline>li:not(:last-child)::after {content: \"\\00b7\"; padding: 0 .5ex}\n",
       "</style>\n",
       "<ol class=list-inline><li>0.75170982447777</li><li>0.917084746814787</li><li>1.65267651816727</li><li>3.65257908756442</li><li>3.78656027323203</li><li>3.64231464864337</li><li>3.28274365066978</li><li>4.30571690963156</li><li>0.628656084402818</li><li>3.45376547295613</li></ol>\n"
      ],
      "text/latex": [
       "\\begin{enumerate*}\n",
       "\\item 0.75170982447777\n",
       "\\item 0.917084746814787\n",
       "\\item 1.65267651816727\n",
       "\\item 3.65257908756442\n",
       "\\item 3.78656027323203\n",
       "\\item 3.64231464864337\n",
       "\\item 3.28274365066978\n",
       "\\item 4.30571690963156\n",
       "\\item 0.628656084402818\n",
       "\\item 3.45376547295613\n",
       "\\end{enumerate*}\n"
      ],
      "text/markdown": [
       "1. 0.75170982447777\n",
       "2. 0.917084746814787\n",
       "3. 1.65267651816727\n",
       "4. 3.65257908756442\n",
       "5. 3.78656027323203\n",
       "6. 3.64231464864337\n",
       "7. 3.28274365066978\n",
       "8. 4.30571690963156\n",
       "9. 0.628656084402818\n",
       "10. 3.45376547295613\n",
       "\n",
       "\n"
      ],
      "text/plain": [
       " [1] 0.7517098 0.9170847 1.6526765 3.6525791 3.7865603 3.6423146 3.2827437\n",
       " [8] 4.3057169 0.6286561 3.4537655"
      ]
     },
     "metadata": {},
     "output_type": "display_data"
    }
   ],
   "source": [
    "mysample = rnorm(10, 2, sqrt(5))\n",
    "mysample"
   ]
  },
  {
   "cell_type": "markdown",
   "metadata": {},
   "source": [
    "> What is the sample mean for your sample? In the next cell, type\n",
    ">\n",
    ">`mean(mysample)`\n",
    ">\n",
    "> and run the cell."
   ]
  },
  {
   "cell_type": "code",
   "execution_count": 16,
   "metadata": {
    "vscode": {
     "languageId": "r"
    }
   },
   "outputs": [
    {
     "data": {
      "text/html": [
       "2.60738072165599"
      ],
      "text/latex": [
       "2.60738072165599"
      ],
      "text/markdown": [
       "2.60738072165599"
      ],
      "text/plain": [
       "[1] 2.607381"
      ]
     },
     "metadata": {},
     "output_type": "display_data"
    }
   ],
   "source": [
    "mean(mysample)"
   ]
  },
  {
   "cell_type": "markdown",
   "metadata": {},
   "source": [
    "> If your result is below your value of cee. You will fail to reject the null hypothesis. You are concluding that the sample did indeed come from the normal distribution with mean $2$, which it did.\n",
    ">\n",
    "> On the other hand, if your result is above your value of cee, you will reject the null hypothesis. Your sample did, in fact, come from the normal distribution with mean $2$ but you are concluding that the mean is actually higher than $2$. You have made a Type I Error.\n",
    ">\n",
    "> What happened in your case?\n",
    "\n"
   ]
  },
  {
   "cell_type": "markdown",
   "metadata": {},
   "source": [
    "> If we repeat our little experiment many times, we should see that will are making the Type I Error roughly 5% of the time. Let's try it!\n",
    ">\n",
    "> We will repeat our experiment 1,000 times. In the next cell, type\n",
    ">\n",
    "> >`results<-rep(0,1000)`\n",
    "> >\n",
    "> > `for( i in 1:1000){`\n",
    "> >\n",
    "> > &nbsp; &nbsp; &nbsp; `mysample<-sqrt(5)*rnorm(10)+2`\n",
    "> >\n",
    "> >`}`\n",
    ">\n",
    "> Indentation is not necessary in R but we include it for clarity. \"results\" is a vector of 1,000 zeros that will indicate the result for each sample.\n",
    ">\n",
    "> Underneath the line where you produce a sample, but before the closing brackets on the \"for statement\", we will check whether or not we will reject $H_{0}$. In there, type\n",
    ">\n",
    "> `if(mean(mysample)>cee){`\n",
    ">\n",
    ">  &nbsp; &nbsp; &nbsp; `results[i]<-1`\n",
    ">\n",
    "> `}`\n",
    ">\n",
    "> and then run the entire code by running the cell."
   ]
  },
  {
   "cell_type": "code",
   "execution_count": 33,
   "metadata": {
    "vscode": {
     "languageId": "r"
    }
   },
   "outputs": [
    {
     "data": {
      "text/plain": [
       "results\n",
       "     0      1 \n",
       "950559  49441 "
      ]
     },
     "metadata": {},
     "output_type": "display_data"
    }
   ],
   "source": [
    "results = rep(0, 1000000)\n",
    "for(i in 1:1000000){\n",
    "    mysample = sqrt(5) * rnorm(10) + 2\n",
    "    if(mean(mysample) > cee){\n",
    "        results[i] = 1\n",
    "    }\n",
    "}\n",
    "table(results)"
   ]
  },
  {
   "cell_type": "markdown",
   "metadata": {},
   "source": [
    "> The \"results\" vector is filled with 0's and 1's. The 1's occur every time we made a Type I error. The proportion of 1's can be gotten by summing everything in the vector and dividing by 1,000.\n",
    ">\n",
    "> `sum(results)/1000`"
   ]
  },
  {
   "cell_type": "code",
   "execution_count": 34,
   "metadata": {
    "vscode": {
     "languageId": "r"
    }
   },
   "outputs": [
    {
     "data": {
      "text/html": [
       "0.049441"
      ],
      "text/latex": [
       "0.049441"
      ],
      "text/markdown": [
       "0.049441"
      ],
      "text/plain": [
       "[1] 0.049441"
      ]
     },
     "metadata": {},
     "output_type": "display_data"
    }
   ],
   "source": [
    "sum(results)/1000000"
   ]
  },
  {
   "cell_type": "markdown",
   "metadata": {},
   "source": [
    "> DId you see something close to 0.05? Just for fun, run both of the last cells again. When you are done, try changing all instances of 1,000 to 10,000. You will, in fact, make a Type I error 5% of the time, but you'll need a lot of trials to make that number come in to focus! This is no different than having a coin with a 50-50 chance of coming up \"Heads\" when flipped. If you flip it 10 times, you might see 6 \"Heads\" and 4 \"Tails\". That doesn't mean that the probability of getting \"Heads\" is $0.60$. You just need more data to see it!\n"
   ]
  },
  {
   "cell_type": "markdown",
   "metadata": {},
   "source": [
    "## Intro to Hypothesis Testing Quiz \n",
    "**Question 2**"
   ]
  },
  {
   "cell_type": "code",
   "execution_count": 5,
   "metadata": {
    "vscode": {
     "languageId": "r"
    }
   },
   "outputs": [
    {
     "data": {
      "text/html": [
       "-1.2815515655446"
      ],
      "text/latex": [
       "-1.2815515655446"
      ],
      "text/markdown": [
       "-1.2815515655446"
      ],
      "text/plain": [
       "[1] -1.281552"
      ]
     },
     "metadata": {},
     "output_type": "display_data"
    },
    {
     "data": {
      "text/html": [
       "17.5700493173679"
      ],
      "text/latex": [
       "17.5700493173679"
      ],
      "text/markdown": [
       "17.5700493173679"
      ],
      "text/plain": [
       "[1] 17.57005"
      ]
     },
     "metadata": {},
     "output_type": "display_data"
    }
   ],
   "source": [
    "n = 73\n",
    "mu = 18.86\n",
    "sigma = 8.6\n",
    "alpha = 0.10\n",
    "\n",
    "cv = qnorm(alpha)\n",
    "cee = mu + cv*sigma/sqrt(n)\n",
    "cv\n",
    "cee"
   ]
  },
  {
   "cell_type": "code",
   "execution_count": 4,
   "metadata": {
    "vscode": {
     "languageId": "r"
    }
   },
   "outputs": [
    {
     "data": {
      "text/html": [
       "<style>\n",
       ".list-inline {list-style: none; margin:0; padding: 0}\n",
       ".list-inline>li {display: inline-block}\n",
       ".list-inline>li:not(:last-child)::after {content: \"\\00b7\"; padding: 0 .5ex}\n",
       "</style>\n",
       "<ol class=list-inline><li>19.0280810379059</li><li>21.8661140831829</li><li>22.2473181169656</li><li>20.5031014428566</li><li>19.8164933942523</li><li>19.9870132743533</li><li>21.8493893612376</li><li>18.1173060161981</li><li>25.9322853225246</li><li>19.939016235917</li><li>22.7215124937449</li><li>22.7665577634401</li><li>22.1723616285098</li><li>23.7468828395624</li><li>15.9804996708942</li><li>17.2589828429937</li><li>22.8380809606398</li><li>16.6408904991923</li><li>18.5992128768622</li><li>24.4782427686514</li><li>21.3464116044227</li><li>22.398879290216</li><li>19.9682345835444</li><li>16.7627177193976</li><li>17.0233085194541</li><li>17.8359260580256</li><li>26.8200107452356</li><li>15.6340007531409</li><li>25.5614440177223</li><li>19.7390801824458</li><li>18.999306522841</li><li>21.7640945813385</li><li>22.2241587485288</li><li>21.0207491541506</li><li>19.5555709958923</li><li>19.4434790470021</li><li>21.1432507717131</li><li>16.5273383439424</li><li>20.1510880727243</li><li>19.5205586741348</li><li>23.2621644430626</li><li>15.2427502582528</li><li>21.7216493453332</li><li>22.3186545672047</li><li>16.1940291297594</li><li>27.0583761377686</li><li>18.8071486329904</li><li>21.0935870743362</li><li>19.1100860871688</li><li>16.4367813906008</li><li>21.0933751458771</li><li>19.4402352840202</li><li>20.933550703005</li><li>16.4597440636849</li><li>22.1210012705814</li><li>20.116941863017</li><li>22.9246890268749</li><li>20.5784613847546</li><li>20.0429407998811</li><li>17.6843465204375</li><li>20.4738307768122</li><li>25.600515429543</li><li>21.9793960343135</li><li>19.728445201889</li><li>20.5680244108041</li><li>19.2347828199671</li><li>21.9480032553219</li><li>20.4295569917992</li><li>17.0611892786507</li><li>20.1248890891035</li><li>20.7370318951235</li><li>20.3256802057143</li><li>18.986980864525</li></ol>\n"
      ],
      "text/latex": [
       "\\begin{enumerate*}\n",
       "\\item 19.0280810379059\n",
       "\\item 21.8661140831829\n",
       "\\item 22.2473181169656\n",
       "\\item 20.5031014428566\n",
       "\\item 19.8164933942523\n",
       "\\item 19.9870132743533\n",
       "\\item 21.8493893612376\n",
       "\\item 18.1173060161981\n",
       "\\item 25.9322853225246\n",
       "\\item 19.939016235917\n",
       "\\item 22.7215124937449\n",
       "\\item 22.7665577634401\n",
       "\\item 22.1723616285098\n",
       "\\item 23.7468828395624\n",
       "\\item 15.9804996708942\n",
       "\\item 17.2589828429937\n",
       "\\item 22.8380809606398\n",
       "\\item 16.6408904991923\n",
       "\\item 18.5992128768622\n",
       "\\item 24.4782427686514\n",
       "\\item 21.3464116044227\n",
       "\\item 22.398879290216\n",
       "\\item 19.9682345835444\n",
       "\\item 16.7627177193976\n",
       "\\item 17.0233085194541\n",
       "\\item 17.8359260580256\n",
       "\\item 26.8200107452356\n",
       "\\item 15.6340007531409\n",
       "\\item 25.5614440177223\n",
       "\\item 19.7390801824458\n",
       "\\item 18.999306522841\n",
       "\\item 21.7640945813385\n",
       "\\item 22.2241587485288\n",
       "\\item 21.0207491541506\n",
       "\\item 19.5555709958923\n",
       "\\item 19.4434790470021\n",
       "\\item 21.1432507717131\n",
       "\\item 16.5273383439424\n",
       "\\item 20.1510880727243\n",
       "\\item 19.5205586741348\n",
       "\\item 23.2621644430626\n",
       "\\item 15.2427502582528\n",
       "\\item 21.7216493453332\n",
       "\\item 22.3186545672047\n",
       "\\item 16.1940291297594\n",
       "\\item 27.0583761377686\n",
       "\\item 18.8071486329904\n",
       "\\item 21.0935870743362\n",
       "\\item 19.1100860871688\n",
       "\\item 16.4367813906008\n",
       "\\item 21.0933751458771\n",
       "\\item 19.4402352840202\n",
       "\\item 20.933550703005\n",
       "\\item 16.4597440636849\n",
       "\\item 22.1210012705814\n",
       "\\item 20.116941863017\n",
       "\\item 22.9246890268749\n",
       "\\item 20.5784613847546\n",
       "\\item 20.0429407998811\n",
       "\\item 17.6843465204375\n",
       "\\item 20.4738307768122\n",
       "\\item 25.600515429543\n",
       "\\item 21.9793960343135\n",
       "\\item 19.728445201889\n",
       "\\item 20.5680244108041\n",
       "\\item 19.2347828199671\n",
       "\\item 21.9480032553219\n",
       "\\item 20.4295569917992\n",
       "\\item 17.0611892786507\n",
       "\\item 20.1248890891035\n",
       "\\item 20.7370318951235\n",
       "\\item 20.3256802057143\n",
       "\\item 18.986980864525\n",
       "\\end{enumerate*}\n"
      ],
      "text/markdown": [
       "1. 19.0280810379059\n",
       "2. 21.8661140831829\n",
       "3. 22.2473181169656\n",
       "4. 20.5031014428566\n",
       "5. 19.8164933942523\n",
       "6. 19.9870132743533\n",
       "7. 21.8493893612376\n",
       "8. 18.1173060161981\n",
       "9. 25.9322853225246\n",
       "10. 19.939016235917\n",
       "11. 22.7215124937449\n",
       "12. 22.7665577634401\n",
       "13. 22.1723616285098\n",
       "14. 23.7468828395624\n",
       "15. 15.9804996708942\n",
       "16. 17.2589828429937\n",
       "17. 22.8380809606398\n",
       "18. 16.6408904991923\n",
       "19. 18.5992128768622\n",
       "20. 24.4782427686514\n",
       "21. 21.3464116044227\n",
       "22. 22.398879290216\n",
       "23. 19.9682345835444\n",
       "24. 16.7627177193976\n",
       "25. 17.0233085194541\n",
       "26. 17.8359260580256\n",
       "27. 26.8200107452356\n",
       "28. 15.6340007531409\n",
       "29. 25.5614440177223\n",
       "30. 19.7390801824458\n",
       "31. 18.999306522841\n",
       "32. 21.7640945813385\n",
       "33. 22.2241587485288\n",
       "34. 21.0207491541506\n",
       "35. 19.5555709958923\n",
       "36. 19.4434790470021\n",
       "37. 21.1432507717131\n",
       "38. 16.5273383439424\n",
       "39. 20.1510880727243\n",
       "40. 19.5205586741348\n",
       "41. 23.2621644430626\n",
       "42. 15.2427502582528\n",
       "43. 21.7216493453332\n",
       "44. 22.3186545672047\n",
       "45. 16.1940291297594\n",
       "46. 27.0583761377686\n",
       "47. 18.8071486329904\n",
       "48. 21.0935870743362\n",
       "49. 19.1100860871688\n",
       "50. 16.4367813906008\n",
       "51. 21.0933751458771\n",
       "52. 19.4402352840202\n",
       "53. 20.933550703005\n",
       "54. 16.4597440636849\n",
       "55. 22.1210012705814\n",
       "56. 20.116941863017\n",
       "57. 22.9246890268749\n",
       "58. 20.5784613847546\n",
       "59. 20.0429407998811\n",
       "60. 17.6843465204375\n",
       "61. 20.4738307768122\n",
       "62. 25.600515429543\n",
       "63. 21.9793960343135\n",
       "64. 19.728445201889\n",
       "65. 20.5680244108041\n",
       "66. 19.2347828199671\n",
       "67. 21.9480032553219\n",
       "68. 20.4295569917992\n",
       "69. 17.0611892786507\n",
       "70. 20.1248890891035\n",
       "71. 20.7370318951235\n",
       "72. 20.3256802057143\n",
       "73. 18.986980864525\n",
       "\n",
       "\n"
      ],
      "text/plain": [
       " [1] 19.02808 21.86611 22.24732 20.50310 19.81649 19.98701 21.84939 18.11731\n",
       " [9] 25.93229 19.93902 22.72151 22.76656 22.17236 23.74688 15.98050 17.25898\n",
       "[17] 22.83808 16.64089 18.59921 24.47824 21.34641 22.39888 19.96823 16.76272\n",
       "[25] 17.02331 17.83593 26.82001 15.63400 25.56144 19.73908 18.99931 21.76409\n",
       "[33] 22.22416 21.02075 19.55557 19.44348 21.14325 16.52734 20.15109 19.52056\n",
       "[41] 23.26216 15.24275 21.72165 22.31865 16.19403 27.05838 18.80715 21.09359\n",
       "[49] 19.11009 16.43678 21.09338 19.44024 20.93355 16.45974 22.12100 20.11694\n",
       "[57] 22.92469 20.57846 20.04294 17.68435 20.47383 25.60052 21.97940 19.72845\n",
       "[65] 20.56802 19.23478 21.94800 20.42956 17.06119 20.12489 20.73703 20.32568\n",
       "[73] 18.98698"
      ]
     },
     "metadata": {},
     "output_type": "display_data"
    },
    {
     "data": {
      "text/html": [
       "20.4077779506567"
      ],
      "text/latex": [
       "20.4077779506567"
      ],
      "text/markdown": [
       "20.4077779506567"
      ],
      "text/plain": [
       "[1] 20.40778"
      ]
     },
     "metadata": {},
     "output_type": "display_data"
    }
   ],
   "source": [
    "mysample = rnorm(73, 20, sqrt(8.6))\n",
    "mysample\n",
    "mean(mysample)"
   ]
  },
  {
   "cell_type": "code",
   "execution_count": 6,
   "metadata": {
    "vscode": {
     "languageId": "r"
    }
   },
   "outputs": [
    {
     "data": {
      "text/html": [
       "-1.64485362695147"
      ],
      "text/latex": [
       "-1.64485362695147"
      ],
      "text/markdown": [
       "-1.64485362695147"
      ],
      "text/plain": [
       "[1] -1.644854"
      ]
     },
     "metadata": {},
     "output_type": "display_data"
    }
   ],
   "source": [
    "qnorm(0.05)"
   ]
  },
  {
   "cell_type": "code",
   "execution_count": 12,
   "metadata": {
    "vscode": {
     "languageId": "r"
    }
   },
   "outputs": [
    {
     "data": {
      "text/html": [
       "13.7959566588008"
      ],
      "text/latex": [
       "13.7959566588008"
      ],
      "text/markdown": [
       "13.7959566588008"
      ],
      "text/plain": [
       "[1] 13.79596"
      ]
     },
     "metadata": {},
     "output_type": "display_data"
    }
   ],
   "source": [
    "15+(qnorm(0.05)*(sqrt(6.43)/sqrt(12)))"
   ]
  },
  {
   "cell_type": "code",
   "execution_count": 9,
   "metadata": {
    "vscode": {
     "languageId": "r"
    }
   },
   "outputs": [
    {
     "data": {
      "text/html": [
       "-2.32634787404084"
      ],
      "text/latex": [
       "-2.32634787404084"
      ],
      "text/markdown": [
       "-2.32634787404084"
      ],
      "text/plain": [
       "[1] -2.326348"
      ]
     },
     "metadata": {},
     "output_type": "display_data"
    }
   ],
   "source": [
    "qnorm(0.01)"
   ]
  },
  {
   "cell_type": "code",
   "execution_count": 13,
   "metadata": {
    "vscode": {
     "languageId": "r"
    }
   },
   "outputs": [
    {
     "data": {
      "text/html": [
       "48.0778865976224"
      ],
      "text/latex": [
       "48.0778865976224"
      ],
      "text/markdown": [
       "48.0778865976224"
      ],
      "text/plain": [
       "[1] 48.07789"
      ]
     },
     "metadata": {},
     "output_type": "display_data"
    }
   ],
   "source": [
    "50+(qnorm(0.01)*(3.2/sqrt(15)))"
   ]
  },
  {
   "cell_type": "code",
   "execution_count": 17,
   "metadata": {
    "vscode": {
     "languageId": "r"
    }
   },
   "outputs": [
    {
     "data": {
      "text/html": [
       "13.7959566588008"
      ],
      "text/latex": [
       "13.7959566588008"
      ],
      "text/markdown": [
       "13.7959566588008"
      ],
      "text/plain": [
       "[1] 13.79596"
      ]
     },
     "metadata": {},
     "output_type": "display_data"
    }
   ],
   "source": [
    "15+(qnorm(0.05)*(sqrt(6.43/12)))"
   ]
  },
  {
   "cell_type": "code",
   "execution_count": 18,
   "metadata": {
    "vscode": {
     "languageId": "r"
    }
   },
   "outputs": [
    {
     "data": {
      "text/html": [
       "48.0778865976224"
      ],
      "text/latex": [
       "48.0778865976224"
      ],
      "text/markdown": [
       "48.0778865976224"
      ],
      "text/plain": [
       "[1] 48.07789"
      ]
     },
     "metadata": {},
     "output_type": "display_data"
    }
   ],
   "source": [
    "50+(qnorm(0.01)*(3.2/sqrt(15)))"
   ]
  }
 ],
 "metadata": {
  "kernelspec": {
   "display_name": "R",
   "language": "R",
   "name": "ir"
  },
  "language_info": {
   "codemirror_mode": "r",
   "file_extension": ".r",
   "mimetype": "text/x-r-source",
   "name": "R",
   "pygments_lexer": "r",
   "version": "4.4.3"
  }
 },
 "nbformat": 4,
 "nbformat_minor": 4
}
