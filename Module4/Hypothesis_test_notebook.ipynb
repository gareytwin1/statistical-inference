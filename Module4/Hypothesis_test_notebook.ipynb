{
 "cells": [
  {
   "cell_type": "code",
   "execution_count": 15,
   "id": "e1b09cf1",
   "metadata": {
    "vscode": {
     "languageId": "r"
    }
   },
   "outputs": [
    {
     "data": {
      "text/html": [
       "-2.26778683805537"
      ],
      "text/latex": [
       "-2.26778683805537"
      ],
      "text/markdown": [
       "-2.26778683805537"
      ],
      "text/plain": [
       "[1] -2.267787"
      ]
     },
     "metadata": {},
     "output_type": "display_data"
    },
    {
     "data": {
      "text/html": [
       "0.0495419929614544"
      ],
      "text/latex": [
       "0.0495419929614544"
      ],
      "text/markdown": [
       "0.0495419929614544"
      ],
      "text/plain": [
       "[1] 0.04954199"
      ]
     },
     "metadata": {},
     "output_type": "display_data"
    }
   ],
   "source": [
    "mu = 40\n",
    "n = 10\n",
    "xbar = 38.8\n",
    "var = 2.8\n",
    "\n",
    "t_stat = (xbar - mu) / sqrt(var/n)\n",
    "t_stat\n",
    "\n",
    "p_value = 2*pt(t_stat, df=n-1)\n",
    "p_value"
   ]
  },
  {
   "cell_type": "code",
   "execution_count": 2,
   "id": "598a9a65",
   "metadata": {
    "vscode": {
     "languageId": "r"
    }
   },
   "outputs": [
    {
     "data": {
      "text/html": [
       "2.19771928883031"
      ],
      "text/latex": [
       "2.19771928883031"
      ],
      "text/markdown": [
       "2.19771928883031"
      ],
      "text/plain": [
       "[1] 2.197719"
      ]
     },
     "metadata": {},
     "output_type": "display_data"
    },
    {
     "data": {
      "text/html": [
       "0.022646742498007"
      ],
      "text/latex": [
       "0.022646742498007"
      ],
      "text/markdown": [
       "0.022646742498007"
      ],
      "text/plain": [
       "[1] 0.02264674"
      ]
     },
     "metadata": {},
     "output_type": "display_data"
    },
    {
     "data": {
      "text/html": [
       "1.76131013577489"
      ],
      "text/latex": [
       "1.76131013577489"
      ],
      "text/markdown": [
       "1.76131013577489"
      ],
      "text/plain": [
       "[1] 1.76131"
      ]
     },
     "metadata": {},
     "output_type": "display_data"
    }
   ],
   "source": [
    "n = 15\n",
    "xbar = 53.87\n",
    "mu = 50\n",
    "sigma = 6.82\n",
    "alpha = 0.05\n",
    "df = 14\n",
    "\n",
    "t_stat = (xbar - mu) / (sigma/sqrt(n))\n",
    "t_stat\n",
    "\n",
    "p_value = 1 - pt(t_stat, df = df)\n",
    "p_value\n",
    "\n",
    "t_value = qt(0.95, df = df)\n",
    "t_value\n"
   ]
  },
  {
   "cell_type": "code",
   "execution_count": 3,
   "id": "2dda5ccd",
   "metadata": {
    "vscode": {
     "languageId": "r"
    }
   },
   "outputs": [
    {
     "data": {
      "text/html": [
       "3.29"
      ],
      "text/latex": [
       "3.29"
      ],
      "text/markdown": [
       "3.29"
      ],
      "text/plain": [
       "[1] 3.29"
      ]
     },
     "metadata": {},
     "output_type": "display_data"
    }
   ],
   "source": [
    "A_size = 120\n",
    "A_mean = 4.1\n",
    "A_sigma = 2.1\n",
    "\n",
    "B_size = 100\n",
    "B_mean = 3.3\n",
    "B_sigma = 1.5\n",
    "\n",
    "t_stat = (A_mean - B_mean) / sqrt((A_sigma^2 / A_size) + (B_sigma^2 / B_size))\n",
    "t_stat = round(t_stat, 2)\n",
    "t_stat"
   ]
  },
  {
   "cell_type": "code",
   "execution_count": 16,
   "id": "ea1abc5d",
   "metadata": {
    "vscode": {
     "languageId": "r"
    }
   },
   "outputs": [
    {
     "data": {
      "text/html": [
       "1.95996398454005"
      ],
      "text/latex": [
       "1.95996398454005"
      ],
      "text/markdown": [
       "1.95996398454005"
      ],
      "text/plain": [
       "[1] 1.959964"
      ]
     },
     "metadata": {},
     "output_type": "display_data"
    }
   ],
   "source": [
    "alpha = 0.05\n",
    "qnorm(1 - alpha/2)"
   ]
  },
  {
   "cell_type": "code",
   "execution_count": null,
   "id": "f418ee8b",
   "metadata": {
    "vscode": {
     "languageId": "r"
    }
   },
   "outputs": [],
   "source": []
  }
 ],
 "metadata": {
  "kernelspec": {
   "display_name": "R",
   "language": "R",
   "name": "ir"
  },
  "language_info": {
   "codemirror_mode": "r",
   "file_extension": ".r",
   "mimetype": "text/x-r-source",
   "name": "R",
   "pygments_lexer": "r",
   "version": "4.4.3"
  }
 },
 "nbformat": 4,
 "nbformat_minor": 5
}
