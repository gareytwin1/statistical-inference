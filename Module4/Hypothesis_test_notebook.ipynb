{
 "cells": [
  {
   "cell_type": "code",
   "execution_count": 1,
   "id": "e1b09cf1",
   "metadata": {
    "vscode": {
     "languageId": "r"
    }
   },
   "outputs": [
    {
     "data": {
      "text/html": [
       "0.0233422020128904"
      ],
      "text/latex": [
       "0.0233422020128904"
      ],
      "text/markdown": [
       "0.0233422020128904"
      ],
      "text/plain": [
       "[1] 0.0233422"
      ]
     },
     "metadata": {},
     "output_type": "display_data"
    }
   ],
   "source": [
    "mu = 40\n",
    "n = 10\n",
    "xbar = 38.8\n",
    "var = 2.8\n",
    "\n",
    "z = (xbar - mu) / sqrt(var/n)\n",
    "\n",
    "p_value = 2*(1-pnorm(abs(z)))\n",
    "p_value"
   ]
  },
  {
   "cell_type": "code",
   "execution_count": 17,
   "id": "598a9a65",
   "metadata": {
    "vscode": {
     "languageId": "r"
    }
   },
   "outputs": [
    {
     "data": {
      "text/html": [
       "2.19771928883031"
      ],
      "text/latex": [
       "2.19771928883031"
      ],
      "text/markdown": [
       "2.19771928883031"
      ],
      "text/plain": [
       "[1] 2.197719"
      ]
     },
     "metadata": {},
     "output_type": "display_data"
    },
    {
     "data": {
      "text/html": [
       "0.022646742498007"
      ],
      "text/latex": [
       "0.022646742498007"
      ],
      "text/markdown": [
       "0.022646742498007"
      ],
      "text/plain": [
       "[1] 0.02264674"
      ]
     },
     "metadata": {},
     "output_type": "display_data"
    },
    {
     "data": {
      "text/html": [
       "-1.76131013577489"
      ],
      "text/latex": [
       "-1.76131013577489"
      ],
      "text/markdown": [
       "-1.76131013577489"
      ],
      "text/plain": [
       "[1] -1.76131"
      ]
     },
     "metadata": {},
     "output_type": "display_data"
    }
   ],
   "source": [
    "n = 15\n",
    "xbar = 53.87\n",
    "mu = 50\n",
    "sigma = 6.82\n",
    "alpha = 0.05\n",
    "\n",
    "t_stat = (xbar - mu) / (sigma/sqrt(n))\n",
    "t_stat\n",
    "\n",
    "p_value = pt(t_stat, df = n-1, lower.tail = FALSE)\n",
    "p_value\n",
    "\n",
    "t_value = qt(1-alpha, df = n-1, lower.tail = FALSE)\n",
    "t_value\n"
   ]
  },
  {
   "cell_type": "code",
   "execution_count": null,
   "id": "2dda5ccd",
   "metadata": {
    "vscode": {
     "languageId": "r"
    }
   },
   "outputs": [],
   "source": []
  }
 ],
 "metadata": {
  "kernelspec": {
   "display_name": "R",
   "language": "R",
   "name": "ir"
  },
  "language_info": {
   "codemirror_mode": "r",
   "file_extension": ".r",
   "mimetype": "text/x-r-source",
   "name": "R",
   "pygments_lexer": "r",
   "version": "4.4.3"
  }
 },
 "nbformat": 4,
 "nbformat_minor": 5
}
