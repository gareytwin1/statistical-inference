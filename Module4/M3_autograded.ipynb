{
 "cells": [
  {
   "cell_type": "markdown",
   "metadata": {
    "deletable": false,
    "editable": false,
    "nbgrader": {
     "cell_type": "markdown",
     "checksum": "77e3b2cfdd7a77d5755c1a649e16bce6",
     "grade": false,
     "grade_id": "cell-3aaef261cc35e90e",
     "locked": true,
     "schema_version": 3,
     "solution": false,
     "task": false
    }
   },
   "source": [
    "# Problem 1\n",
    "\n",
    "For each of the following questions, decide which of the following tests would be most appropriate.\n",
    "\n",
    "1. z-test\n",
    "2. t-test\n",
    "3. The test is not possible.\n",
    "\n",
    "For each answer, save the **integer** corresponding to the correct answer."
   ]
  },
  {
   "cell_type": "markdown",
   "metadata": {
    "deletable": false,
    "editable": false,
    "nbgrader": {
     "cell_type": "markdown",
     "checksum": "2a7bd25e2d8d838ae9a186538298bd73",
     "grade": false,
     "grade_id": "cell-afbb2e202d1fddf9",
     "locked": true,
     "schema_version": 3,
     "solution": false,
     "task": false
    }
   },
   "source": [
    "**Part A)** You are measuring the average calorie intake across teenage boys and teenage girls. You get two samples, one of boys and one of girls. The sample of boys has 12 participants, and leads to a sample mean of 2637 calories with a sample standard deviation of 1138. The sample of girls has 11 participants, has a sample mean of 2258 calories and a sample standard deviation of 1519. At an $\\alpha = 0.05$ significance level, do boys consume more than girls by at least 200 calories per day? Assume that the sampling distribution is normal.\n",
    "\n",
    "Select the **integer** of the test should be used for this situation. Save your answer as `p1.a`."
   ]
  },
  {
   "cell_type": "code",
   "execution_count": 16,
   "metadata": {
    "deletable": false,
    "nbgrader": {
     "cell_type": "code",
     "checksum": "ecda5225f000a77f6cfabc0246e4e707",
     "grade": false,
     "grade_id": "cell-e330c87ceae41b6e",
     "locked": false,
     "schema_version": 3,
     "solution": true,
     "task": false
    },
    "vscode": {
     "languageId": "r"
    }
   },
   "outputs": [],
   "source": [
    "p1.a = 2\n",
    "\n",
    "# your code here\n"
   ]
  },
  {
   "cell_type": "markdown",
   "metadata": {
    "deletable": false,
    "editable": false,
    "nbgrader": {
     "cell_type": "markdown",
     "checksum": "6763edfcff733ce945ae29b204dae34d",
     "grade": false,
     "grade_id": "cell-1fc13ea18e063f9e",
     "locked": true,
     "schema_version": 3,
     "solution": false,
     "task": false
    }
   },
   "source": [
    "**Part B)** You repeat the same experiment as **Part A)**, but have more time to collect larger sample sizes. The sample of boys has a sample size of 63, with a sample mean of 2663 calories and a sample standard deviation of 895. The sample of girls has a sample size of 71, with a sample mean of 2190 with a sample standard deviation of 1448. At an $\\alpha=0.05$ significance level, do boys consume more than girls by at least 200 calories per day? Assume that the sampling distribution is normal.\n",
    "\n",
    "Select the **integer** of the test should be used for this situation. Save your answer as `p1.b`."
   ]
  },
  {
   "cell_type": "code",
   "execution_count": 17,
   "metadata": {
    "deletable": false,
    "nbgrader": {
     "cell_type": "code",
     "checksum": "8e66cde96f26ee602932d85d005717dd",
     "grade": false,
     "grade_id": "cell-0175c858f25222cd",
     "locked": false,
     "schema_version": 3,
     "solution": true,
     "task": false
    },
    "vscode": {
     "languageId": "r"
    }
   },
   "outputs": [],
   "source": [
    "p1.b = 1\n",
    "\n",
    "# your code here\n"
   ]
  },
  {
   "cell_type": "markdown",
   "metadata": {
    "deletable": false,
    "editable": false,
    "nbgrader": {
     "cell_type": "markdown",
     "checksum": "e332261d4c860b2f9521cb2c8f180e27",
     "grade": false,
     "grade_id": "cell-b3453097f07ad22c",
     "locked": true,
     "schema_version": 3,
     "solution": false,
     "task": false
    }
   },
   "source": [
    "**Part C)** You spend some more time analyzing the data from **Part B**, and eventually come to the conclusion that the sampling distribution is not normal, it actually follows a Gamma distribution.\n",
    "\n",
    "Select the **integer** corresponding to the test should be used for this situation. Save your answer as `p1.c`."
   ]
  },
  {
   "cell_type": "code",
   "execution_count": 18,
   "metadata": {
    "deletable": false,
    "nbgrader": {
     "cell_type": "code",
     "checksum": "1af7e63b6f18b4a9b03a39bf56567cf2",
     "grade": false,
     "grade_id": "cell-a131970d8b019c11",
     "locked": false,
     "schema_version": 3,
     "solution": true,
     "task": false
    },
    "vscode": {
     "languageId": "r"
    }
   },
   "outputs": [],
   "source": [
    "p1.c = 3\n",
    "\n",
    "# your code here\n"
   ]
  },
  {
   "cell_type": "markdown",
   "metadata": {
    "nbgrader": {
     "grade": false,
     "grade_id": "cell-aec291ad54398494",
     "locked": false,
     "schema_version": 3,
     "solution": false,
     "task": false
    }
   },
   "source": [
    "**Part D)** Suppose that in an alternate universe, instead of spending time gathering a larger sample, you spent that time researching the \"true\" distributions of teenagers' calorie consumption. In that research, you found that boys have a true standard deviation of 932 calories and girls have a true standard deviation of 1071 calories. You have the same sample values as in **Part A)**.\n",
    "\n",
    "Select the **integer** of the test should be used for this situation. Save your answer as `p1.d`."
   ]
  },
  {
   "cell_type": "code",
   "execution_count": 19,
   "metadata": {
    "deletable": false,
    "nbgrader": {
     "cell_type": "code",
     "checksum": "201765e92c987cd20862ec6126a6fda3",
     "grade": false,
     "grade_id": "cell-08758811f5ea39bd",
     "locked": false,
     "schema_version": 3,
     "solution": true,
     "task": false
    },
    "vscode": {
     "languageId": "r"
    }
   },
   "outputs": [],
   "source": [
    "p1.d = 1\n",
    "\n",
    "# your code here\n"
   ]
  },
  {
   "cell_type": "markdown",
   "metadata": {
    "deletable": false,
    "editable": false,
    "nbgrader": {
     "cell_type": "markdown",
     "checksum": "34d9332743165f7bd077c4bbe7db7118",
     "grade": false,
     "grade_id": "cell-d1f96a186d3cf66d",
     "locked": true,
     "schema_version": 3,
     "solution": false,
     "task": false
    }
   },
   "source": [
    "# Problem 2\n",
    "\n",
    "Recently, Ralphie has been feeling sluggish during her regular \"Running With Ralphie\" event. She knows there are things that she could do to potentially improve her responsiveness, such as drinking coffee or taking a nap, but she wants to be sure. Being the Data Scientist that she is, she decides to create a experiment to test whether the different situations actually improve her reaction time. For each method, she does as the method requires, and a few hours later she has her handlers record her reaction time. These values are recorded in the `nap` and `coffee` variables. She tested the coffee method 10 times and the nap method 12 times. \n",
    "\n",
    "Ralphie also knows, from her supreme buffalo intuition, that her average reaction time is 490 units and that her reaction time measurements are normally distributed."
   ]
  },
  {
   "cell_type": "code",
   "execution_count": 20,
   "metadata": {
    "deletable": false,
    "editable": false,
    "nbgrader": {
     "cell_type": "code",
     "checksum": "62e008535d4483e57dc360a60cd92152",
     "grade": false,
     "grade_id": "cell-d6d4978e219bd91b",
     "locked": true,
     "schema_version": 3,
     "solution": false,
     "task": false
    },
    "vscode": {
     "languageId": "r"
    }
   },
   "outputs": [],
   "source": [
    "# Sample size of each test\n",
    "n.coffee = 10\n",
    "n.nap = 12\n",
    "# The reaction time data for each method\n",
    "coffee = c(485.77, 490.86, 460.79, 528.74, 483.47, 526.24, 504.78, 460.7, 587.08, 484.13)\n",
    "nap = c(598.15, 518.69, 601.49, 598.62, 555.73, 458, 488.57, 520.26, 534.71, 655.23, 573.18, 495.05)"
   ]
  },
  {
   "cell_type": "markdown",
   "metadata": {
    "deletable": false,
    "editable": false,
    "nbgrader": {
     "cell_type": "markdown",
     "checksum": "33a950da17f1202d044b07047429fd1c",
     "grade": false,
     "grade_id": "cell-36947eaa18b513bb",
     "locked": true,
     "schema_version": 3,
     "solution": false,
     "task": false
    }
   },
   "source": [
    "**Part A)** Determine, at the $\\alpha=0.05$ significance level, if drinking coffee improved Ralphie's reaction time. For this, you will need to calculate an appropriate test statistic. Store this value as `p2.a.stat` and round the value to two decimal places. Then calculate the p-value for this test statistic. Store this value in `p2.a.p` and round it to two decimal places.\n",
    "\n",
    "Hint: Think about whether \"improvement\" means a faster (shorter) or slower (longer) reaction times compared to Ralphie’s usual average of 490 units. "
   ]
  },
  {
   "cell_type": "code",
   "execution_count": 21,
   "metadata": {
    "deletable": false,
    "nbgrader": {
     "cell_type": "code",
     "checksum": "9597e03b25a77bf3a31105b2ccf7576f",
     "grade": false,
     "grade_id": "cell-6b2d5d055be66e34",
     "locked": false,
     "schema_version": 3,
     "solution": true,
     "task": false
    },
    "vscode": {
     "languageId": "r"
    }
   },
   "outputs": [
    {
     "data": {
      "text/html": [
       "0.94"
      ],
      "text/latex": [
       "0.94"
      ],
      "text/markdown": [
       "0.94"
      ],
      "text/plain": [
       "[1] 0.94"
      ]
     },
     "metadata": {},
     "output_type": "display_data"
    },
    {
     "data": {
      "text/html": [
       "0.8133"
      ],
      "text/latex": [
       "0.8133"
      ],
      "text/markdown": [
       "0.8133"
      ],
      "text/plain": [
       "[1] 0.8133"
      ]
     },
     "metadata": {},
     "output_type": "display_data"
    }
   ],
   "source": [
    "p2.a.stat = NA\n",
    "p2.a.p = NA\n",
    "alpha = 0.05\n",
    "mu = 490\n",
    "sigma = sd(coffee)\n",
    "n = n.coffee\n",
    "xbar = mean(coffee)\n",
    "\n",
    "t_stat = (xbar - mu)/(sigma/sqrt(n))\n",
    "p_value = pt(t_stat, df = n - 1, lower.tail = TRUE)\n",
    "\n",
    "p2.a.stat = round(t_stat, 2)\n",
    "p2.a.p = round(p_value, 4)\n",
    "p2.a.stat\n",
    "p2.a.p\n"
   ]
  },
  {
   "cell_type": "code",
   "execution_count": 22,
   "metadata": {
    "vscode": {
     "languageId": "r"
    }
   },
   "outputs": [
    {
     "data": {
      "text/plain": [
       "\n",
       "\tOne Sample t-test\n",
       "\n",
       "data:  coffee\n",
       "t = 0.93664, df = 9, p-value = 0.8133\n",
       "alternative hypothesis: true mean is less than 490\n",
       "95 percent confidence interval:\n",
       "     -Inf 523.2852\n",
       "sample estimates:\n",
       "mean of x \n",
       "  501.256 \n"
      ]
     },
     "metadata": {},
     "output_type": "display_data"
    }
   ],
   "source": [
    "\n",
    "t.test(coffee, mu = 490, alternative = \"less\")\n"
   ]
  },
  {
   "cell_type": "markdown",
   "metadata": {
    "deletable": false,
    "editable": false,
    "nbgrader": {
     "cell_type": "markdown",
     "checksum": "4e96742b44b8f2c352e2c2191832a07c",
     "grade": false,
     "grade_id": "cell-1af4e006a6db0e17",
     "locked": true,
     "schema_version": 3,
     "solution": false,
     "task": false
    }
   },
   "source": [
    "**Part B)** Based on your answers to **Part A**, does drinking coffee improve Ralphie's reaction time at the $\\alpha=0.05$ significance level? Your answer should be the boolean `TRUE` if coffee improves her reaction time, and `FALSE` if it does not. Save your answer into variable `p2.b`. "
   ]
  },
  {
   "cell_type": "code",
   "execution_count": 23,
   "metadata": {
    "deletable": false,
    "nbgrader": {
     "cell_type": "code",
     "checksum": "62d7c3b8e1a7cc15b45de00557060d39",
     "grade": false,
     "grade_id": "cell-eda781839d124033",
     "locked": false,
     "schema_version": 3,
     "solution": true,
     "task": false
    },
    "vscode": {
     "languageId": "r"
    }
   },
   "outputs": [],
   "source": [
    "p2.b = FALSE\n",
    "\n",
    "# your code here\n"
   ]
  },
  {
   "cell_type": "markdown",
   "metadata": {
    "deletable": false,
    "editable": false,
    "nbgrader": {
     "cell_type": "markdown",
     "checksum": "64f97cdab00de1ed9521d7ce7736b568",
     "grade": false,
     "grade_id": "cell-c60380cdb9470735",
     "locked": true,
     "schema_version": 3,
     "solution": false,
     "task": false
    }
   },
   "source": [
    "**Part C)** Assuming that the true (unknown) variances for nap and coffee reaction times are equal, determine if there sufficient evidence, at the $\\alpha = 0.05$ significance level, to conclude that taking a nap promotes faster reaction time than drinking coffee. Again, calculate an appropriate test statistic and save it into variable `p2.c.stat`. Round this value to two decimal places. Then calculate the p-value for this test statistic and save it into variable `p2.c.p`. Round this value to three decimal places."
   ]
  },
  {
   "cell_type": "code",
   "execution_count": 24,
   "metadata": {
    "deletable": false,
    "nbgrader": {
     "cell_type": "code",
     "checksum": "75ca3e6f05991266df716b61f4da839b",
     "grade": false,
     "grade_id": "cell-2be7993e9ecdfcd1",
     "locked": false,
     "schema_version": 3,
     "solution": true,
     "task": false
    },
    "vscode": {
     "languageId": "r"
    }
   },
   "outputs": [],
   "source": [
    "p2.c.stat = NA\n",
    "p2.c.p = NA\n",
    "\n",
    "# your code here\n",
    "\n"
   ]
  },
  {
   "cell_type": "markdown",
   "metadata": {
    "deletable": false,
    "editable": false,
    "nbgrader": {
     "cell_type": "markdown",
     "checksum": "74711f58a55e71d673ca2e88189b3ed0",
     "grade": false,
     "grade_id": "cell-79be6ff01c7116c2",
     "locked": true,
     "schema_version": 3,
     "solution": false,
     "task": false
    }
   },
   "source": [
    "**Part D)** Based on your answers to **Part C)**, is there sufficient evidence at the $\\alpha = 0.05$ significance level to conclude that taking a nap promotes faster reaction time in Ralphie than drinking coffee? Save your answer into variable `p2.d`. Save the boolean value `TRUE` if naps do result in Ralphie having a statistically significant faster reaction time than coffee, and `FALSE` otherwise."
   ]
  },
  {
   "cell_type": "code",
   "execution_count": 25,
   "metadata": {
    "deletable": false,
    "nbgrader": {
     "cell_type": "code",
     "checksum": "036c12b354db25004654c1c8988968a2",
     "grade": false,
     "grade_id": "cell-28f7898baba1b97b",
     "locked": false,
     "schema_version": 3,
     "solution": true,
     "task": false
    },
    "vscode": {
     "languageId": "r"
    }
   },
   "outputs": [],
   "source": [
    "p2.d = NA\n",
    "\n",
    "# your code here\n"
   ]
  }
 ],
 "metadata": {
  "kernelspec": {
   "display_name": "R",
   "language": "R",
   "name": "ir"
  },
  "language_info": {
   "codemirror_mode": "r",
   "file_extension": ".r",
   "mimetype": "text/x-r-source",
   "name": "R",
   "pygments_lexer": "r",
   "version": "4.4.3"
  }
 },
 "nbformat": 4,
 "nbformat_minor": 4
}
